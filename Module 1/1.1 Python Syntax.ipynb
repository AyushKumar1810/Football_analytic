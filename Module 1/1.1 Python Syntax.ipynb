{
 "cells": [
  {
   "cell_type": "markdown",
   "id": "1715c7f4",
   "metadata": {},
   "source": [
    "### Indentation\n",
    "\n",
    "In most coding languages, indentation is only used for readability and ease of use, but in Python **indentation matters**\n",
    "\n",
    "Python indentation is usually in 4 spaces or 1 tab."
   ]
  },
  {
   "cell_type": "code",
   "execution_count": 1,
   "id": "6626ca79",
   "metadata": {},
   "outputs": [
    {
     "name": "stdout",
     "output_type": "stream",
     "text": [
      "10 is greater than 7!\n"
     ]
    }
   ],
   "source": [
    "# Good Example:\n",
    "\n",
    "if 10 > 7:\n",
    "    print('10 is greater than 7!')"
   ]
  },
  {
   "cell_type": "code",
   "execution_count": 2,
   "id": "18edb505",
   "metadata": {},
   "outputs": [
    {
     "ename": "IndentationError",
     "evalue": "expected an indented block after 'if' statement on line 2 (370984584.py, line 3)",
     "output_type": "error",
     "traceback": [
      "\u001b[0;36m  Cell \u001b[0;32mIn[2], line 3\u001b[0;36m\u001b[0m\n\u001b[0;31m    print('As you can see there is no indentation')\u001b[0m\n\u001b[0m    ^\u001b[0m\n\u001b[0;31mIndentationError\u001b[0m\u001b[0;31m:\u001b[0m expected an indented block after 'if' statement on line 2\n"
     ]
    }
   ],
   "source": [
    "# Bad Example\n",
    "if 10 > 7:\n",
    "print('As you can see there is no indentation')"
   ]
  },
  {
   "cell_type": "markdown",
   "id": "9b89513b",
   "metadata": {},
   "source": [
    "### Comments\n",
    "\n",
    "If you want to write inline code documentation, you can do so with a comment.\n",
    "\n",
    "To write a single line comment you use a single \"#\" key\n",
    "\n",
    "If you want to write a multi line comment you will do so with three quotes **\"\"\"** followed by your text and then three more quotes **\"\"\"**\n",
    "\n",
    "Comments are not executed code so if you comment your code with the comment notation, your code will not execute."
   ]
  },
  {
   "cell_type": "code",
   "execution_count": 3,
   "id": "1e4c9415",
   "metadata": {},
   "outputs": [
    {
     "name": "stdout",
     "output_type": "stream",
     "text": [
      "Hello\n"
     ]
    }
   ],
   "source": [
    "# This is a single line comment\n",
    "print('Hello')"
   ]
  },
  {
   "cell_type": "code",
   "execution_count": 5,
   "id": "268966e4",
   "metadata": {},
   "outputs": [
    {
     "name": "stdout",
     "output_type": "stream",
     "text": [
      "Hello\n"
     ]
    }
   ],
   "source": [
    "\"\"\"\n",
    "this is a multi line comment\n",
    "I can write as much as i want in this block\n",
    "but it doesn't execute\n",
    "\"\"\"\n",
    "\n",
    "# You \n",
    "# Can \n",
    "# Also\n",
    "# Do\n",
    "# This\n",
    "\n",
    "print('Hello')"
   ]
  },
  {
   "cell_type": "code",
   "execution_count": 6,
   "id": "aab26864",
   "metadata": {},
   "outputs": [],
   "source": [
    "# This is how i can stop code from executing\n",
    "# print('Hello')"
   ]
  },
  {
   "cell_type": "markdown",
   "id": "fc5c5644",
   "metadata": {},
   "source": [
    "### Importing packages\n",
    "\n",
    "In Python, we can import different packages to help us with our coding.\n",
    "\n",
    "The packages are usually code that other people have written and published to the Python ecosystem that we can now use so we don't have to write a bunch of the base code.\n",
    "\n",
    "There's essentially 2 ways to import packages\n",
    "\n",
    "1. a base import of the entire package\n",
    "2. a sub import of only the needed sections of a package (usually is helpful for packages that are large and we only need one thing)\n",
    "\n",
    "Let's take a look at an example of each"
   ]
  },
  {
   "cell_type": "code",
   "execution_count": 9,
   "id": "698e137d",
   "metadata": {},
   "outputs": [],
   "source": [
    "# 1 -> a base import\n",
    "\n",
    "\"\"\"\n",
    "This imports a package called json which allows us to \n",
    "work with JSON data correctly\n",
    "\"\"\"\n",
    "\n",
    "import json\n",
    "\n",
    "\n",
    "# 1.1 -> naming an import\n",
    "\n",
    "\"\"\"\n",
    "Sometimes we may want to rename a package just for the\n",
    "ease of typing it out. We can rename the import using the\n",
    "'as' keyword.\n",
    "\"\"\"\n",
    "\n",
    "import pandas as pd\n",
    "\n"
   ]
  },
  {
   "cell_type": "code",
   "execution_count": 10,
   "id": "d425679c",
   "metadata": {},
   "outputs": [],
   "source": [
    "# 2 -> Importing only a sub section\n",
    "\n",
    "from mplsoccer import Pitch\n",
    "\n",
    "\"\"\"\n",
    "Here we are only importing the Pitch module from mplsoccer\n",
    "\"\"\"\n",
    "\n",
    "# 2.1 -> Multiple modules\n",
    "\n",
    "\"\"\"\n",
    "We can also import multiple sub modules in one line by \n",
    "separating them with a comma\n",
    "\"\"\"\n",
    "\n",
    "from mplsoccer import Pitch, VerticalPitch\n"
   ]
  }
 ],
 "metadata": {
  "kernelspec": {
   "display_name": "Python 3 (ipykernel)",
   "language": "python",
   "name": "python3"
  },
  "language_info": {
   "codemirror_mode": {
    "name": "ipython",
    "version": 3
   },
   "file_extension": ".py",
   "mimetype": "text/x-python",
   "name": "python",
   "nbconvert_exporter": "python",
   "pygments_lexer": "ipython3",
   "version": "3.11.5"
  }
 },
 "nbformat": 4,
 "nbformat_minor": 5
}
