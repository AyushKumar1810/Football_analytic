{
 "cells": [
  {
   "cell_type": "markdown",
   "id": "99c118e0",
   "metadata": {},
   "source": [
    "# Functions\n",
    "\n",
    "A function is a way for us to store a block of code that only runs when it is called.\n",
    "\n",
    "Functions are used so we can avoid writing duplicate code as well as using different variables to execute code.\n",
    "\n",
    "We can pass in different variables and data which are referred to as \"parameters\" to the function to execute based on that data"
   ]
  },
  {
   "cell_type": "code",
   "execution_count": 1,
   "id": "e181c4f5",
   "metadata": {},
   "outputs": [],
   "source": [
    "# we use the def keyword to define a function\n",
    "\n",
    "def sample_function():\n",
    "    print('hello')"
   ]
  },
  {
   "cell_type": "code",
   "execution_count": 2,
   "id": "be9cc919",
   "metadata": {},
   "outputs": [
    {
     "name": "stdout",
     "output_type": "stream",
     "text": [
      "hello\n"
     ]
    }
   ],
   "source": [
    "# As you can see running the code above did not execute\n",
    "# So we have to call our function\n",
    "\n",
    "sample_function()"
   ]
  },
  {
   "cell_type": "markdown",
   "id": "d2d5d32b",
   "metadata": {},
   "source": [
    "### Parameters\n",
    "\n",
    "We can now start to pass information into functions\n",
    "\n",
    "We specify the name of these inside the `()` and you can add none or as many as you want, separated with a comma\n",
    "\n",
    "Whenever you pass in data, it will be assigned to the parameter in the same order, unless you specify which one it is\n",
    "\n",
    "These parameters also will be whatever data type of the data that is passed in"
   ]
  },
  {
   "cell_type": "code",
   "execution_count": 6,
   "id": "1fba5bc5",
   "metadata": {},
   "outputs": [
    {
     "name": "stdout",
     "output_type": "stream",
     "text": [
      "Hello my name is: Lionel\n",
      "Hello my name is: Ronaldo\n",
      "Hello my name is: Pikachu\n"
     ]
    }
   ],
   "source": [
    "def my_function(first_name):\n",
    "    print(f'Hello my name is: {first_name}')\n",
    "    \n",
    "my_function('Lionel')\n",
    "my_function(first_name='Ronaldo')\n",
    "my_function('Pikachu')"
   ]
  },
  {
   "cell_type": "code",
   "execution_count": 7,
   "id": "67c79e27",
   "metadata": {},
   "outputs": [
    {
     "name": "stdout",
     "output_type": "stream",
     "text": [
      "My name is: Lionel Messi\n",
      "I play for Inter Miami\n"
     ]
    }
   ],
   "source": [
    "# Lets try multiple parameters\n",
    "\n",
    "def my_function(first_name, last_name, team):\n",
    "    print(f'My name is: {first_name} {last_name}')\n",
    "    print(f'I play for {team}')\n",
    "    \n",
    "my_function('Lionel', 'Messi', 'Inter Miami')"
   ]
  },
  {
   "cell_type": "markdown",
   "id": "1b367201",
   "metadata": {},
   "source": [
    "### Default parameters\n",
    "\n",
    "We can set paramters to have a default value so they aren't required to execute the function\n",
    "\n",
    "This way if you never pass in a value for that variable, it will have a default value"
   ]
  },
  {
   "cell_type": "code",
   "execution_count": 10,
   "id": "86ee0ed4",
   "metadata": {},
   "outputs": [
    {
     "name": "stdout",
     "output_type": "stream",
     "text": [
      "Manchester United\n",
      "FC Barcelona\n"
     ]
    }
   ],
   "source": [
    "def my_function(team='Manchester United'):\n",
    "    print(team)\n",
    "    \n",
    "# if we dont pass in a variable\n",
    "my_function()\n",
    "\n",
    "# if we pass in a variable\n",
    "my_function('FC Barcelona')"
   ]
  },
  {
   "cell_type": "code",
   "execution_count": 11,
   "id": "2eb5f3aa",
   "metadata": {},
   "outputs": [],
   "source": [
    "# If you are using default values and non default values\n",
    "# The non default values must be defined in the function earlier\n",
    "# than the default values\n",
    "\n",
    "def my_function(name, team, country='Argentina'):\n",
    "    print(name, team, country)"
   ]
  },
  {
   "cell_type": "markdown",
   "id": "be2b362a",
   "metadata": {},
   "source": [
    "### Return values\n",
    "\n",
    "Functions can return data as well after it has exectuted code\n",
    "\n",
    "This helps us to create new variables as well as update variables\n",
    "\n",
    "we do this with the `return` statement"
   ]
  },
  {
   "cell_type": "code",
   "execution_count": 13,
   "id": "c6c9438d",
   "metadata": {},
   "outputs": [
    {
     "name": "stdout",
     "output_type": "stream",
     "text": [
      "1000\n"
     ]
    }
   ],
   "source": [
    "def my_function(x):\n",
    "    return x * 100\n",
    "\n",
    "x = my_function(10)\n",
    "print(x)"
   ]
  }
 ],
 "metadata": {
  "kernelspec": {
   "display_name": "Python 3 (ipykernel)",
   "language": "python",
   "name": "python3"
  },
  "language_info": {
   "codemirror_mode": {
    "name": "ipython",
    "version": 3
   },
   "file_extension": ".py",
   "mimetype": "text/x-python",
   "name": "python",
   "nbconvert_exporter": "python",
   "pygments_lexer": "ipython3",
   "version": "3.11.7"
  }
 },
 "nbformat": 4,
 "nbformat_minor": 5
}
