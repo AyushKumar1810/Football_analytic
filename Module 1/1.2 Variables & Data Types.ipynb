{
 "cells": [
  {
   "cell_type": "markdown",
   "id": "c19ea082",
   "metadata": {},
   "source": [
    "# Variables\n",
    "\n",
    "#### We use variables to store values and data\n",
    "\n",
    "Unlike other programming languages, we don't need to use a command to declare a variable. It is simply created the moment we assign it with the = sign"
   ]
  },
  {
   "cell_type": "code",
   "execution_count": 1,
   "id": "b04bbc59",
   "metadata": {},
   "outputs": [
    {
     "name": "stdout",
     "output_type": "stream",
     "text": [
      "Messi\n"
     ]
    }
   ],
   "source": [
    "x = 'Messi'\n",
    "\n",
    "print(x)"
   ]
  },
  {
   "cell_type": "markdown",
   "id": "ee41ffc0",
   "metadata": {},
   "source": [
    "Variables can also be any type, and they can change at any point.\n",
    "\n",
    "We can also use **casting** to change the type of a variable"
   ]
  },
  {
   "cell_type": "code",
   "execution_count": 2,
   "id": "66f678d5",
   "metadata": {},
   "outputs": [
    {
     "name": "stdout",
     "output_type": "stream",
     "text": [
      "10\n",
      "Messi\n"
     ]
    }
   ],
   "source": [
    "x = 10\n",
    "print(x)\n",
    "\n",
    "x = 'Messi'\n",
    "print(x)"
   ]
  },
  {
   "cell_type": "code",
   "execution_count": 4,
   "id": "b9aab259",
   "metadata": {},
   "outputs": [],
   "source": [
    "x = str(3) # This turns the variable into a string\n",
    "x = int(3) # This turns the variable into an integer\n",
    "x = float(3) # This turns the variable into a float"
   ]
  },
  {
   "cell_type": "markdown",
   "id": "e6dc2dab",
   "metadata": {},
   "source": [
    "You can also check at any point what type of variable it is with the ```type()``` function"
   ]
  },
  {
   "cell_type": "code",
   "execution_count": 5,
   "id": "d9715382",
   "metadata": {},
   "outputs": [
    {
     "data": {
      "text/plain": [
       "int"
      ]
     },
     "execution_count": 5,
     "metadata": {},
     "output_type": "execute_result"
    }
   ],
   "source": [
    "x = 5\n",
    "type(x)"
   ]
  },
  {
   "cell_type": "code",
   "execution_count": 6,
   "id": "ec730a25",
   "metadata": {},
   "outputs": [
    {
     "data": {
      "text/plain": [
       "str"
      ]
     },
     "execution_count": 6,
     "metadata": {},
     "output_type": "execute_result"
    }
   ],
   "source": [
    "x = 'Messi'\n",
    "type(x)"
   ]
  },
  {
   "cell_type": "markdown",
   "id": "636b5e37",
   "metadata": {},
   "source": [
    "The last important piece to note is that they are case-sensitive\n",
    "\n",
    "so \n",
    "\n",
    "```\n",
    "a = 'Messi'\n",
    "A = 'Ronaldo'\n",
    "```\n",
    "\n",
    "creates two different variables which dont overwrite each other"
   ]
  },
  {
   "cell_type": "markdown",
   "id": "298fbe8e",
   "metadata": {},
   "source": [
    "---"
   ]
  },
  {
   "cell_type": "markdown",
   "id": "4ee155d4",
   "metadata": {},
   "source": [
    "# Data Types\n",
    "\n",
    "Python has different data types you need to be aware of\n",
    "\n",
    "1. `Text: str`\n",
    "2. `Numeric: int, float, complex`\n",
    "3. `Sequence: list, tuple, range`\n",
    "4. `Map: dict`\n",
    "5. `Set: set`\n",
    "6. `Boolean: bool` this is basically a true or false\n",
    "7. `Binary: bytes, bytearry, memoryview`\n",
    "8. `None: NoneType`\n",
    "\n",
    "These are all built into Python by default and a variable can be stored as any one of these types"
   ]
  },
  {
   "cell_type": "code",
   "execution_count": 7,
   "id": "f9cda575",
   "metadata": {},
   "outputs": [
    {
     "data": {
      "text/plain": [
       "str"
      ]
     },
     "execution_count": 7,
     "metadata": {},
     "output_type": "execute_result"
    }
   ],
   "source": [
    "# Like mentioned before we can check the data type of\n",
    "# a variable with the type() function\n",
    "\n",
    "x = '10'\n",
    "type(x)"
   ]
  },
  {
   "cell_type": "code",
   "execution_count": 8,
   "id": "26a13cb1",
   "metadata": {},
   "outputs": [
    {
     "data": {
      "text/plain": [
       "int"
      ]
     },
     "execution_count": 8,
     "metadata": {},
     "output_type": "execute_result"
    }
   ],
   "source": [
    "# Notice how this is a string type and not an integer because\n",
    "# of the quotes around the 10\n",
    "\n",
    "# We can actually go and change that to be an integer by casting\n",
    "x = int(x)\n",
    "type(x)"
   ]
  },
  {
   "cell_type": "code",
   "execution_count": 10,
   "id": "aba9eb9c",
   "metadata": {},
   "outputs": [
    {
     "name": "stdout",
     "output_type": "stream",
     "text": [
      "10.0\n"
     ]
    },
    {
     "data": {
      "text/plain": [
       "float"
      ]
     },
     "execution_count": 10,
     "metadata": {},
     "output_type": "execute_result"
    }
   ],
   "source": [
    "# Try playing with the different types on the variable x\n",
    "# and see what they return\n",
    "x = float(x)\n",
    "print(x)\n",
    "type(x)"
   ]
  },
  {
   "cell_type": "code",
   "execution_count": 12,
   "id": "c4f86bd4",
   "metadata": {},
   "outputs": [
    {
     "name": "stdout",
     "output_type": "stream",
     "text": [
      "range(0, 10)\n"
     ]
    },
    {
     "data": {
      "text/plain": [
       "range"
      ]
     },
     "execution_count": 12,
     "metadata": {},
     "output_type": "execute_result"
    }
   ],
   "source": [
    "x = int(x) # casting back to an int because a range needs to be an integer\n",
    "x = range(x)\n",
    "print(x)\n",
    "type(x)"
   ]
  },
  {
   "cell_type": "code",
   "execution_count": 13,
   "id": "03b05bb9",
   "metadata": {},
   "outputs": [
    {
     "name": "stdout",
     "output_type": "stream",
     "text": [
      "True\n"
     ]
    },
    {
     "data": {
      "text/plain": [
       "bool"
      ]
     },
     "execution_count": 13,
     "metadata": {},
     "output_type": "execute_result"
    }
   ],
   "source": [
    "x = bool(x)\n",
    "print(x)\n",
    "type(x)"
   ]
  },
  {
   "cell_type": "code",
   "execution_count": 14,
   "id": "7c3a8697",
   "metadata": {},
   "outputs": [
    {
     "name": "stdout",
     "output_type": "stream",
     "text": [
      "b'\\x00\\x00\\x00\\x00\\x00'\n"
     ]
    },
    {
     "data": {
      "text/plain": [
       "bytes"
      ]
     },
     "execution_count": 14,
     "metadata": {},
     "output_type": "execute_result"
    }
   ],
   "source": [
    "x = bytes(5)\n",
    "print(x)\n",
    "type(x)"
   ]
  },
  {
   "cell_type": "code",
   "execution_count": 17,
   "id": "a9a07fa6",
   "metadata": {},
   "outputs": [
    {
     "name": "stdout",
     "output_type": "stream",
     "text": [
      "{'num': 5, 'name': 'Messi'}\n"
     ]
    },
    {
     "data": {
      "text/plain": [
       "dict"
      ]
     },
     "execution_count": 17,
     "metadata": {},
     "output_type": "execute_result"
    }
   ],
   "source": [
    "x = int(5)\n",
    "x = dict(num=x, name='Messi')\n",
    "print(x)\n",
    "type(x)"
   ]
  }
 ],
 "metadata": {
  "kernelspec": {
   "display_name": "Python 3 (ipykernel)",
   "language": "python",
   "name": "python3"
  },
  "language_info": {
   "codemirror_mode": {
    "name": "ipython",
    "version": 3
   },
   "file_extension": ".py",
   "mimetype": "text/x-python",
   "name": "python",
   "nbconvert_exporter": "python",
   "pygments_lexer": "ipython3",
   "version": "3.11.5"
  }
 },
 "nbformat": 4,
 "nbformat_minor": 5
}
