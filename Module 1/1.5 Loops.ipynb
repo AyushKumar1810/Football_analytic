{
 "cells": [
  {
   "cell_type": "markdown",
   "id": "1086ef4b",
   "metadata": {},
   "source": [
    "# Loops\n",
    "\n",
    "A loop allows us to \"loop\" over variables or while a condition is True and execute code on each one\n",
    "\n",
    "The two loops we can use in Python are:\n",
    "\n",
    "- `for` loops -> used for looping over variables\n",
    "- `while` loops -> used for looping until a condition is met"
   ]
  },
  {
   "cell_type": "markdown",
   "id": "16dbee2c",
   "metadata": {},
   "source": [
    "### `for` loop\n",
    "\n",
    "a for loop allows us to iterate over a sequence of variables (like a list or a range of numbers)\n",
    "\n",
    "The for loop is powerful because we can execute code based on each variable"
   ]
  },
  {
   "cell_type": "code",
   "execution_count": 3,
   "id": "6d3df3b9",
   "metadata": {},
   "outputs": [
    {
     "name": "stdout",
     "output_type": "stream",
     "text": [
      "Messi\n",
      "Ronaldo\n",
      "Neymar\n",
      "Jesse Lingard\n"
     ]
    }
   ],
   "source": [
    "players = ['Messi', 'Ronaldo', 'Neymar', 'Jesse Lingard']\n",
    "\n",
    "for player in players:\n",
    "    print(player)"
   ]
  },
  {
   "cell_type": "code",
   "execution_count": 4,
   "id": "4697102e",
   "metadata": {},
   "outputs": [
    {
     "name": "stdout",
     "output_type": "stream",
     "text": [
      "0\n",
      "1\n",
      "2\n",
      "3\n",
      "4\n"
     ]
    }
   ],
   "source": [
    "# We can use the range function as well to iterate over a set of numbers\n",
    "for x in range(5):\n",
    "    print(x)"
   ]
  },
  {
   "cell_type": "code",
   "execution_count": 5,
   "id": "12a03ef6",
   "metadata": {},
   "outputs": [
    {
     "name": "stdout",
     "output_type": "stream",
     "text": [
      "2\n",
      "3\n",
      "4\n"
     ]
    }
   ],
   "source": [
    "# By default the range starts at 2, but we can set the starting number\n",
    "for x in range(2, 5):\n",
    "    print(x)"
   ]
  },
  {
   "cell_type": "code",
   "execution_count": 8,
   "id": "b48bc4dc",
   "metadata": {},
   "outputs": [
    {
     "name": "stdout",
     "output_type": "stream",
     "text": [
      "Messi apple\n",
      "Messi orange\n",
      "Messi banana\n",
      "Ronaldo apple\n",
      "Ronaldo orange\n",
      "Ronaldo banana\n",
      "Neymar apple\n",
      "Neymar orange\n",
      "Neymar banana\n",
      "Jesse Lingard apple\n",
      "Jesse Lingard orange\n",
      "Jesse Lingard banana\n"
     ]
    }
   ],
   "source": [
    "# We can also do nested for loops to loop over two different sets of variable\n",
    "\n",
    "players = ['Messi', 'Ronaldo', 'Neymar', 'Jesse Lingard']\n",
    "fruits = ['apple', 'orange', 'banana']\n",
    "\n",
    "for x in players:\n",
    "    for y in fruits:\n",
    "        print(x, y)"
   ]
  },
  {
   "cell_type": "code",
   "execution_count": 11,
   "id": "4b98a7bb",
   "metadata": {},
   "outputs": [
    {
     "name": "stdout",
     "output_type": "stream",
     "text": [
      "1\n",
      "3\n"
     ]
    }
   ],
   "source": [
    "# If we need to we can also use a pass statement\n",
    "\n",
    "for x in [1, 2, 3]:\n",
    "    if x == 2:\n",
    "        pass\n",
    "    else:\n",
    "        print(x)"
   ]
  },
  {
   "cell_type": "markdown",
   "id": "fd2d2bf2",
   "metadata": {},
   "source": [
    "### `while` loop\n",
    "\n",
    "A while loop will run and execute statements as long as a condition is true"
   ]
  },
  {
   "cell_type": "code",
   "execution_count": 1,
   "id": "5ee53359",
   "metadata": {},
   "outputs": [
    {
     "name": "stdout",
     "output_type": "stream",
     "text": [
      "0\n",
      "1\n",
      "2\n",
      "3\n",
      "4\n",
      "5\n",
      "6\n",
      "7\n",
      "8\n",
      "9\n"
     ]
    }
   ],
   "source": [
    "i = 0\n",
    "\n",
    "while i < 10:\n",
    "    print(i)\n",
    "    i += 1 # if we didn't execute anything then the while loop would never be broken"
   ]
  },
  {
   "cell_type": "markdown",
   "id": "3a9d32e9",
   "metadata": {},
   "source": [
    "### `break` and `continue`\n",
    "\n",
    "We can use the `break` and `continue` statements to affect the loops.\n",
    "\n",
    "- `break` will stop the loop\n",
    "- `continue` will continue on to the next iteration"
   ]
  },
  {
   "cell_type": "code",
   "execution_count": 2,
   "id": "70142f1b",
   "metadata": {},
   "outputs": [
    {
     "name": "stdout",
     "output_type": "stream",
     "text": [
      "0\n",
      "1\n",
      "2\n",
      "4\n",
      "5\n",
      "6\n"
     ]
    }
   ],
   "source": [
    "numbers = range(10)\n",
    "\n",
    "for x in numbers:\n",
    "    if x == 7:\n",
    "        break\n",
    "    elif x == 3:\n",
    "        continue\n",
    "    \n",
    "    print(x)"
   ]
  },
  {
   "cell_type": "code",
   "execution_count": null,
   "id": "46a3e582",
   "metadata": {},
   "outputs": [],
   "source": []
  }
 ],
 "metadata": {
  "kernelspec": {
   "display_name": "Python 3 (ipykernel)",
   "language": "python",
   "name": "python3"
  },
  "language_info": {
   "codemirror_mode": {
    "name": "ipython",
    "version": 3
   },
   "file_extension": ".py",
   "mimetype": "text/x-python",
   "name": "python",
   "nbconvert_exporter": "python",
   "pygments_lexer": "ipython3",
   "version": "3.11.7"
  }
 },
 "nbformat": 4,
 "nbformat_minor": 5
}
