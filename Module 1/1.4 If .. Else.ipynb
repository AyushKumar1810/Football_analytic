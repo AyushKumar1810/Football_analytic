{
 "cells": [
  {
   "cell_type": "markdown",
   "id": "5bb2b5dd",
   "metadata": {},
   "source": [
    "# If .. Else in Python\n",
    "\n",
    "Python allows us to use conditional logic to check different conditions based on the value of variables.\n",
    "\n",
    "This is done with just common mathematics expressions:\n",
    "\n",
    "- Equals: `==`\n",
    "- Not Equals: `!=`\n",
    "- Less than: `<`\n",
    "- Less than or equal to: `<=`\n",
    "- Greater than: `>`\n",
    "- Greater than or equal to `>=`\n",
    "\n",
    "These conditions will evaluate to either `True` or `False` and then we can use them to do specific logic."
   ]
  },
  {
   "cell_type": "code",
   "execution_count": 2,
   "id": "7849fee2",
   "metadata": {},
   "outputs": [
    {
     "name": "stdout",
     "output_type": "stream",
     "text": [
      "Hello\n"
     ]
    }
   ],
   "source": [
    "# An if statement looks like the following\n",
    "a = 100\n",
    "b = 200\n",
    "\n",
    "if b > a:\n",
    "    print('Hello') # You have to indent if statements otherwise you will get an error"
   ]
  },
  {
   "cell_type": "code",
   "execution_count": 3,
   "id": "60bf7a98",
   "metadata": {},
   "outputs": [
    {
     "name": "stdout",
     "output_type": "stream",
     "text": [
      "a and b are equal\n"
     ]
    }
   ],
   "source": [
    "# We can use the elif keyword to check another conditional\n",
    "# if the first conditional failed\n",
    "\n",
    "a = 100\n",
    "b = 100\n",
    "\n",
    "if b > a:\n",
    "    print('b greater than a')\n",
    "elif a == b:\n",
    "    print('a and b are equal')"
   ]
  },
  {
   "cell_type": "code",
   "execution_count": 4,
   "id": "b2860e8d",
   "metadata": {},
   "outputs": [
    {
     "name": "stdout",
     "output_type": "stream",
     "text": [
      "a greater than b\n"
     ]
    }
   ],
   "source": [
    "# We then use the else keyword at the end as a catch all\n",
    "# if all of the first conditionals fail\n",
    "\n",
    "a = 1000\n",
    "b = 100\n",
    "\n",
    "\n",
    "if b > a:\n",
    "    print('b greater than a')\n",
    "elif a == b:\n",
    "    print('a and b are equal')\n",
    "else:\n",
    "    print('a greater than b')"
   ]
  },
  {
   "cell_type": "markdown",
   "id": "000b4571",
   "metadata": {},
   "source": [
    "### We can also evaluate multiple conditions in a single `if` statement with the keywords:\n",
    " - `and`\n",
    " - `or`"
   ]
  },
  {
   "cell_type": "code",
   "execution_count": 5,
   "id": "4a78b74a",
   "metadata": {},
   "outputs": [
    {
     "name": "stdout",
     "output_type": "stream",
     "text": [
      "Both are true\n"
     ]
    }
   ],
   "source": [
    "a = 10\n",
    "b = 5\n",
    "c = 100\n",
    "\n",
    "if a > b and c > a:\n",
    "    print('Both are true')"
   ]
  },
  {
   "cell_type": "code",
   "execution_count": 6,
   "id": "cc4f110d",
   "metadata": {},
   "outputs": [
    {
     "name": "stdout",
     "output_type": "stream",
     "text": [
      "One of them is true\n"
     ]
    }
   ],
   "source": [
    "if a > b or a > c:\n",
    "    print('One of them is true')"
   ]
  },
  {
   "cell_type": "markdown",
   "id": "19c52d0e",
   "metadata": {},
   "source": [
    "### We can also nest `if` statements within `if` statements to allow us to check more conditions if a conditiion is evaluated"
   ]
  },
  {
   "cell_type": "code",
   "execution_count": 7,
   "id": "a696aee0",
   "metadata": {},
   "outputs": [
    {
     "name": "stdout",
     "output_type": "stream",
     "text": [
      "Greater than 5\n",
      "Not greater than 10000\n"
     ]
    }
   ],
   "source": [
    "x = 100\n",
    "\n",
    "if x > 5:\n",
    "    print('Greater than 5')\n",
    "    if x > 10000:\n",
    "        print('Greater than 10000')\n",
    "    else:\n",
    "        print('Not greater than 10000')"
   ]
  },
  {
   "cell_type": "markdown",
   "id": "80c7e5a1",
   "metadata": {},
   "source": [
    "### We can also use the `pass` statement to not do anything if a condition is met\n",
    "\n",
    "this is usually helpful when checking multiple conditions"
   ]
  },
  {
   "cell_type": "code",
   "execution_count": 10,
   "id": "76b23d87",
   "metadata": {},
   "outputs": [
    {
     "name": "stdout",
     "output_type": "stream",
     "text": [
      "not greater than 5000 and less than 75\n"
     ]
    }
   ],
   "source": [
    "x = 10\n",
    "\n",
    "if x > 5000:\n",
    "    print('greater than 5000')\n",
    "elif x > 75:\n",
    "    pass\n",
    "else:\n",
    "    print('not greater than 5000 and less than 75')"
   ]
  },
  {
   "cell_type": "code",
   "execution_count": null,
   "id": "a31fcea3",
   "metadata": {},
   "outputs": [],
   "source": []
  }
 ],
 "metadata": {
  "kernelspec": {
   "display_name": "Python 3 (ipykernel)",
   "language": "python",
   "name": "python3"
  },
  "language_info": {
   "codemirror_mode": {
    "name": "ipython",
    "version": 3
   },
   "file_extension": ".py",
   "mimetype": "text/x-python",
   "name": "python",
   "nbconvert_exporter": "python",
   "pygments_lexer": "ipython3",
   "version": "3.11.5"
  }
 },
 "nbformat": 4,
 "nbformat_minor": 5
}
