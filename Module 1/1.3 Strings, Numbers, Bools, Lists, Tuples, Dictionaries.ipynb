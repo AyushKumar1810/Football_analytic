{
 "cells": [
  {
   "cell_type": "markdown",
   "id": "e74a604a",
   "metadata": {},
   "source": [
    "# Strings, Numbers, Bools, Lists, Tuples, Dictionaries\n",
    "\n",
    "In Python & data related topics, you will mostly be working with these types of variables.\n",
    "\n",
    "If you can learn how each one of these types works, how you can manipulate it, and it's different advantages, you'll be able to master Python."
   ]
  },
  {
   "cell_type": "markdown",
   "id": "01d1f336",
   "metadata": {},
   "source": [
    "# 1. Strings\n",
    "\n",
    "Python strings are one of the most powerful variable types.\n",
    "\n",
    "A string is defined as any variables that is defined with `\"` around it or `'`\n",
    "\n",
    "Let's look at some of the things we can do with them."
   ]
  },
  {
   "cell_type": "code",
   "execution_count": 1,
   "id": "875b490c",
   "metadata": {},
   "outputs": [
    {
     "name": "stdout",
     "output_type": "stream",
     "text": [
      "Argentina won the world cup.\n"
     ]
    }
   ],
   "source": [
    "# Define a string variable\n",
    "x = \"Argentina won the world cup.\"\n",
    "\n",
    "# and we can print that string with print()\n",
    "print(x)"
   ]
  },
  {
   "cell_type": "code",
   "execution_count": 2,
   "id": "fd8e37ed",
   "metadata": {},
   "outputs": [
    {
     "name": "stdout",
     "output_type": "stream",
     "text": [
      "\n",
      "On the 18th of December 2022,\n",
      "Argentina won the World cup.\n",
      "\n"
     ]
    }
   ],
   "source": [
    "# We can do multiline strings with three quotes\n",
    "x = '''\n",
    "On the 18th of December 2022,\n",
    "Argentina won the World cup.\n",
    "'''\n",
    "print(x)"
   ]
  },
  {
   "cell_type": "markdown",
   "id": "22e971ca",
   "metadata": {},
   "source": [
    "#### The cool thing about strings is they are arrays, so we can manipulate them in a lot of ways"
   ]
  },
  {
   "cell_type": "code",
   "execution_count": 8,
   "id": "762a93dc",
   "metadata": {},
   "outputs": [
    {
     "name": "stdout",
     "output_type": "stream",
     "text": [
      "t\n",
      "the 18th of Dece\n"
     ]
    }
   ],
   "source": [
    "# we can access individual parts of a string with square brackets\n",
    "x = \"Argentina won the world cup\"\n",
    "print(x[8])\n",
    "print(x[0:9]) # more on this when we talk about lists"
   ]
  },
  {
   "cell_type": "code",
   "execution_count": 9,
   "id": "678304d6",
   "metadata": {},
   "outputs": [
    {
     "data": {
      "text/plain": [
       "60"
      ]
     },
     "execution_count": 9,
     "metadata": {},
     "output_type": "execute_result"
    }
   ],
   "source": [
    "# We can get the length of a string with the len() function\n",
    "len(x)"
   ]
  },
  {
   "cell_type": "code",
   "execution_count": 10,
   "id": "5cd6e5f8",
   "metadata": {},
   "outputs": [
    {
     "name": "stdout",
     "output_type": "stream",
     "text": [
      "M\n",
      "e\n",
      "s\n",
      "s\n",
      "i\n"
     ]
    }
   ],
   "source": [
    "# We can loop over a string with a for loop\n",
    "for x in \"Messi\":\n",
    "    print(x)"
   ]
  },
  {
   "cell_type": "code",
   "execution_count": 11,
   "id": "823cd606",
   "metadata": {},
   "outputs": [
    {
     "name": "stdout",
     "output_type": "stream",
     "text": [
      "True\n"
     ]
    }
   ],
   "source": [
    "# We can check if a word or combination of words/letters\n",
    "# are in a string, which returns a boolean\n",
    "x = \"Messi scored a goal\"\n",
    "print('Messi' in x)"
   ]
  },
  {
   "cell_type": "code",
   "execution_count": 12,
   "id": "122be2b2",
   "metadata": {},
   "outputs": [
    {
     "name": "stdout",
     "output_type": "stream",
     "text": [
      "True\n"
     ]
    }
   ],
   "source": [
    "# We can also check if words aren't in a string\n",
    "print('Ronaldo' not in x)"
   ]
  },
  {
   "cell_type": "code",
   "execution_count": 18,
   "id": "e28d9c3f",
   "metadata": {},
   "outputs": [
    {
     "name": "stdout",
     "output_type": "stream",
     "text": [
      "Hello, my name is Juan\n"
     ]
    }
   ],
   "source": [
    "# We can also combine (concatenate) two strings to make a single string\n",
    "x = 'Hello, '\n",
    "y = 'my name is Juan'\n",
    "\n",
    "z = x + y\n",
    "\n",
    "print(z)"
   ]
  },
  {
   "cell_type": "markdown",
   "id": "bc04b113",
   "metadata": {},
   "source": [
    "#### Strings also have some very important methods we can use with them.\n",
    "1. `split` -> will split a string into a list\n",
    "2. `replace` -> will replace occurances of text in a string\n",
    "3. `strip` -> removes whitespace from ends of strings\n",
    "4. `lower` -> turns the string to lower case\n",
    "5. `upper` -> turns the string to upper case\n",
    "\n",
    "Here's a couple examples:"
   ]
  },
  {
   "cell_type": "code",
   "execution_count": 13,
   "id": "6added1b",
   "metadata": {},
   "outputs": [
    {
     "name": "stdout",
     "output_type": "stream",
     "text": [
      "['Hello', 'my', 'name', 'is', 'John']\n"
     ]
    }
   ],
   "source": [
    "txt = \"Hello my name is John\"\n",
    "\n",
    "# Lets split the string\n",
    "print(txt.split())"
   ]
  },
  {
   "cell_type": "code",
   "execution_count": 14,
   "id": "ec4a42f1",
   "metadata": {},
   "outputs": [
    {
     "name": "stdout",
     "output_type": "stream",
     "text": [
      "Hello my name is Dave\n"
     ]
    }
   ],
   "source": [
    "txt = \"Hello my name is John\"\n",
    "\n",
    "# Lets replace the word John with Dave\n",
    "print(txt.replace('John', 'Dave'))"
   ]
  },
  {
   "cell_type": "markdown",
   "id": "38fd4041",
   "metadata": {},
   "source": [
    "#### A last important function of strings is the ability to format them and insert variables into them\n",
    "\n",
    "Let's say we have a string x\n",
    "\n",
    "`x = \"My name is Mike\"`\n",
    "\n",
    "If we wanted to switch names, we would have to recreate the string. That's fine on one off situations, but if we have a large list of names, then inserting those would be taxing and it wouldn't be dynamic.\n",
    "\n",
    "We can use the `format()` method to insert variables into a string."
   ]
  },
  {
   "cell_type": "code",
   "execution_count": 19,
   "id": "2c115d17",
   "metadata": {},
   "outputs": [
    {
     "name": "stdout",
     "output_type": "stream",
     "text": [
      "My name is Mike\n"
     ]
    }
   ],
   "source": [
    "name = 'Mike'\n",
    "x = \"My name is {}\".format(name) # to denote where you want the variable to go, you put it in {}\n",
    "print(x)"
   ]
  },
  {
   "cell_type": "code",
   "execution_count": 20,
   "id": "3c0da668",
   "metadata": {},
   "outputs": [
    {
     "name": "stdout",
     "output_type": "stream",
     "text": [
      "My name is Mike\n"
     ]
    }
   ],
   "source": [
    "# we can also use f-strings to put it directly in the string. \n",
    "# This is done by putting the letter f before the quotes\n",
    "name = \"Mike\"\n",
    "x = f\"My name is {name}\"\n",
    "print(x)"
   ]
  },
  {
   "cell_type": "markdown",
   "id": "a286948b",
   "metadata": {},
   "source": [
    "----------"
   ]
  },
  {
   "cell_type": "markdown",
   "id": "6ea4639e",
   "metadata": {},
   "source": [
    "# 2. Numbers\n",
    "\n",
    "Numbers can be either `integers`, `floats`, or `complex` types\n",
    "\n",
    "An integer is a whole number\n",
    "\n",
    "A float is a decimal\n",
    "\n",
    "And a complex is a combination of numbers and and an imaginary number"
   ]
  },
  {
   "cell_type": "code",
   "execution_count": 25,
   "id": "cf75c93e",
   "metadata": {},
   "outputs": [
    {
     "name": "stdout",
     "output_type": "stream",
     "text": [
      "<class 'int'>\n",
      "<class 'float'>\n",
      "<class 'complex'>\n"
     ]
    }
   ],
   "source": [
    "x = 100 # int\n",
    "y = 100.15 # float\n",
    "z = 100j # complex\n",
    "\n",
    "# Let's check the types of each of these\n",
    "print(type(x))\n",
    "print(type(y))\n",
    "print(type(z))"
   ]
  },
  {
   "cell_type": "code",
   "execution_count": 27,
   "id": "0c45fa52",
   "metadata": {},
   "outputs": [
    {
     "name": "stdout",
     "output_type": "stream",
     "text": [
      "10\n",
      "<class 'int'>\n",
      "10.0\n",
      "<class 'float'>\n"
     ]
    }
   ],
   "source": [
    "# We can convert types back and forth with casting\n",
    "x = 10\n",
    "print(x)\n",
    "print(type(x))\n",
    "\n",
    "y = float(x)\n",
    "print(y)\n",
    "print(type(y))"
   ]
  },
  {
   "cell_type": "markdown",
   "id": "c20b1c61",
   "metadata": {},
   "source": [
    "------"
   ]
  },
  {
   "cell_type": "markdown",
   "id": "d1b3c36e",
   "metadata": {},
   "source": [
    "# 3. Booleans\n",
    "\n",
    "A boolean is a way of knowing if something is `True` or `False`\n",
    "\n",
    "You can compare any expression of values and it will tell you if that condition is `True` or `False`\n",
    "\n",
    "We can cast and evaluate a bool using the `bool()` function"
   ]
  },
  {
   "cell_type": "code",
   "execution_count": 28,
   "id": "137f19d6",
   "metadata": {},
   "outputs": [
    {
     "name": "stdout",
     "output_type": "stream",
     "text": [
      "True\n",
      "True\n",
      "False\n"
     ]
    }
   ],
   "source": [
    "print(100 > 75)\n",
    "print(100 == 100)\n",
    "print(100 < 75)"
   ]
  },
  {
   "cell_type": "code",
   "execution_count": 30,
   "id": "01d8e260",
   "metadata": {},
   "outputs": [
    {
     "name": "stdout",
     "output_type": "stream",
     "text": [
      "True\n",
      "True\n",
      "True\n",
      "False\n"
     ]
    }
   ],
   "source": [
    "# Most values are going to be true if you evaluate them as a bool\n",
    "\n",
    "print(bool(\"Messi\"))\n",
    "print(bool(10000000))\n",
    "print(bool([\"joe\"]))"
   ]
  },
  {
   "cell_type": "code",
   "execution_count": null,
   "id": "9a56541f",
   "metadata": {},
   "outputs": [],
   "source": [
    "# All numbers are True except for the number 0\n",
    "\n",
    "print(bool(0))"
   ]
  },
  {
   "cell_type": "code",
   "execution_count": 32,
   "id": "f1ec28f3",
   "metadata": {},
   "outputs": [
    {
     "name": "stdout",
     "output_type": "stream",
     "text": [
      "False\n",
      "False\n"
     ]
    }
   ],
   "source": [
    "# All empty strings, lists, dictionaries, and tuples will return 0 as well\n",
    "print(bool(\"\"))\n",
    "print(bool([]))"
   ]
  },
  {
   "cell_type": "markdown",
   "id": "e7602e36",
   "metadata": {},
   "source": [
    "----"
   ]
  },
  {
   "cell_type": "markdown",
   "id": "e71cb481",
   "metadata": {},
   "source": [
    "# 4. Lists\n",
    "\n",
    "A list is used for storing a bunch of values into a single variable\n",
    "\n",
    "I like to think of it as a grocery list where you store the items you need\n",
    "\n",
    "A list uses indexes, so the first item has index `[0]` second `[1]`, etc.\n",
    "\n",
    "A list has a couple of traits about it\n",
    "1. Ordered\n",
    "2. Changeable\n",
    "3. Allows duplicates"
   ]
  },
  {
   "cell_type": "code",
   "execution_count": 35,
   "id": "d8930f64",
   "metadata": {},
   "outputs": [
    {
     "name": "stdout",
     "output_type": "stream",
     "text": [
      "['apple', 'banana', 'watermelon', 'orange']\n"
     ]
    }
   ],
   "source": [
    "x = [\"apple\", \"banana\", \"watermelon\", \"orange\"]\n",
    "print(x)"
   ]
  },
  {
   "cell_type": "code",
   "execution_count": 36,
   "id": "fd524a04",
   "metadata": {},
   "outputs": [
    {
     "name": "stdout",
     "output_type": "stream",
     "text": [
      "4\n"
     ]
    }
   ],
   "source": [
    "# we can check the length of a list\n",
    "print(len(x))"
   ]
  },
  {
   "cell_type": "code",
   "execution_count": 37,
   "id": "437edb85",
   "metadata": {},
   "outputs": [],
   "source": [
    "# In a list, we can merge data types together\n",
    "x = ['Messi', 10, 'Ronaldo', 7]"
   ]
  },
  {
   "cell_type": "markdown",
   "id": "6ac8727c",
   "metadata": {},
   "source": [
    "#### To access a list item we can use indexing\n",
    "\n",
    "We use the index number to access the item in the list\n",
    "\n",
    "Python starts at `0` so the first item's index will be 0, second is 1, etc."
   ]
  },
  {
   "cell_type": "code",
   "execution_count": 39,
   "id": "38299a58",
   "metadata": {},
   "outputs": [
    {
     "name": "stdout",
     "output_type": "stream",
     "text": [
      "0\n",
      "6\n",
      "7\n"
     ]
    }
   ],
   "source": [
    "x = [0, 1, 2, 3, 4, 5, 6, 7]\n",
    "\n",
    "# we use square brackets with the number inside to access them\n",
    "print(x[0]) # This is technically the first\n",
    "print(x[6]) # This is technically the 7th\n",
    "print(x[-1]) # We can go backwards as well"
   ]
  },
  {
   "cell_type": "code",
   "execution_count": 40,
   "id": "414969d4",
   "metadata": {},
   "outputs": [
    {
     "name": "stdout",
     "output_type": "stream",
     "text": [
      "[2, 3, 4]\n"
     ]
    }
   ],
   "source": [
    "# if we want to access multiple itms we can use slicing\n",
    "x = [0, 1, 2, 3, 4, 5, 6, 7]\n",
    "\n",
    "print(x[2:5])\n",
    "\n",
    "# Pay attention because only the left index is included\n",
    "# The right one is not"
   ]
  },
  {
   "cell_type": "code",
   "execution_count": 41,
   "id": "a321d0bb",
   "metadata": {},
   "outputs": [
    {
     "name": "stdout",
     "output_type": "stream",
     "text": [
      "[0, 1, 2, 3, 4]\n",
      "[2, 3, 4, 5, 6, 7]\n"
     ]
    }
   ],
   "source": [
    "# We can also use slicing to say from the very beginning\n",
    "# or until the very end\n",
    "x = [0, 1, 2, 3, 4, 5, 6, 7]\n",
    "\n",
    "print(x[:5]) # all numbers up to\n",
    "print(x[2:]) # all numbers after"
   ]
  },
  {
   "cell_type": "code",
   "execution_count": 42,
   "id": "66846895",
   "metadata": {},
   "outputs": [
    {
     "name": "stdout",
     "output_type": "stream",
     "text": [
      "True\n"
     ]
    }
   ],
   "source": [
    "# You can check if an item exists in a list as well\n",
    "x = [0, 1, 2, 3, 4, 5, 6, 7]\n",
    "\n",
    "print(5 in x)"
   ]
  },
  {
   "cell_type": "code",
   "execution_count": 43,
   "id": "6d909f1b",
   "metadata": {},
   "outputs": [
    {
     "name": "stdout",
     "output_type": "stream",
     "text": [
      "[0, 1, 2, 3, 4, 5, 6, 7]\n",
      "[0, 1, 2, 3, 4, 10, 6, 7]\n"
     ]
    }
   ],
   "source": [
    "# We can add, change, and remove list items as well\n",
    "\n",
    "\n",
    "# Changing an item\n",
    "x = [0, 1, 2, 3, 4, 5, 6, 7]\n",
    "print(x)\n",
    "\n",
    "x[5] = 10\n",
    "print(x)"
   ]
  },
  {
   "cell_type": "code",
   "execution_count": 44,
   "id": "4fce8010",
   "metadata": {},
   "outputs": [
    {
     "name": "stdout",
     "output_type": "stream",
     "text": [
      "[0, 1, 'pineapple', 2, 3, 4, 5, 6, 7]\n"
     ]
    }
   ],
   "source": [
    "# Adding an item\n",
    "x = [0, 1, 2, 3, 4, 5, 6, 7]\n",
    "\n",
    "x.insert(2, \"pineapple\") # this inserts it into index 2\n",
    "\n",
    "print(x)"
   ]
  },
  {
   "cell_type": "code",
   "execution_count": 46,
   "id": "d77dc681",
   "metadata": {},
   "outputs": [
    {
     "name": "stdout",
     "output_type": "stream",
     "text": [
      "[0, 1, 'banana', 3, 4, 5, 'banana', 7]\n",
      "[0, 1, 3, 4, 5, 'banana', 7]\n"
     ]
    }
   ],
   "source": [
    "# Remove an item\n",
    "x = [0, 1, 'banana', 3, 4, 5, 'banana', 7]\n",
    "print(x)\n",
    "x.remove('banana') # removes only the first item\n",
    "print(x)"
   ]
  },
  {
   "cell_type": "code",
   "execution_count": 48,
   "id": "38ba15da",
   "metadata": {},
   "outputs": [
    {
     "name": "stdout",
     "output_type": "stream",
     "text": [
      "[0, 1, 2, 3, 4, 6, 7]\n"
     ]
    }
   ],
   "source": [
    "# Remove a specific index\n",
    "x = [0, 1, 2, 3, 4, 5, 6, 7]\n",
    "\n",
    "x.pop(5)\n",
    "\n",
    "print(x)"
   ]
  },
  {
   "cell_type": "code",
   "execution_count": 49,
   "id": "49596fa5",
   "metadata": {},
   "outputs": [
    {
     "name": "stdout",
     "output_type": "stream",
     "text": [
      "[0, 1, 2, 3, 4, 5, 6]\n"
     ]
    }
   ],
   "source": [
    "# remove just the last item\n",
    "x = [0, 1, 2, 3, 4, 5, 6, 7]\n",
    "\n",
    "x.pop()\n",
    "\n",
    "print(x)"
   ]
  },
  {
   "cell_type": "markdown",
   "id": "65514065",
   "metadata": {},
   "source": [
    "#### We can also loop over a list and use it in a variable\n",
    "\n",
    "We'll get into loops later, but lists are very powerful for iterating and looping"
   ]
  },
  {
   "cell_type": "code",
   "execution_count": 50,
   "id": "134b3fa3",
   "metadata": {},
   "outputs": [
    {
     "name": "stdout",
     "output_type": "stream",
     "text": [
      "0\n",
      "1\n",
      "2\n",
      "3\n",
      "4\n",
      "5\n",
      "6\n",
      "7\n"
     ]
    }
   ],
   "source": [
    "for x in [0, 1, 2, 3, 4, 5, 6, 7]:\n",
    "    print(x)"
   ]
  },
  {
   "cell_type": "code",
   "execution_count": 51,
   "id": "06569cd5",
   "metadata": {},
   "outputs": [
    {
     "name": "stdout",
     "output_type": "stream",
     "text": [
      "This is a apple\n",
      "This is a banana\n",
      "This is a pear\n",
      "This is a orange\n"
     ]
    }
   ],
   "source": [
    "grocery_list = [\"apple\", \"banana\", \"pear\", \"orange\"]\n",
    "\n",
    "for fruit in grocery_list:\n",
    "    print(f'This is a {fruit}')"
   ]
  },
  {
   "cell_type": "code",
   "execution_count": 53,
   "id": "af59e30b",
   "metadata": {},
   "outputs": [
    {
     "name": "stdout",
     "output_type": "stream",
     "text": [
      "This is a apple\n",
      "This is a banana\n",
      "This is a pear\n",
      "This is a orange\n"
     ]
    },
    {
     "data": {
      "text/plain": [
       "[None, None, None, None]"
      ]
     },
     "execution_count": 53,
     "metadata": {},
     "output_type": "execute_result"
    }
   ],
   "source": [
    "# we can also use list comprehensions which is just shorter syntax\n",
    "\n",
    "[print(f'This is a {fruit}') for fruit in grocery_list]"
   ]
  },
  {
   "cell_type": "markdown",
   "id": "65f2e5ac",
   "metadata": {},
   "source": [
    "-----"
   ]
  },
  {
   "cell_type": "markdown",
   "id": "8a49ea4b",
   "metadata": {},
   "source": [
    "# 5. Tuples\n",
    "\n",
    "A tuple is essentially the same as a list, but the key difference is we cannot change anything about the tuple\n",
    "\n",
    "We create a tuple with `()` instead of square brackets\n",
    "\n",
    "Most of the list functions won't work on a tuple so you'll need to convert it to a list and then back to a tuple"
   ]
  },
  {
   "cell_type": "code",
   "execution_count": 54,
   "id": "519f46a1",
   "metadata": {},
   "outputs": [
    {
     "name": "stdout",
     "output_type": "stream",
     "text": [
      "(1, 2, 3, 4, 5, 6)\n"
     ]
    }
   ],
   "source": [
    "x = (1, 2, 3, 4, 5, 6)\n",
    "print(x)"
   ]
  },
  {
   "cell_type": "code",
   "execution_count": 55,
   "id": "4c3bfcd8",
   "metadata": {},
   "outputs": [
    {
     "name": "stdout",
     "output_type": "stream",
     "text": [
      "('apple',)\n"
     ]
    }
   ],
   "source": [
    "# To create a tuple with one item\n",
    "x = (\"apple\",)\n",
    "\n",
    "print(x)"
   ]
  },
  {
   "cell_type": "markdown",
   "id": "a464eaa7",
   "metadata": {},
   "source": [
    "-----"
   ]
  },
  {
   "cell_type": "markdown",
   "id": "012d4706",
   "metadata": {},
   "source": [
    "# 6. Dictionaries\n",
    "\n",
    "A dictionary is a list of objects but it is denoted by key:value pairs\n",
    "\n",
    "To create a dictionary we use the `{}` brackets\n",
    "\n",
    "Dictionaries are:\n",
    "1. Ordered\n",
    "2. Changeable\n",
    "3. No duplciates allowed"
   ]
  },
  {
   "cell_type": "code",
   "execution_count": 56,
   "id": "c79f03c4",
   "metadata": {},
   "outputs": [
    {
     "name": "stdout",
     "output_type": "stream",
     "text": [
      "{'key1': 'value1', 'key2': 'value2'}\n"
     ]
    }
   ],
   "source": [
    "x = {\n",
    "    \"key1\": \"value1\",\n",
    "    \"key2\": \"value2\"\n",
    "}\n",
    "print(x)"
   ]
  },
  {
   "cell_type": "code",
   "execution_count": 57,
   "id": "2c7db946",
   "metadata": {},
   "outputs": [
    {
     "name": "stdout",
     "output_type": "stream",
     "text": [
      "value1\n"
     ]
    }
   ],
   "source": [
    "# To access a value in a dictionary you call its key\n",
    "print(x[\"key1\"])"
   ]
  },
  {
   "cell_type": "code",
   "execution_count": 58,
   "id": "278501fb",
   "metadata": {},
   "outputs": [
    {
     "name": "stdout",
     "output_type": "stream",
     "text": [
      "value1\n",
      "Messi\n"
     ]
    }
   ],
   "source": [
    "# To change a value you set the key equal to the new value\n",
    "print(x['key1'])\n",
    "x['key1'] = \"Messi\"\n",
    "print(x['key1'])"
   ]
  },
  {
   "cell_type": "code",
   "execution_count": 59,
   "id": "bce464a5",
   "metadata": {},
   "outputs": [
    {
     "name": "stdout",
     "output_type": "stream",
     "text": [
      "{'key1': 'Messi', 'key2': 'value2'}\n",
      "{'key1': 'Messi', 'key2': 'value2', 'world_cup': 2026}\n"
     ]
    }
   ],
   "source": [
    "# To add an item you set the new key equal to the new value\n",
    "print(x)\n",
    "x['world_cup'] = 2026\n",
    "\n",
    "print(x)"
   ]
  },
  {
   "cell_type": "code",
   "execution_count": 60,
   "id": "22231382",
   "metadata": {},
   "outputs": [
    {
     "name": "stdout",
     "output_type": "stream",
     "text": [
      "{'key1': 'Messi', 'key2': 'value2', 'world_cup': 2026}\n",
      "{'key2': 'value2', 'world_cup': 2026}\n"
     ]
    }
   ],
   "source": [
    "# if you want to remove an item use the del keyword\n",
    "print(x)\n",
    "del x['key1']\n",
    "\n",
    "print(x)"
   ]
  },
  {
   "cell_type": "code",
   "execution_count": 61,
   "id": "40d52744",
   "metadata": {},
   "outputs": [
    {
     "name": "stdout",
     "output_type": "stream",
     "text": [
      "{'key2': 'value2', 'world_cup': 2026}\n"
     ]
    }
   ],
   "source": [
    "# You can also use del to delete the entire dictionary variable\n",
    "print(x)\n",
    "del x"
   ]
  },
  {
   "cell_type": "code",
   "execution_count": 62,
   "id": "80a581b7",
   "metadata": {},
   "outputs": [
    {
     "ename": "NameError",
     "evalue": "name 'x' is not defined",
     "output_type": "error",
     "traceback": [
      "\u001b[0;31m---------------------------------------------------------------------------\u001b[0m",
      "\u001b[0;31mNameError\u001b[0m                                 Traceback (most recent call last)",
      "Cell \u001b[0;32mIn[62], line 1\u001b[0m\n\u001b[0;32m----> 1\u001b[0m \u001b[38;5;28mprint\u001b[39m(x)\n",
      "\u001b[0;31mNameError\u001b[0m: name 'x' is not defined"
     ]
    }
   ],
   "source": [
    "print(x) # This throws an error because it no longer exists"
   ]
  }
 ],
 "metadata": {
  "kernelspec": {
   "display_name": "Python 3 (ipykernel)",
   "language": "python",
   "name": "python3"
  },
  "language_info": {
   "codemirror_mode": {
    "name": "ipython",
    "version": 3
   },
   "file_extension": ".py",
   "mimetype": "text/x-python",
   "name": "python",
   "nbconvert_exporter": "python",
   "pygments_lexer": "ipython3",
   "version": "3.11.7"
  }
 },
 "nbformat": 4,
 "nbformat_minor": 5
}
