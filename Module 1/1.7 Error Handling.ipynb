{
 "cells": [
  {
   "cell_type": "markdown",
   "id": "ca3da90b",
   "metadata": {},
   "source": [
    "# Error Handling\n",
    "\n",
    "It's inevitable that while learning and coding in Python, you will come across different errors along the way.\n",
    "\n",
    "Learning how to handle these errors makes working in Python much easier.\n",
    "\n",
    "We can use `Try` `Except` blocks to help us handle code exceptions and errors\n",
    "\n",
    "- `try` block allows you test a block of code for errors\n",
    "- `except` blocks lets you handle any errors\n",
    "- `else` block lets you execute code when you don't have an error\n",
    "- `finally` block will execute the code, and it doesn't matter what the result of the try and except blocks were"
   ]
  },
  {
   "cell_type": "markdown",
   "id": "be9897ac",
   "metadata": {},
   "source": [
    "### Reading error logs\n",
    "if we run the following code we will get an error.\n",
    "\n",
    "That error is because we did not define `x` beforehand so it can't print a variable that doesn't exist."
   ]
  },
  {
   "cell_type": "code",
   "execution_count": 1,
   "id": "da6138bd",
   "metadata": {},
   "outputs": [
    {
     "ename": "NameError",
     "evalue": "name 'x' is not defined",
     "output_type": "error",
     "traceback": [
      "\u001b[0;31m---------------------------------------------------------------------------\u001b[0m",
      "\u001b[0;31mNameError\u001b[0m                                 Traceback (most recent call last)",
      "Cell \u001b[0;32mIn[1], line 2\u001b[0m\n\u001b[1;32m      1\u001b[0m \u001b[38;5;66;03m# if we run the following code we will get an error\u001b[39;00m\n\u001b[0;32m----> 2\u001b[0m \u001b[38;5;28mprint\u001b[39m(x)\n",
      "\u001b[0;31mNameError\u001b[0m: name 'x' is not defined"
     ]
    }
   ],
   "source": [
    "print(x)"
   ]
  },
  {
   "cell_type": "markdown",
   "id": "9058b8c6",
   "metadata": {},
   "source": [
    "If you did not know what the error was or why, you can usually get a good sense of why the code is breaking in the last couple of lines of the output.\n",
    "\n",
    "It will tell you\n",
    "1. Where the error occured, so in this case `line 2`\n",
    "2. What the error is: `NameError`\n",
    "3. With a description of what cause the error: `name 'x' is not defined`"
   ]
  },
  {
   "cell_type": "markdown",
   "id": "2ce28daa",
   "metadata": {},
   "source": [
    "### Exceptions\n",
    "This is where the `try` and `except` block come into play\n",
    "\n",
    "There are plent of times where you intentionally don't want your code to break because of an error"
   ]
  },
  {
   "cell_type": "code",
   "execution_count": 2,
   "id": "a0034d79",
   "metadata": {},
   "outputs": [
    {
     "name": "stdout",
     "output_type": "stream",
     "text": [
      "Failed\n"
     ]
    }
   ],
   "source": [
    "try:\n",
    "    print(x)\n",
    "except:\n",
    "    print('Failed')"
   ]
  },
  {
   "cell_type": "code",
   "execution_count": 3,
   "id": "4f24685d",
   "metadata": {},
   "outputs": [
    {
     "name": "stdout",
     "output_type": "stream",
     "text": [
      "Hello\n",
      "Succeeded\n"
     ]
    }
   ],
   "source": [
    "try:\n",
    "    print('Hello')\n",
    "except:\n",
    "    print('Failed')\n",
    "else:\n",
    "    print('Succeeded')"
   ]
  },
  {
   "cell_type": "code",
   "execution_count": 4,
   "id": "f6c92a97",
   "metadata": {},
   "outputs": [
    {
     "name": "stdout",
     "output_type": "stream",
     "text": [
      "Failed\n",
      "Finished\n"
     ]
    }
   ],
   "source": [
    "try:\n",
    "    print(x)\n",
    "except:\n",
    "    print('Failed')\n",
    "finally:\n",
    "    print('Finished')"
   ]
  },
  {
   "cell_type": "code",
   "execution_count": 5,
   "id": "4c32c8f7",
   "metadata": {},
   "outputs": [
    {
     "ename": "Exception",
     "evalue": "x is less than 101",
     "output_type": "error",
     "traceback": [
      "\u001b[0;31m---------------------------------------------------------------------------\u001b[0m",
      "\u001b[0;31mException\u001b[0m                                 Traceback (most recent call last)",
      "Cell \u001b[0;32mIn[5], line 7\u001b[0m\n\u001b[1;32m      4\u001b[0m x \u001b[38;5;241m=\u001b[39m \u001b[38;5;241m100\u001b[39m\n\u001b[1;32m      6\u001b[0m \u001b[38;5;28;01mif\u001b[39;00m x \u001b[38;5;241m<\u001b[39m \u001b[38;5;241m101\u001b[39m:\n\u001b[0;32m----> 7\u001b[0m     \u001b[38;5;28;01mraise\u001b[39;00m \u001b[38;5;167;01mException\u001b[39;00m(\u001b[38;5;124m'\u001b[39m\u001b[38;5;124mx is less than 101\u001b[39m\u001b[38;5;124m'\u001b[39m)\n",
      "\u001b[0;31mException\u001b[0m: x is less than 101"
     ]
    }
   ],
   "source": [
    "# We can also throw exceptions of errors occur with the \n",
    "# raise keyword\n",
    "\n",
    "x = 100\n",
    "\n",
    "if x < 101:\n",
    "    raise Exception('x is less than 101')"
   ]
  },
  {
   "cell_type": "code",
   "execution_count": 6,
   "id": "e6614b90",
   "metadata": {},
   "outputs": [
    {
     "ename": "TypeError",
     "evalue": "Not an integer",
     "output_type": "error",
     "traceback": [
      "\u001b[0;31m---------------------------------------------------------------------------\u001b[0m",
      "\u001b[0;31mTypeError\u001b[0m                                 Traceback (most recent call last)",
      "Cell \u001b[0;32mIn[6], line 5\u001b[0m\n\u001b[1;32m      2\u001b[0m x \u001b[38;5;241m=\u001b[39m \u001b[38;5;124m'\u001b[39m\u001b[38;5;124m100\u001b[39m\u001b[38;5;124m'\u001b[39m\n\u001b[1;32m      4\u001b[0m \u001b[38;5;28;01mif\u001b[39;00m \u001b[38;5;28mtype\u001b[39m(x) \u001b[38;5;129;01mis\u001b[39;00m \u001b[38;5;129;01mnot\u001b[39;00m \u001b[38;5;28mint\u001b[39m:\n\u001b[0;32m----> 5\u001b[0m     \u001b[38;5;28;01mraise\u001b[39;00m \u001b[38;5;167;01mTypeError\u001b[39;00m(\u001b[38;5;124m'\u001b[39m\u001b[38;5;124mNot an integer\u001b[39m\u001b[38;5;124m'\u001b[39m)\n",
      "\u001b[0;31mTypeError\u001b[0m: Not an integer"
     ]
    }
   ],
   "source": [
    "# We can also raise specific types of errors\n",
    "x = '100'\n",
    "\n",
    "if type(x) is not int:\n",
    "    raise TypeError('Not an integer')"
   ]
  }
 ],
 "metadata": {
  "kernelspec": {
   "display_name": "Python 3 (ipykernel)",
   "language": "python",
   "name": "python3"
  },
  "language_info": {
   "codemirror_mode": {
    "name": "ipython",
    "version": 3
   },
   "file_extension": ".py",
   "mimetype": "text/x-python",
   "name": "python",
   "nbconvert_exporter": "python",
   "pygments_lexer": "ipython3",
   "version": "3.11.7"
  }
 },
 "nbformat": 4,
 "nbformat_minor": 5
}
