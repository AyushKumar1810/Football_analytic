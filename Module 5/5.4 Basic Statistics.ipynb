{
 "cells": [
  {
   "cell_type": "markdown",
   "id": "1047c8f8e235d08b",
   "metadata": {
    "collapsed": false,
    "jupyter": {
     "outputs_hidden": false
    }
   },
   "source": [
    "# Basic Statistics\n",
    "\n",
    "Statistics is often an overlooked part of football analytics \n",
    "\n",
    "Let's start with some basic statistics that you'll commonly see in football analytics.\n",
    "\n",
    "## Mean\n",
    "\n",
    "The mean is the average of a set of numbers. It is calculated by adding up all the numbers and then dividing by the number of numbers.\n",
    "\n",
    "\n",
    "## Rolling Mean\n",
    "\n",
    "The rolling mean is the average of a set of numbers over a specified period of time. It is calculated by taking the average of the numbers in a window of a specified size and then moving the window along the data set.\n",
    "\n",
    "## Median\n",
    "\n",
    "The median is the middle number in a sorted, ascending or descending, list of numbers and can be more descriptive of that data set than the average.\n",
    "\n",
    "## Mode\n",
    "\n",
    "The mode is the number that appears most frequently in a data set.\n",
    "\n",
    "## Range\n",
    "\n",
    "The range is the difference between the largest and smallest numbers in a data set.\n",
    "\n",
    "## Variance\n",
    "\n",
    "The variance is a measure of how far each number in the set is from the mean and is calculated by taking the differences between each number in the set and the mean, squaring the differences (to make them positive) and then dividing the sum of the squares by the number of numbers in the set.\n",
    "\n",
    "## Standard Deviation\n",
    "\n",
    "The standard deviation is a measure of how spread out the numbers in a data set are around the mean and is the square root of the variance.\n",
    "\n",
    "## Percentiles\n",
    "\n",
    "Percentiles are used to understand where a score falls in a range of scores. For example, if a player scores in the 90th percentile for a particular metric, it means that they scored higher than 90% of the other players in the data set.\n",
    "\n",
    "## Skewness\n",
    "\n",
    "Skewness is a measure of the asymmetry of the distribution of values in a data set around the mean. A negative skewness indicates that the data are skewed to the left, while a positive skewness indicates that the data are skewed to the right.\n",
    "\n",
    "## Correlation\n",
    "\n",
    "Correlation is a measure of the strength and direction of the relationship between two variables. A correlation of 1 indicates a perfect positive relationship, a correlation of -1 indicates a perfect negative relationship, and a correlation of 0 indicates no relationship.\n",
    "\n"
   ]
  },
  {
   "cell_type": "code",
   "execution_count": 2,
   "id": "aec4e9aee710ab30",
   "metadata": {
    "ExecuteTime": {
     "end_time": "2024-03-11T03:26:14.157186Z",
     "start_time": "2024-03-11T03:26:14.155466Z"
    },
    "collapsed": false,
    "jupyter": {
     "outputs_hidden": false
    }
   },
   "outputs": [],
   "source": [
    "import pandas as pd\n",
    "import numpy as np\n",
    "import matplotlib.pyplot as plt\n",
    "import seaborn as sns\n",
    "import scipy.stats as stats"
   ]
  },
  {
   "cell_type": "code",
   "execution_count": 5,
   "id": "a2917ab3f4135777",
   "metadata": {
    "ExecuteTime": {
     "end_time": "2024-03-11T03:36:47.451350Z",
     "start_time": "2024-03-11T03:36:47.438032Z"
    },
    "collapsed": false,
    "jupyter": {
     "outputs_hidden": false
    }
   },
   "outputs": [],
   "source": [
    "# Let's start by loading the data\n",
    "df = pd.read_csv('~/Documents/GitHub/complete-football-analytics/Module 5/big5-clean.csv')"
   ]
  },
  {
   "cell_type": "code",
   "execution_count": 6,
   "id": "3992db7589d95bd0",
   "metadata": {
    "ExecuteTime": {
     "end_time": "2024-03-11T03:36:50.870495Z",
     "start_time": "2024-03-11T03:36:50.866446Z"
    },
    "collapsed": false,
    "jupyter": {
     "outputs_hidden": false
    }
   },
   "outputs": [
    {
     "data": {
      "text/plain": [
       "Index(['Rk', 'Player', 'Nation', 'Pos', 'Squad', 'Comp', 'Age', 'Born', 'MP',\n",
       "       'Starts', 'Min', '90s', 'Gls', 'Ast', 'G+A', 'G-PK', 'PK', 'PKatt',\n",
       "       'CrdY', 'CrdR', 'xG', 'npxG', 'xAG', 'npxG+xAG', 'PrgC', 'PrgP',\n",
       "       'PrgR'],\n",
       "      dtype='object')"
      ]
     },
     "execution_count": 6,
     "metadata": {},
     "output_type": "execute_result"
    }
   ],
   "source": [
    "df.columns"
   ]
  },
  {
   "cell_type": "code",
   "execution_count": 15,
   "id": "85a9bf5f1d43e024",
   "metadata": {
    "ExecuteTime": {
     "end_time": "2024-03-11T03:39:45.514267Z",
     "start_time": "2024-03-11T03:39:45.504908Z"
    },
    "collapsed": false,
    "jupyter": {
     "outputs_hidden": false
    }
   },
   "outputs": [
    {
     "name": "stdout",
     "output_type": "stream",
     "text": [
      "1.6902042229145033\n",
      "1.6902042229145033\n",
      "4.2317073170731705\n"
     ]
    }
   ],
   "source": [
    "# Let's see how we can calculate these different statistics in Python\n",
    "\n",
    "# Mean\n",
    "# In pandas, we can use the mean() method to calculate the mean of a column in a DataFrame\n",
    "print(df['Gls'].mean())\n",
    "\n",
    "# We can also use the numpy library to calculate the mean\n",
    "print(np.mean(df['Gls']))\n",
    "\n",
    "# Let's say we want to calculate the mean of the 'Gls' column for Players aged 30 and above and only for forwards\n",
    "print(df[(df['Age'] >= 30) & (df['Pos'].str.contains('FW'))]['Gls'].mean())"
   ]
  },
  {
   "cell_type": "code",
   "execution_count": 33,
   "id": "4170a959e4920ebe",
   "metadata": {
    "ExecuteTime": {
     "end_time": "2024-03-11T03:57:15.211481Z",
     "start_time": "2024-03-11T03:57:15.199488Z"
    },
    "collapsed": false,
    "jupyter": {
     "outputs_hidden": false
    }
   },
   "outputs": [
    {
     "data": {
      "text/plain": [
       "0       NaN\n",
       "1       NaN\n",
       "2       NaN\n",
       "3       NaN\n",
       "4       0.4\n",
       "       ... \n",
       "2884    3.4\n",
       "2885    3.4\n",
       "2886    3.8\n",
       "2887    3.8\n",
       "2888    4.0\n",
       "Name: Gls, Length: 2889, dtype: float64"
      ]
     },
     "execution_count": 33,
     "metadata": {},
     "output_type": "execute_result"
    }
   ],
   "source": [
    "# Rolling Mean\n",
    "# In pandas, we can use the rolling() method to calculate the rolling mean of a column in a DataFrame\n",
    "df['Gls'].rolling(window=5).mean()\n",
    "\n",
    "# Note that we would never use a rolling mean for Goals, but for demonstration purposes, we can use it here"
   ]
  },
  {
   "cell_type": "code",
   "execution_count": 16,
   "id": "dcb3a7963ce9b130",
   "metadata": {
    "ExecuteTime": {
     "end_time": "2024-03-11T03:40:05.264159Z",
     "start_time": "2024-03-11T03:40:05.257635Z"
    },
    "collapsed": false,
    "jupyter": {
     "outputs_hidden": false
    }
   },
   "outputs": [
    {
     "name": "stdout",
     "output_type": "stream",
     "text": [
      "0.0\n",
      "0.0\n",
      "2.0\n"
     ]
    }
   ],
   "source": [
    "# Median\n",
    "# In pandas, we can use the median() method to calculate the median of a column in a DataFrame\n",
    "print(df['Gls'].median())\n",
    "\n",
    "# We can also use the numpy library to calculate the median\n",
    "print(np.median(df['Gls']))\n",
    "\n",
    "# Let's say we want to calculate the median of the 'Gls' column for Players aged 30 and above and only for forwards\n",
    "print(df[(df['Age'] >= 30) & (df['Pos'].str.contains('FW'))]['Gls'].median())"
   ]
  },
  {
   "cell_type": "code",
   "execution_count": 17,
   "id": "5fb04557511f1db",
   "metadata": {
    "ExecuteTime": {
     "end_time": "2024-03-11T03:49:00.442414Z",
     "start_time": "2024-03-11T03:49:00.436920Z"
    },
    "collapsed": false,
    "jupyter": {
     "outputs_hidden": false
    }
   },
   "outputs": [
    {
     "name": "stdout",
     "output_type": "stream",
     "text": [
      "0    0\n",
      "Name: Gls, dtype: int64\n"
     ]
    }
   ],
   "source": [
    "# Mode\n",
    "# In pandas, we can use the mode() method to calculate the mode of a column in a DataFrame\n",
    "print(df['Gls'].mode())"
   ]
  },
  {
   "cell_type": "code",
   "execution_count": 18,
   "id": "89907aa235948f16",
   "metadata": {
    "ExecuteTime": {
     "end_time": "2024-03-11T03:49:18.656491Z",
     "start_time": "2024-03-11T03:49:18.647866Z"
    },
    "collapsed": false,
    "jupyter": {
     "outputs_hidden": false
    }
   },
   "outputs": [
    {
     "name": "stdout",
     "output_type": "stream",
     "text": [
      "36\n",
      "36\n"
     ]
    }
   ],
   "source": [
    "# Range\n",
    "# In pandas, we can use the max() and min() methods to calculate the range of a column in a DataFrame\n",
    "print(df['Gls'].max() - df['Gls'].min())\n",
    "\n",
    "# We can also use the numpy library to calculate the range\n",
    "print(np.max(df['Gls']) - np.min(df['Gls']))\n"
   ]
  },
  {
   "cell_type": "code",
   "execution_count": 20,
   "id": "9b5bafa959fca1ca",
   "metadata": {
    "ExecuteTime": {
     "end_time": "2024-03-11T03:51:33.316137Z",
     "start_time": "2024-03-11T03:51:33.310445Z"
    },
    "collapsed": false,
    "jupyter": {
     "outputs_hidden": false
    }
   },
   "outputs": [
    {
     "name": "stdout",
     "output_type": "stream",
     "text": [
      "9.972899161879669\n",
      "9.969447137247657\n",
      "9.969447137247657\n"
     ]
    }
   ],
   "source": [
    "# Variance\n",
    "# In pandas, we can use the var() method to calculate the variance of a column in a DataFrame\n",
    "print(df['Gls'].var())\n",
    "\n",
    "# We can also use the numpy library to calculate the variance\n",
    "print(np.var(df['Gls']))"
   ]
  },
  {
   "cell_type": "code",
   "execution_count": 21,
   "id": "7d8ee78de1d50ed9",
   "metadata": {
    "ExecuteTime": {
     "end_time": "2024-03-11T03:51:42.736892Z",
     "start_time": "2024-03-11T03:51:42.732201Z"
    },
    "collapsed": false,
    "jupyter": {
     "outputs_hidden": false
    }
   },
   "outputs": [
    {
     "name": "stdout",
     "output_type": "stream",
     "text": [
      "9.969447137247657\n"
     ]
    }
   ],
   "source": [
    "# They are different because pandas uses the sample variance by default, while numpy uses the population variance by default\n",
    "# We can use the ddof parameter in the var() method to specify the degrees of freedom\n",
    "print(df['Gls'].var(ddof=0))"
   ]
  },
  {
   "cell_type": "code",
   "execution_count": 22,
   "id": "a66f7d7dbabc83bf",
   "metadata": {
    "ExecuteTime": {
     "end_time": "2024-03-11T03:51:56.785359Z",
     "start_time": "2024-03-11T03:51:56.780707Z"
    },
    "collapsed": false,
    "jupyter": {
     "outputs_hidden": false
    }
   },
   "outputs": [
    {
     "name": "stdout",
     "output_type": "stream",
     "text": [
      "3.157989734289785\n",
      "3.157443132860457\n"
     ]
    }
   ],
   "source": [
    "# Standard Deviation\n",
    "# In pandas, we can use the std() method to calculate the standard deviation of a column in a DataFrame\n",
    "print(df['Gls'].std())\n",
    "\n",
    "# We can also use the numpy library to calculate the standard deviation\n",
    "print(np.std(df['Gls']))"
   ]
  },
  {
   "cell_type": "code",
   "execution_count": 23,
   "id": "34f80e58cd6df5ea",
   "metadata": {
    "ExecuteTime": {
     "end_time": "2024-03-11T03:52:11.449893Z",
     "start_time": "2024-03-11T03:52:11.442677Z"
    },
    "collapsed": false,
    "jupyter": {
     "outputs_hidden": false
    }
   },
   "outputs": [
    {
     "name": "stdout",
     "output_type": "stream",
     "text": [
      "3.157443132860457\n"
     ]
    }
   ],
   "source": [
    "# Same as with the variance, we can use the ddof parameter in the std() method to specify the degrees of freedom\n",
    "print(df['Gls'].std(ddof=0))"
   ]
  },
  {
   "cell_type": "code",
   "execution_count": 24,
   "id": "9faeaf97b98c461e",
   "metadata": {
    "ExecuteTime": {
     "end_time": "2024-03-11T03:52:51.507326Z",
     "start_time": "2024-03-11T03:52:51.501852Z"
    },
    "collapsed": false,
    "jupyter": {
     "outputs_hidden": false
    }
   },
   "outputs": [
    {
     "name": "stdout",
     "output_type": "stream",
     "text": [
      "0.0\n",
      "0.0\n",
      "2.0\n",
      "0.0\n",
      "0.0\n",
      "2.0\n"
     ]
    }
   ],
   "source": [
    "# Percentiles\n",
    "# In pandas, we can use the quantile() method to calculate the percentiles of a column in a DataFrame\n",
    "print(df['Gls'].quantile(0.25)) # 25th percentile\n",
    "print(df['Gls'].quantile(0.5)) # 50th percentile\n",
    "print(df['Gls'].quantile(0.75)) # 75th percentile\n",
    "\n",
    "# We can also use the numpy library to calculate the percentiles\n",
    "print(np.percentile(df['Gls'], 25)) # 25th percentile\n",
    "print(np.percentile(df['Gls'], 50)) # 50th percentile\n",
    "print(np.percentile(df['Gls'], 75)) # 75th percentile"
   ]
  },
  {
   "cell_type": "code",
   "execution_count": 26,
   "id": "555fc25dcdbf0326",
   "metadata": {
    "ExecuteTime": {
     "end_time": "2024-03-11T03:53:14.357435Z",
     "start_time": "2024-03-11T03:53:14.354530Z"
    },
    "collapsed": false,
    "jupyter": {
     "outputs_hidden": false
    }
   },
   "outputs": [
    {
     "name": "stdout",
     "output_type": "stream",
     "text": [
      "3.578540247914825\n",
      "3.576681963133535\n"
     ]
    }
   ],
   "source": [
    "# Skewness\n",
    "# In pandas, we can use the skew() method to calculate the skewness of a column in a DataFrame\n",
    "print(df['Gls'].skew())\n",
    "\n",
    "# We can also use the scipy library to calculate the skewness\n",
    "print(stats.skew(df['Gls']))"
   ]
  },
  {
   "cell_type": "code",
   "execution_count": 28,
   "id": "540ff90df5a2e366",
   "metadata": {
    "ExecuteTime": {
     "end_time": "2024-03-11T03:53:43.227957Z",
     "start_time": "2024-03-11T03:53:43.207485Z"
    },
    "collapsed": false,
    "jupyter": {
     "outputs_hidden": false
    }
   },
   "outputs": [
    {
     "name": "stdout",
     "output_type": "stream",
     "text": [
      "0.545328341044825\n",
      "0.545328341044825\n"
     ]
    }
   ],
   "source": [
    "# Correlation\n",
    "# In pandas, we can use the corr() method to calculate the correlation between two columns in a DataFrame\n",
    "print(df['Gls'].corr(df['Ast']))\n",
    "\n",
    "# We can also use the numpy library to calculate the correlation\n",
    "print(np.corrcoef(df['Gls'], df['Ast'])[0, 1])"
   ]
  },
  {
   "cell_type": "code",
   "execution_count": 30,
   "id": "867209a7ec49752b",
   "metadata": {
    "ExecuteTime": {
     "end_time": "2024-03-11T03:54:36.630618Z",
     "start_time": "2024-03-11T03:54:36.354493Z"
    },
    "collapsed": false,
    "jupyter": {
     "outputs_hidden": false
    }
   },
   "outputs": [
    {
     "data": {
      "text/plain": [
       "<Axes: >"
      ]
     },
     "execution_count": 30,
     "metadata": {},
     "output_type": "execute_result"
    },
    {
     "data": {
      "image/png": "[encoded data removed]",
      "text/plain": [
       "<Figure size 640x480 with 2 Axes>"
      ]
     },
     "metadata": {},
     "output_type": "display_data"
    }
   ],
   "source": [
    "# We can also use the seaborn library to visualize the correlation\n",
    "sns.heatmap(df[['Gls', 'Ast', 'xG', 'CrdY', 'CrdR']].corr(), annot=True, cmap='coolwarm')"
   ]
  },
  {
   "cell_type": "code",
   "execution_count": null,
   "id": "f7f2fcbf8472f36f",
   "metadata": {
    "collapsed": false,
    "jupyter": {
     "outputs_hidden": false
    }
   },
   "outputs": [],
   "source": [
    "# These basic stats can be very useful in football analytics to understand the performance of players and teams"
   ]
  }
 ],
 "metadata": {
  "kernelspec": {
   "display_name": "Python 3 (ipykernel)",
   "language": "python",
   "name": "python3"
  },
  "language_info": {
   "codemirror_mode": {
    "name": "ipython",
    "version": 3
   },
   "file_extension": ".py",
   "mimetype": "text/x-python",
   "name": "python",
   "nbconvert_exporter": "python",
   "pygments_lexer": "ipython3",
   "version": "3.11.7"
  }
 },
 "nbformat": 4,
 "nbformat_minor": 5
}
