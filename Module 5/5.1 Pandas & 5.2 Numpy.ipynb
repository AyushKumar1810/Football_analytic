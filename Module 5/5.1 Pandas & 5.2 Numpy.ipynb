{
 "cells": [
  {
   "cell_type": "markdown",
   "id": "bdfc03b183f64ba5",
   "metadata": {
    "collapsed": false,
    "jupyter": {
     "outputs_hidden": false
    }
   },
   "source": [
    "# Pandas & Numpy\n",
    "\n",
    "## Pandas\n",
    "Panadas is a fast, powerful, flexible and easy to use open source data analysis and data manipulation library built on top of the Python programming language.\n",
    "\n",
    "If you are working with any kind of data, you will need to clean, transform, and analyze it. Pandas is the tool you need to do that.\n",
    "\n",
    "Pandas uses two primary data structures, Series and DataFrame. Which you can think of similar to excel spreadsheets.\n",
    "\n",
    "## Numpy\n",
    "Numpy is a powerful library for numerical computing. \n",
    "It provides support for large multi-dimensional arrays and matrices along with a collection of mathematical functions to operate on these arrays."
   ]
  },
  {
   "cell_type": "code",
   "execution_count": 160,
   "id": "88cead9bfa99fca5",
   "metadata": {
    "ExecuteTime": {
     "end_time": "2024-03-10T05:07:10.273559Z",
     "start_time": "2024-03-10T05:07:10.267831Z"
    },
    "collapsed": false,
    "jupyter": {
     "outputs_hidden": false
    }
   },
   "outputs": [],
   "source": [
    "import pandas as pd\n",
    "import numpy as np"
   ]
  },
  {
   "cell_type": "code",
   "execution_count": 161,
   "id": "e9e8cb3112fd4083",
   "metadata": {
    "ExecuteTime": {
     "end_time": "2024-03-10T05:07:10.520395Z",
     "start_time": "2024-03-10T05:07:10.486652Z"
    },
    "collapsed": false,
    "jupyter": {
     "outputs_hidden": false
    }
   },
   "outputs": [],
   "source": [
    "# Read in the data from a csv file\n",
    "df = pd.read_csv('~/Documents/GitHub/complete-football-analytics/Module 5/big5.csv')"
   ]
  },
  {
   "cell_type": "code",
   "execution_count": 162,
   "id": "f400b7304db073b8",
   "metadata": {
    "ExecuteTime": {
     "end_time": "2024-03-10T05:07:10.940816Z",
     "start_time": "2024-03-10T05:07:10.924041Z"
    },
    "collapsed": false,
    "jupyter": {
     "outputs_hidden": false
    }
   },
   "outputs": [
    {
     "data": {
      "text/html": [
       "<div>\n",
       "<style scoped>\n",
       "    .dataframe tbody tr th:only-of-type {\n",
       "        vertical-align: middle;\n",
       "    }\n",
       "\n",
       "    .dataframe tbody tr th {\n",
       "        vertical-align: top;\n",
       "    }\n",
       "\n",
       "    .dataframe thead th {\n",
       "        text-align: right;\n",
       "    }\n",
       "</style>\n",
       "<table border=\"1\" class=\"dataframe\">\n",
       "  <thead>\n",
       "    <tr style=\"text-align: right;\">\n",
       "      <th></th>\n",
       "      <th>Unnamed: 0</th>\n",
       "      <th>Unnamed: 0_level_0</th>\n",
       "      <th>Unnamed: 1_level_0</th>\n",
       "      <th>Unnamed: 2_level_0</th>\n",
       "      <th>Unnamed: 3_level_0</th>\n",
       "      <th>Unnamed: 4_level_0</th>\n",
       "      <th>Unnamed: 5_level_0</th>\n",
       "      <th>Unnamed: 6_level_0</th>\n",
       "      <th>Unnamed: 7_level_0</th>\n",
       "      <th>Playing Time</th>\n",
       "      <th>...</th>\n",
       "      <th>Per 90 Minutes.1</th>\n",
       "      <th>Per 90 Minutes.2</th>\n",
       "      <th>Per 90 Minutes.3</th>\n",
       "      <th>Per 90 Minutes.4</th>\n",
       "      <th>Per 90 Minutes.5</th>\n",
       "      <th>Per 90 Minutes.6</th>\n",
       "      <th>Per 90 Minutes.7</th>\n",
       "      <th>Per 90 Minutes.8</th>\n",
       "      <th>Per 90 Minutes.9</th>\n",
       "      <th>Unnamed: 37_level_0</th>\n",
       "    </tr>\n",
       "  </thead>\n",
       "  <tbody>\n",
       "    <tr>\n",
       "      <th>0</th>\n",
       "      <td>NaN</td>\n",
       "      <td>Rk</td>\n",
       "      <td>Player</td>\n",
       "      <td>Nation</td>\n",
       "      <td>Pos</td>\n",
       "      <td>Squad</td>\n",
       "      <td>Comp</td>\n",
       "      <td>Age</td>\n",
       "      <td>Born</td>\n",
       "      <td>MP</td>\n",
       "      <td>...</td>\n",
       "      <td>Ast</td>\n",
       "      <td>G+A</td>\n",
       "      <td>G-PK</td>\n",
       "      <td>G+A-PK</td>\n",
       "      <td>xG</td>\n",
       "      <td>xAG</td>\n",
       "      <td>xG+xAG</td>\n",
       "      <td>npxG</td>\n",
       "      <td>npxG+xAG</td>\n",
       "      <td>Matches</td>\n",
       "    </tr>\n",
       "    <tr>\n",
       "      <th>1</th>\n",
       "      <td>0.0</td>\n",
       "      <td>1</td>\n",
       "      <td>Brenden Aaronson</td>\n",
       "      <td>us USA</td>\n",
       "      <td>MF,FW</td>\n",
       "      <td>Leeds United</td>\n",
       "      <td>eng Premier League</td>\n",
       "      <td>21</td>\n",
       "      <td>2000</td>\n",
       "      <td>36</td>\n",
       "      <td>...</td>\n",
       "      <td>0.11</td>\n",
       "      <td>0.15</td>\n",
       "      <td>0.04</td>\n",
       "      <td>0.15</td>\n",
       "      <td>0.15</td>\n",
       "      <td>0.16</td>\n",
       "      <td>0.31</td>\n",
       "      <td>0.15</td>\n",
       "      <td>0.31</td>\n",
       "      <td>Matches</td>\n",
       "    </tr>\n",
       "    <tr>\n",
       "      <th>2</th>\n",
       "      <td>1.0</td>\n",
       "      <td>2</td>\n",
       "      <td>Paxten Aaronson</td>\n",
       "      <td>us USA</td>\n",
       "      <td>MF,DF</td>\n",
       "      <td>Eint Frankfurt</td>\n",
       "      <td>de Bundesliga</td>\n",
       "      <td>18</td>\n",
       "      <td>2003</td>\n",
       "      <td>7</td>\n",
       "      <td>...</td>\n",
       "      <td>0.00</td>\n",
       "      <td>0.00</td>\n",
       "      <td>0.00</td>\n",
       "      <td>0.00</td>\n",
       "      <td>0.09</td>\n",
       "      <td>0.03</td>\n",
       "      <td>0.11</td>\n",
       "      <td>0.09</td>\n",
       "      <td>0.11</td>\n",
       "      <td>Matches</td>\n",
       "    </tr>\n",
       "    <tr>\n",
       "      <th>3</th>\n",
       "      <td>2.0</td>\n",
       "      <td>3</td>\n",
       "      <td>James Abankwah</td>\n",
       "      <td>ie IRL</td>\n",
       "      <td>DF</td>\n",
       "      <td>Udinese</td>\n",
       "      <td>it Serie A</td>\n",
       "      <td>18</td>\n",
       "      <td>2004</td>\n",
       "      <td>2</td>\n",
       "      <td>...</td>\n",
       "      <td>0.00</td>\n",
       "      <td>0.00</td>\n",
       "      <td>0.00</td>\n",
       "      <td>0.00</td>\n",
       "      <td>0.00</td>\n",
       "      <td>0.00</td>\n",
       "      <td>0.00</td>\n",
       "      <td>0.00</td>\n",
       "      <td>0.00</td>\n",
       "      <td>Matches</td>\n",
       "    </tr>\n",
       "    <tr>\n",
       "      <th>4</th>\n",
       "      <td>3.0</td>\n",
       "      <td>4</td>\n",
       "      <td>George Abbott</td>\n",
       "      <td>eng ENG</td>\n",
       "      <td>MF</td>\n",
       "      <td>Tottenham</td>\n",
       "      <td>eng Premier League</td>\n",
       "      <td>16</td>\n",
       "      <td>2005</td>\n",
       "      <td>1</td>\n",
       "      <td>...</td>\n",
       "      <td>0.00</td>\n",
       "      <td>0.00</td>\n",
       "      <td>0.00</td>\n",
       "      <td>0.00</td>\n",
       "      <td>0.00</td>\n",
       "      <td>0.00</td>\n",
       "      <td>0.00</td>\n",
       "      <td>0.00</td>\n",
       "      <td>0.00</td>\n",
       "      <td>Matches</td>\n",
       "    </tr>\n",
       "  </tbody>\n",
       "</table>\n",
       "<p>5 rows × 39 columns</p>\n",
       "</div>"
      ],
      "text/plain": [
       "   Unnamed: 0 Unnamed: 0_level_0 Unnamed: 1_level_0 Unnamed: 2_level_0  \\\n",
       "0         NaN                 Rk             Player             Nation   \n",
       "1         0.0                  1   Brenden Aaronson             us USA   \n",
       "2         1.0                  2    Paxten Aaronson             us USA   \n",
       "3         2.0                  3     James Abankwah             ie IRL   \n",
       "4         3.0                  4      George Abbott            eng ENG   \n",
       "\n",
       "  Unnamed: 3_level_0 Unnamed: 4_level_0  Unnamed: 5_level_0  \\\n",
       "0                Pos              Squad                Comp   \n",
       "1              MF,FW       Leeds United  eng Premier League   \n",
       "2              MF,DF     Eint Frankfurt       de Bundesliga   \n",
       "3                 DF            Udinese          it Serie A   \n",
       "4                 MF          Tottenham  eng Premier League   \n",
       "\n",
       "  Unnamed: 6_level_0 Unnamed: 7_level_0 Playing Time  ... Per 90 Minutes.1  \\\n",
       "0                Age               Born           MP  ...              Ast   \n",
       "1                 21               2000           36  ...             0.11   \n",
       "2                 18               2003            7  ...             0.00   \n",
       "3                 18               2004            2  ...             0.00   \n",
       "4                 16               2005            1  ...             0.00   \n",
       "\n",
       "  Per 90 Minutes.2 Per 90 Minutes.3 Per 90 Minutes.4 Per 90 Minutes.5  \\\n",
       "0              G+A             G-PK           G+A-PK               xG   \n",
       "1             0.15             0.04             0.15             0.15   \n",
       "2             0.00             0.00             0.00             0.09   \n",
       "3             0.00             0.00             0.00             0.00   \n",
       "4             0.00             0.00             0.00             0.00   \n",
       "\n",
       "  Per 90 Minutes.6 Per 90 Minutes.7 Per 90 Minutes.8 Per 90 Minutes.9  \\\n",
       "0              xAG           xG+xAG             npxG         npxG+xAG   \n",
       "1             0.16             0.31             0.15             0.31   \n",
       "2             0.03             0.11             0.09             0.11   \n",
       "3             0.00             0.00             0.00             0.00   \n",
       "4             0.00             0.00             0.00             0.00   \n",
       "\n",
       "  Unnamed: 37_level_0  \n",
       "0             Matches  \n",
       "1             Matches  \n",
       "2             Matches  \n",
       "3             Matches  \n",
       "4             Matches  \n",
       "\n",
       "[5 rows x 39 columns]"
      ]
     },
     "execution_count": 162,
     "metadata": {},
     "output_type": "execute_result"
    }
   ],
   "source": [
    "# Display the first 5 rows of the dataframe\n",
    "df.head()"
   ]
  },
  {
   "cell_type": "code",
   "execution_count": 163,
   "id": "72091a99963cc061",
   "metadata": {
    "ExecuteTime": {
     "end_time": "2024-03-10T05:07:11.348334Z",
     "start_time": "2024-03-10T05:07:11.295624Z"
    },
    "collapsed": false,
    "jupyter": {
     "outputs_hidden": false
    }
   },
   "outputs": [
    {
     "data": {
      "text/html": [
       "<div>\n",
       "<style scoped>\n",
       "    .dataframe tbody tr th:only-of-type {\n",
       "        vertical-align: middle;\n",
       "    }\n",
       "\n",
       "    .dataframe tbody tr th {\n",
       "        vertical-align: top;\n",
       "    }\n",
       "\n",
       "    .dataframe thead th {\n",
       "        text-align: right;\n",
       "    }\n",
       "</style>\n",
       "<table border=\"1\" class=\"dataframe\">\n",
       "  <thead>\n",
       "    <tr style=\"text-align: right;\">\n",
       "      <th></th>\n",
       "      <th>Unnamed: 0</th>\n",
       "      <th>Unnamed: 0_level_0</th>\n",
       "      <th>Unnamed: 1_level_0</th>\n",
       "      <th>Unnamed: 2_level_0</th>\n",
       "      <th>Unnamed: 3_level_0</th>\n",
       "      <th>Unnamed: 4_level_0</th>\n",
       "      <th>Unnamed: 5_level_0</th>\n",
       "      <th>Unnamed: 6_level_0</th>\n",
       "      <th>Unnamed: 7_level_0</th>\n",
       "      <th>Playing Time</th>\n",
       "      <th>...</th>\n",
       "      <th>Per 90 Minutes.1</th>\n",
       "      <th>Per 90 Minutes.2</th>\n",
       "      <th>Per 90 Minutes.3</th>\n",
       "      <th>Per 90 Minutes.4</th>\n",
       "      <th>Per 90 Minutes.5</th>\n",
       "      <th>Per 90 Minutes.6</th>\n",
       "      <th>Per 90 Minutes.7</th>\n",
       "      <th>Per 90 Minutes.8</th>\n",
       "      <th>Per 90 Minutes.9</th>\n",
       "      <th>Unnamed: 37_level_0</th>\n",
       "    </tr>\n",
       "  </thead>\n",
       "  <tbody>\n",
       "    <tr>\n",
       "      <th>3000</th>\n",
       "      <td>2999.0</td>\n",
       "      <td>2885</td>\n",
       "      <td>Martin Ødegaard</td>\n",
       "      <td>no NOR</td>\n",
       "      <td>MF</td>\n",
       "      <td>Arsenal</td>\n",
       "      <td>eng Premier League</td>\n",
       "      <td>23</td>\n",
       "      <td>1998</td>\n",
       "      <td>37</td>\n",
       "      <td>...</td>\n",
       "      <td>0.20</td>\n",
       "      <td>0.63</td>\n",
       "      <td>0.43</td>\n",
       "      <td>0.63</td>\n",
       "      <td>0.29</td>\n",
       "      <td>0.23</td>\n",
       "      <td>0.52</td>\n",
       "      <td>0.29</td>\n",
       "      <td>0.52</td>\n",
       "      <td>Matches</td>\n",
       "    </tr>\n",
       "    <tr>\n",
       "      <th>3001</th>\n",
       "      <td>3000.0</td>\n",
       "      <td>2886</td>\n",
       "      <td>Milan Đurić</td>\n",
       "      <td>ba BIH</td>\n",
       "      <td>FW</td>\n",
       "      <td>Hellas Verona</td>\n",
       "      <td>it Serie A</td>\n",
       "      <td>32</td>\n",
       "      <td>1990</td>\n",
       "      <td>28</td>\n",
       "      <td>...</td>\n",
       "      <td>0.07</td>\n",
       "      <td>0.13</td>\n",
       "      <td>0.07</td>\n",
       "      <td>0.13</td>\n",
       "      <td>0.09</td>\n",
       "      <td>0.08</td>\n",
       "      <td>0.18</td>\n",
       "      <td>0.09</td>\n",
       "      <td>0.18</td>\n",
       "      <td>Matches</td>\n",
       "    </tr>\n",
       "    <tr>\n",
       "      <th>3002</th>\n",
       "      <td>3001.0</td>\n",
       "      <td>2887</td>\n",
       "      <td>Filip Đuričić</td>\n",
       "      <td>rs SRB</td>\n",
       "      <td>MF,FW</td>\n",
       "      <td>Sampdoria</td>\n",
       "      <td>it Serie A</td>\n",
       "      <td>30</td>\n",
       "      <td>1992</td>\n",
       "      <td>32</td>\n",
       "      <td>...</td>\n",
       "      <td>0.00</td>\n",
       "      <td>0.12</td>\n",
       "      <td>0.12</td>\n",
       "      <td>0.12</td>\n",
       "      <td>0.11</td>\n",
       "      <td>0.08</td>\n",
       "      <td>0.19</td>\n",
       "      <td>0.11</td>\n",
       "      <td>0.19</td>\n",
       "      <td>Matches</td>\n",
       "    </tr>\n",
       "    <tr>\n",
       "      <th>3003</th>\n",
       "      <td>3002.0</td>\n",
       "      <td>2888</td>\n",
       "      <td>Blanco</td>\n",
       "      <td>NaN</td>\n",
       "      <td>MF</td>\n",
       "      <td>Cádiz</td>\n",
       "      <td>es La Liga</td>\n",
       "      <td>22</td>\n",
       "      <td>2000</td>\n",
       "      <td>3</td>\n",
       "      <td>...</td>\n",
       "      <td>0.00</td>\n",
       "      <td>0.00</td>\n",
       "      <td>0.00</td>\n",
       "      <td>0.00</td>\n",
       "      <td>NaN</td>\n",
       "      <td>NaN</td>\n",
       "      <td>NaN</td>\n",
       "      <td>NaN</td>\n",
       "      <td>NaN</td>\n",
       "      <td>Matches</td>\n",
       "    </tr>\n",
       "    <tr>\n",
       "      <th>3004</th>\n",
       "      <td>3003.0</td>\n",
       "      <td>2889</td>\n",
       "      <td>Hugo Guillamón</td>\n",
       "      <td>NaN</td>\n",
       "      <td>DF,MF</td>\n",
       "      <td>Valencia</td>\n",
       "      <td>es La Liga</td>\n",
       "      <td>22</td>\n",
       "      <td>2000</td>\n",
       "      <td>25</td>\n",
       "      <td>...</td>\n",
       "      <td>0.22</td>\n",
       "      <td>0.28</td>\n",
       "      <td>0.00</td>\n",
       "      <td>0.22</td>\n",
       "      <td>NaN</td>\n",
       "      <td>NaN</td>\n",
       "      <td>NaN</td>\n",
       "      <td>NaN</td>\n",
       "      <td>NaN</td>\n",
       "      <td>Matches</td>\n",
       "    </tr>\n",
       "  </tbody>\n",
       "</table>\n",
       "<p>5 rows × 39 columns</p>\n",
       "</div>"
      ],
      "text/plain": [
       "      Unnamed: 0 Unnamed: 0_level_0 Unnamed: 1_level_0 Unnamed: 2_level_0  \\\n",
       "3000      2999.0               2885    Martin Ødegaard             no NOR   \n",
       "3001      3000.0               2886        Milan Đurić             ba BIH   \n",
       "3002      3001.0               2887      Filip Đuričić             rs SRB   \n",
       "3003      3002.0               2888             Blanco                NaN   \n",
       "3004      3003.0               2889     Hugo Guillamón                NaN   \n",
       "\n",
       "     Unnamed: 3_level_0 Unnamed: 4_level_0  Unnamed: 5_level_0  \\\n",
       "3000                 MF            Arsenal  eng Premier League   \n",
       "3001                 FW      Hellas Verona          it Serie A   \n",
       "3002              MF,FW          Sampdoria          it Serie A   \n",
       "3003                 MF              Cádiz          es La Liga   \n",
       "3004              DF,MF           Valencia          es La Liga   \n",
       "\n",
       "     Unnamed: 6_level_0 Unnamed: 7_level_0 Playing Time  ... Per 90 Minutes.1  \\\n",
       "3000                 23               1998           37  ...             0.20   \n",
       "3001                 32               1990           28  ...             0.07   \n",
       "3002                 30               1992           32  ...             0.00   \n",
       "3003                 22               2000            3  ...             0.00   \n",
       "3004                 22               2000           25  ...             0.22   \n",
       "\n",
       "     Per 90 Minutes.2 Per 90 Minutes.3 Per 90 Minutes.4 Per 90 Minutes.5  \\\n",
       "3000             0.63             0.43             0.63             0.29   \n",
       "3001             0.13             0.07             0.13             0.09   \n",
       "3002             0.12             0.12             0.12             0.11   \n",
       "3003             0.00             0.00             0.00              NaN   \n",
       "3004             0.28             0.00             0.22              NaN   \n",
       "\n",
       "     Per 90 Minutes.6 Per 90 Minutes.7 Per 90 Minutes.8 Per 90 Minutes.9  \\\n",
       "3000             0.23             0.52             0.29             0.52   \n",
       "3001             0.08             0.18             0.09             0.18   \n",
       "3002             0.08             0.19             0.11             0.19   \n",
       "3003              NaN              NaN              NaN              NaN   \n",
       "3004              NaN              NaN              NaN              NaN   \n",
       "\n",
       "     Unnamed: 37_level_0  \n",
       "3000             Matches  \n",
       "3001             Matches  \n",
       "3002             Matches  \n",
       "3003             Matches  \n",
       "3004             Matches  \n",
       "\n",
       "[5 rows x 39 columns]"
      ]
     },
     "execution_count": 163,
     "metadata": {},
     "output_type": "execute_result"
    }
   ],
   "source": [
    "# Display the last 5 rows of the dataframe\n",
    "df.tail()"
   ]
  },
  {
   "cell_type": "code",
   "execution_count": 164,
   "id": "1d02829b7676bb9d",
   "metadata": {
    "ExecuteTime": {
     "end_time": "2024-03-10T05:07:11.606396Z",
     "start_time": "2024-03-10T05:07:11.537758Z"
    },
    "collapsed": false,
    "jupyter": {
     "outputs_hidden": false
    }
   },
   "outputs": [
    {
     "data": {
      "text/plain": [
       "(3005, 39)"
      ]
     },
     "execution_count": 164,
     "metadata": {},
     "output_type": "execute_result"
    }
   ],
   "source": [
    "# Display the shape of the dataframe\n",
    "df.shape"
   ]
  },
  {
   "cell_type": "code",
   "execution_count": 165,
   "id": "ab7708af0b8edad4",
   "metadata": {
    "ExecuteTime": {
     "end_time": "2024-03-10T05:07:11.820990Z",
     "start_time": "2024-03-10T05:07:11.799364Z"
    },
    "collapsed": false,
    "jupyter": {
     "outputs_hidden": false
    }
   },
   "outputs": [
    {
     "data": {
      "text/plain": [
       "Index(['Unnamed: 0', 'Unnamed: 0_level_0', 'Unnamed: 1_level_0',\n",
       "       'Unnamed: 2_level_0', 'Unnamed: 3_level_0', 'Unnamed: 4_level_0',\n",
       "       'Unnamed: 5_level_0', 'Unnamed: 6_level_0', 'Unnamed: 7_level_0',\n",
       "       'Playing Time', 'Playing Time.1', 'Playing Time.2', 'Playing Time.3',\n",
       "       'Performance', 'Performance.1', 'Performance.2', 'Performance.3',\n",
       "       'Performance.4', 'Performance.5', 'Performance.6', 'Performance.7',\n",
       "       'Expected', 'Expected.1', 'Expected.2', 'Expected.3', 'Progression',\n",
       "       'Progression.1', 'Progression.2', 'Per 90 Minutes', 'Per 90 Minutes.1',\n",
       "       'Per 90 Minutes.2', 'Per 90 Minutes.3', 'Per 90 Minutes.4',\n",
       "       'Per 90 Minutes.5', 'Per 90 Minutes.6', 'Per 90 Minutes.7',\n",
       "       'Per 90 Minutes.8', 'Per 90 Minutes.9', 'Unnamed: 37_level_0'],\n",
       "      dtype='object')"
      ]
     },
     "execution_count": 165,
     "metadata": {},
     "output_type": "execute_result"
    }
   ],
   "source": [
    "# Display the columns of the dataframe\n",
    "df.columns"
   ]
  },
  {
   "cell_type": "code",
   "execution_count": 166,
   "id": "e518051b2ac1dcaa",
   "metadata": {
    "ExecuteTime": {
     "end_time": "2024-03-10T05:07:12.064527Z",
     "start_time": "2024-03-10T05:07:12.044200Z"
    },
    "collapsed": false,
    "jupyter": {
     "outputs_hidden": false
    }
   },
   "outputs": [
    {
     "data": {
      "text/plain": [
       "Unnamed: 0             float64\n",
       "Unnamed: 0_level_0      object\n",
       "Unnamed: 1_level_0      object\n",
       "Unnamed: 2_level_0      object\n",
       "Unnamed: 3_level_0      object\n",
       "Unnamed: 4_level_0      object\n",
       "Unnamed: 5_level_0      object\n",
       "Unnamed: 6_level_0      object\n",
       "Unnamed: 7_level_0      object\n",
       "Playing Time            object\n",
       "Playing Time.1          object\n",
       "Playing Time.2          object\n",
       "Playing Time.3          object\n",
       "Performance             object\n",
       "Performance.1           object\n",
       "Performance.2           object\n",
       "Performance.3           object\n",
       "Performance.4           object\n",
       "Performance.5           object\n",
       "Performance.6           object\n",
       "Performance.7           object\n",
       "Expected                object\n",
       "Expected.1              object\n",
       "Expected.2              object\n",
       "Expected.3              object\n",
       "Progression             object\n",
       "Progression.1           object\n",
       "Progression.2           object\n",
       "Per 90 Minutes          object\n",
       "Per 90 Minutes.1        object\n",
       "Per 90 Minutes.2        object\n",
       "Per 90 Minutes.3        object\n",
       "Per 90 Minutes.4        object\n",
       "Per 90 Minutes.5        object\n",
       "Per 90 Minutes.6        object\n",
       "Per 90 Minutes.7        object\n",
       "Per 90 Minutes.8        object\n",
       "Per 90 Minutes.9        object\n",
       "Unnamed: 37_level_0     object\n",
       "dtype: object"
      ]
     },
     "execution_count": 166,
     "metadata": {},
     "output_type": "execute_result"
    }
   ],
   "source": [
    "# Display the data types of the columns\n",
    "df.dtypes"
   ]
  },
  {
   "cell_type": "code",
   "execution_count": 167,
   "id": "21a53fb435c44732",
   "metadata": {
    "ExecuteTime": {
     "end_time": "2024-03-10T05:07:12.380846Z",
     "start_time": "2024-03-10T05:07:12.344925Z"
    },
    "collapsed": false,
    "jupyter": {
     "outputs_hidden": false
    }
   },
   "outputs": [
    {
     "data": {
      "text/html": [
       "<div>\n",
       "<style scoped>\n",
       "    .dataframe tbody tr th:only-of-type {\n",
       "        vertical-align: middle;\n",
       "    }\n",
       "\n",
       "    .dataframe tbody tr th {\n",
       "        vertical-align: top;\n",
       "    }\n",
       "\n",
       "    .dataframe thead th {\n",
       "        text-align: right;\n",
       "    }\n",
       "</style>\n",
       "<table border=\"1\" class=\"dataframe\">\n",
       "  <thead>\n",
       "    <tr style=\"text-align: right;\">\n",
       "      <th></th>\n",
       "      <th>Unnamed: 0</th>\n",
       "    </tr>\n",
       "  </thead>\n",
       "  <tbody>\n",
       "    <tr>\n",
       "      <th>count</th>\n",
       "      <td>3004.00000</td>\n",
       "    </tr>\n",
       "    <tr>\n",
       "      <th>mean</th>\n",
       "      <td>1501.50000</td>\n",
       "    </tr>\n",
       "    <tr>\n",
       "      <th>std</th>\n",
       "      <td>867.32443</td>\n",
       "    </tr>\n",
       "    <tr>\n",
       "      <th>min</th>\n",
       "      <td>0.00000</td>\n",
       "    </tr>\n",
       "    <tr>\n",
       "      <th>25%</th>\n",
       "      <td>750.75000</td>\n",
       "    </tr>\n",
       "    <tr>\n",
       "      <th>50%</th>\n",
       "      <td>1501.50000</td>\n",
       "    </tr>\n",
       "    <tr>\n",
       "      <th>75%</th>\n",
       "      <td>2252.25000</td>\n",
       "    </tr>\n",
       "    <tr>\n",
       "      <th>max</th>\n",
       "      <td>3003.00000</td>\n",
       "    </tr>\n",
       "  </tbody>\n",
       "</table>\n",
       "</div>"
      ],
      "text/plain": [
       "       Unnamed: 0\n",
       "count  3004.00000\n",
       "mean   1501.50000\n",
       "std     867.32443\n",
       "min       0.00000\n",
       "25%     750.75000\n",
       "50%    1501.50000\n",
       "75%    2252.25000\n",
       "max    3003.00000"
      ]
     },
     "execution_count": 167,
     "metadata": {},
     "output_type": "execute_result"
    }
   ],
   "source": [
    "# Display the summary statistics of the dataframe\n",
    "df.describe()"
   ]
  },
  {
   "cell_type": "code",
   "execution_count": 194,
   "id": "2e36089b515fd876",
   "metadata": {
    "ExecuteTime": {
     "end_time": "2024-03-10T05:10:59.632948Z",
     "start_time": "2024-03-10T05:10:59.610331Z"
    },
    "collapsed": false,
    "jupyter": {
     "outputs_hidden": false
    }
   },
   "outputs": [
    {
     "name": "stdout",
     "output_type": "stream",
     "text": [
      "<class 'pandas.core.frame.DataFrame'>\n",
      "Index: 2889 entries, 1 to 3004\n",
      "Data columns (total 38 columns):\n",
      " #   Column                     Non-Null Count  Dtype  \n",
      "---  ------                     --------------  -----  \n",
      " 0   Player                     2889 non-null   object \n",
      " 1   Nation                     2887 non-null   object \n",
      " 2   Pos                        2889 non-null   object \n",
      " 3   Squad                      2889 non-null   object \n",
      " 4   Comp                       2889 non-null   object \n",
      " 5   Age                        2641 non-null   float64\n",
      " 6   Born                       2889 non-null   object \n",
      " 7   Playing Time MP            2889 non-null   int64  \n",
      " 8   Playing Time.1 Starts      2889 non-null   object \n",
      " 9   Playing Time.2 Min         2889 non-null   int64  \n",
      " 10  Playing Time.3 90s         2889 non-null   object \n",
      " 11  Performance Gls            2889 non-null   int64  \n",
      " 12  Performance.1 Ast          2889 non-null   object \n",
      " 13  Performance.2 G+A          2889 non-null   object \n",
      " 14  Performance.3 G-PK         2889 non-null   object \n",
      " 15  Performance.4 PK           2889 non-null   object \n",
      " 16  Performance.5 PKatt        2889 non-null   object \n",
      " 17  Performance.6 CrdY         2889 non-null   object \n",
      " 18  Performance.7 CrdR         2889 non-null   object \n",
      " 19  Expected xG                2886 non-null   object \n",
      " 20  Expected.1 npxG            2886 non-null   object \n",
      " 21  Expected.2 xAG             2886 non-null   object \n",
      " 22  Expected.3 npxG+xAG        2886 non-null   object \n",
      " 23  Progression PrgC           2886 non-null   object \n",
      " 24  Progression.1 PrgP         2886 non-null   object \n",
      " 25  Progression.2 PrgR         2886 non-null   object \n",
      " 26  Per 90 Minutes Gls         2889 non-null   object \n",
      " 27  Per 90 Minutes.1 Ast       2889 non-null   object \n",
      " 28  Per 90 Minutes.2 G+A       2889 non-null   object \n",
      " 29  Per 90 Minutes.3 G-PK      2889 non-null   object \n",
      " 30  Per 90 Minutes.4 G+A-PK    2889 non-null   object \n",
      " 31  Per 90 Minutes.5 xG        2886 non-null   object \n",
      " 32  Per 90 Minutes.6 xAG       2886 non-null   object \n",
      " 33  Per 90 Minutes.7 xG+xAG    2886 non-null   object \n",
      " 34  Per 90 Minutes.8 npxG      2886 non-null   object \n",
      " 35  Per 90 Minutes.9 npxG+xAG  2886 non-null   object \n",
      " 36  Matches                    2889 non-null   object \n",
      " 37  Age Group                  2889 non-null   object \n",
      "dtypes: float64(1), int64(3), object(34)\n",
      "memory usage: 880.2+ KB\n"
     ]
    }
   ],
   "source": [
    "# We can use the .info() method to get a summary of the dataframe\n",
    "df.info()"
   ]
  },
  {
   "cell_type": "code",
   "execution_count": 195,
   "id": "3a2dd57fa386f57e",
   "metadata": {
    "ExecuteTime": {
     "end_time": "2024-03-10T05:11:09.001090Z",
     "start_time": "2024-03-10T05:11:08.994039Z"
    },
    "collapsed": false,
    "jupyter": {
     "outputs_hidden": false
    }
   },
   "outputs": [
    {
     "data": {
      "text/plain": [
       "Player                         0\n",
       "Nation                         2\n",
       "Pos                            0\n",
       "Squad                          0\n",
       "Comp                           0\n",
       "Age                          248\n",
       "Born                           0\n",
       "Playing Time MP                0\n",
       "Playing Time.1 Starts          0\n",
       "Playing Time.2 Min             0\n",
       "Playing Time.3 90s             0\n",
       "Performance Gls                0\n",
       "Performance.1 Ast              0\n",
       "Performance.2 G+A              0\n",
       "Performance.3 G-PK             0\n",
       "Performance.4 PK               0\n",
       "Performance.5 PKatt            0\n",
       "Performance.6 CrdY             0\n",
       "Performance.7 CrdR             0\n",
       "Expected xG                    3\n",
       "Expected.1 npxG                3\n",
       "Expected.2 xAG                 3\n",
       "Expected.3 npxG+xAG            3\n",
       "Progression PrgC               3\n",
       "Progression.1 PrgP             3\n",
       "Progression.2 PrgR             3\n",
       "Per 90 Minutes Gls             0\n",
       "Per 90 Minutes.1 Ast           0\n",
       "Per 90 Minutes.2 G+A           0\n",
       "Per 90 Minutes.3 G-PK          0\n",
       "Per 90 Minutes.4 G+A-PK        0\n",
       "Per 90 Minutes.5 xG            3\n",
       "Per 90 Minutes.6 xAG           3\n",
       "Per 90 Minutes.7 xG+xAG        3\n",
       "Per 90 Minutes.8 npxG          3\n",
       "Per 90 Minutes.9 npxG+xAG      3\n",
       "Matches                        0\n",
       "Age Group                      0\n",
       "dtype: int64"
      ]
     },
     "execution_count": 195,
     "metadata": {},
     "output_type": "execute_result"
    }
   ],
   "source": [
    "# We can use the .isnull() method to check for missing values\n",
    "df.isnull().sum()"
   ]
  },
  {
   "cell_type": "code",
   "execution_count": 168,
   "id": "b4e752d154ff43d8",
   "metadata": {
    "ExecuteTime": {
     "end_time": "2024-03-10T05:07:12.699599Z",
     "start_time": "2024-03-10T05:07:12.666797Z"
    },
    "collapsed": false,
    "jupyter": {
     "outputs_hidden": false
    }
   },
   "outputs": [],
   "source": [
    "# Let's fix the column names. The actual column names are in the first row of the dataframe so we need to combine the first row with the column names\n",
    "# First let's get rid of Unnamed: 0\n",
    "df = df.drop('Unnamed: 0', axis=1)\n",
    "\n",
    "df.columns = df.columns + ' ' + df.iloc[0]\n",
    "\n",
    "# Drop the first row\n",
    "df = df.drop(0)"
   ]
  },
  {
   "cell_type": "code",
   "execution_count": 169,
   "id": "ae1d2040f7903757",
   "metadata": {
    "ExecuteTime": {
     "end_time": "2024-03-10T05:07:12.949499Z",
     "start_time": "2024-03-10T05:07:12.933242Z"
    },
    "collapsed": false,
    "jupyter": {
     "outputs_hidden": false
    }
   },
   "outputs": [
    {
     "data": {
      "text/html": [
       "<div>\n",
       "<style scoped>\n",
       "    .dataframe tbody tr th:only-of-type {\n",
       "        vertical-align: middle;\n",
       "    }\n",
       "\n",
       "    .dataframe tbody tr th {\n",
       "        vertical-align: top;\n",
       "    }\n",
       "\n",
       "    .dataframe thead th {\n",
       "        text-align: right;\n",
       "    }\n",
       "</style>\n",
       "<table border=\"1\" class=\"dataframe\">\n",
       "  <thead>\n",
       "    <tr style=\"text-align: right;\">\n",
       "      <th></th>\n",
       "      <th>Unnamed: 0_level_0 Rk</th>\n",
       "      <th>Unnamed: 1_level_0 Player</th>\n",
       "      <th>Unnamed: 2_level_0 Nation</th>\n",
       "      <th>Unnamed: 3_level_0 Pos</th>\n",
       "      <th>Unnamed: 4_level_0 Squad</th>\n",
       "      <th>Unnamed: 5_level_0 Comp</th>\n",
       "      <th>Unnamed: 6_level_0 Age</th>\n",
       "      <th>Unnamed: 7_level_0 Born</th>\n",
       "      <th>Playing Time MP</th>\n",
       "      <th>Playing Time.1 Starts</th>\n",
       "      <th>...</th>\n",
       "      <th>Per 90 Minutes.1 Ast</th>\n",
       "      <th>Per 90 Minutes.2 G+A</th>\n",
       "      <th>Per 90 Minutes.3 G-PK</th>\n",
       "      <th>Per 90 Minutes.4 G+A-PK</th>\n",
       "      <th>Per 90 Minutes.5 xG</th>\n",
       "      <th>Per 90 Minutes.6 xAG</th>\n",
       "      <th>Per 90 Minutes.7 xG+xAG</th>\n",
       "      <th>Per 90 Minutes.8 npxG</th>\n",
       "      <th>Per 90 Minutes.9 npxG+xAG</th>\n",
       "      <th>Unnamed: 37_level_0 Matches</th>\n",
       "    </tr>\n",
       "  </thead>\n",
       "  <tbody>\n",
       "    <tr>\n",
       "      <th>1</th>\n",
       "      <td>1</td>\n",
       "      <td>Brenden Aaronson</td>\n",
       "      <td>us USA</td>\n",
       "      <td>MF,FW</td>\n",
       "      <td>Leeds United</td>\n",
       "      <td>eng Premier League</td>\n",
       "      <td>21</td>\n",
       "      <td>2000</td>\n",
       "      <td>36</td>\n",
       "      <td>28</td>\n",
       "      <td>...</td>\n",
       "      <td>0.11</td>\n",
       "      <td>0.15</td>\n",
       "      <td>0.04</td>\n",
       "      <td>0.15</td>\n",
       "      <td>0.15</td>\n",
       "      <td>0.16</td>\n",
       "      <td>0.31</td>\n",
       "      <td>0.15</td>\n",
       "      <td>0.31</td>\n",
       "      <td>Matches</td>\n",
       "    </tr>\n",
       "    <tr>\n",
       "      <th>2</th>\n",
       "      <td>2</td>\n",
       "      <td>Paxten Aaronson</td>\n",
       "      <td>us USA</td>\n",
       "      <td>MF,DF</td>\n",
       "      <td>Eint Frankfurt</td>\n",
       "      <td>de Bundesliga</td>\n",
       "      <td>18</td>\n",
       "      <td>2003</td>\n",
       "      <td>7</td>\n",
       "      <td>0</td>\n",
       "      <td>...</td>\n",
       "      <td>0.00</td>\n",
       "      <td>0.00</td>\n",
       "      <td>0.00</td>\n",
       "      <td>0.00</td>\n",
       "      <td>0.09</td>\n",
       "      <td>0.03</td>\n",
       "      <td>0.11</td>\n",
       "      <td>0.09</td>\n",
       "      <td>0.11</td>\n",
       "      <td>Matches</td>\n",
       "    </tr>\n",
       "    <tr>\n",
       "      <th>3</th>\n",
       "      <td>3</td>\n",
       "      <td>James Abankwah</td>\n",
       "      <td>ie IRL</td>\n",
       "      <td>DF</td>\n",
       "      <td>Udinese</td>\n",
       "      <td>it Serie A</td>\n",
       "      <td>18</td>\n",
       "      <td>2004</td>\n",
       "      <td>2</td>\n",
       "      <td>1</td>\n",
       "      <td>...</td>\n",
       "      <td>0.00</td>\n",
       "      <td>0.00</td>\n",
       "      <td>0.00</td>\n",
       "      <td>0.00</td>\n",
       "      <td>0.00</td>\n",
       "      <td>0.00</td>\n",
       "      <td>0.00</td>\n",
       "      <td>0.00</td>\n",
       "      <td>0.00</td>\n",
       "      <td>Matches</td>\n",
       "    </tr>\n",
       "    <tr>\n",
       "      <th>4</th>\n",
       "      <td>4</td>\n",
       "      <td>George Abbott</td>\n",
       "      <td>eng ENG</td>\n",
       "      <td>MF</td>\n",
       "      <td>Tottenham</td>\n",
       "      <td>eng Premier League</td>\n",
       "      <td>16</td>\n",
       "      <td>2005</td>\n",
       "      <td>1</td>\n",
       "      <td>0</td>\n",
       "      <td>...</td>\n",
       "      <td>0.00</td>\n",
       "      <td>0.00</td>\n",
       "      <td>0.00</td>\n",
       "      <td>0.00</td>\n",
       "      <td>0.00</td>\n",
       "      <td>0.00</td>\n",
       "      <td>0.00</td>\n",
       "      <td>0.00</td>\n",
       "      <td>0.00</td>\n",
       "      <td>Matches</td>\n",
       "    </tr>\n",
       "    <tr>\n",
       "      <th>5</th>\n",
       "      <td>5</td>\n",
       "      <td>Yunis Abdelhamid</td>\n",
       "      <td>ma MAR</td>\n",
       "      <td>DF</td>\n",
       "      <td>Reims</td>\n",
       "      <td>fr Ligue 1</td>\n",
       "      <td>34</td>\n",
       "      <td>1987</td>\n",
       "      <td>37</td>\n",
       "      <td>37</td>\n",
       "      <td>...</td>\n",
       "      <td>0.05</td>\n",
       "      <td>0.08</td>\n",
       "      <td>0.03</td>\n",
       "      <td>0.08</td>\n",
       "      <td>0.06</td>\n",
       "      <td>0.03</td>\n",
       "      <td>0.09</td>\n",
       "      <td>0.06</td>\n",
       "      <td>0.09</td>\n",
       "      <td>Matches</td>\n",
       "    </tr>\n",
       "  </tbody>\n",
       "</table>\n",
       "<p>5 rows × 38 columns</p>\n",
       "</div>"
      ],
      "text/plain": [
       "  Unnamed: 0_level_0 Rk Unnamed: 1_level_0 Player Unnamed: 2_level_0 Nation  \\\n",
       "1                     1          Brenden Aaronson                    us USA   \n",
       "2                     2           Paxten Aaronson                    us USA   \n",
       "3                     3            James Abankwah                    ie IRL   \n",
       "4                     4             George Abbott                   eng ENG   \n",
       "5                     5          Yunis Abdelhamid                    ma MAR   \n",
       "\n",
       "  Unnamed: 3_level_0 Pos Unnamed: 4_level_0 Squad Unnamed: 5_level_0 Comp  \\\n",
       "1                  MF,FW             Leeds United      eng Premier League   \n",
       "2                  MF,DF           Eint Frankfurt           de Bundesliga   \n",
       "3                     DF                  Udinese              it Serie A   \n",
       "4                     MF                Tottenham      eng Premier League   \n",
       "5                     DF                    Reims              fr Ligue 1   \n",
       "\n",
       "  Unnamed: 6_level_0 Age Unnamed: 7_level_0 Born Playing Time MP  \\\n",
       "1                     21                    2000              36   \n",
       "2                     18                    2003               7   \n",
       "3                     18                    2004               2   \n",
       "4                     16                    2005               1   \n",
       "5                     34                    1987              37   \n",
       "\n",
       "  Playing Time.1 Starts  ... Per 90 Minutes.1 Ast Per 90 Minutes.2 G+A  \\\n",
       "1                    28  ...                 0.11                 0.15   \n",
       "2                     0  ...                 0.00                 0.00   \n",
       "3                     1  ...                 0.00                 0.00   \n",
       "4                     0  ...                 0.00                 0.00   \n",
       "5                    37  ...                 0.05                 0.08   \n",
       "\n",
       "  Per 90 Minutes.3 G-PK Per 90 Minutes.4 G+A-PK Per 90 Minutes.5 xG  \\\n",
       "1                  0.04                    0.15                0.15   \n",
       "2                  0.00                    0.00                0.09   \n",
       "3                  0.00                    0.00                0.00   \n",
       "4                  0.00                    0.00                0.00   \n",
       "5                  0.03                    0.08                0.06   \n",
       "\n",
       "  Per 90 Minutes.6 xAG Per 90 Minutes.7 xG+xAG Per 90 Minutes.8 npxG  \\\n",
       "1                 0.16                    0.31                  0.15   \n",
       "2                 0.03                    0.11                  0.09   \n",
       "3                 0.00                    0.00                  0.00   \n",
       "4                 0.00                    0.00                  0.00   \n",
       "5                 0.03                    0.09                  0.06   \n",
       "\n",
       "  Per 90 Minutes.9 npxG+xAG Unnamed: 37_level_0 Matches  \n",
       "1                      0.31                     Matches  \n",
       "2                      0.11                     Matches  \n",
       "3                      0.00                     Matches  \n",
       "4                      0.00                     Matches  \n",
       "5                      0.09                     Matches  \n",
       "\n",
       "[5 rows x 38 columns]"
      ]
     },
     "execution_count": 169,
     "metadata": {},
     "output_type": "execute_result"
    }
   ],
   "source": [
    "df.head()"
   ]
  },
  {
   "cell_type": "code",
   "execution_count": 170,
   "id": "4661c988beef1cc6",
   "metadata": {
    "ExecuteTime": {
     "end_time": "2024-03-10T05:07:13.297258Z",
     "start_time": "2024-03-10T05:07:13.253308Z"
    },
    "collapsed": false,
    "jupyter": {
     "outputs_hidden": false
    }
   },
   "outputs": [],
   "source": [
    "# We can drop columns that we don't need\n",
    "# Axis 1 means we are dropping columns\n",
    "df = df.drop(['Unnamed: 0_level_0 Rk'], axis=1)"
   ]
  },
  {
   "cell_type": "code",
   "execution_count": 171,
   "id": "c2b73983fbff0255",
   "metadata": {
    "ExecuteTime": {
     "end_time": "2024-03-10T05:07:13.532140Z",
     "start_time": "2024-03-10T05:07:13.512529Z"
    },
    "collapsed": false,
    "jupyter": {
     "outputs_hidden": false
    }
   },
   "outputs": [
    {
     "data": {
      "text/plain": [
       "Index(['Unnamed: 1_level_0 Player', 'Unnamed: 2_level_0 Nation',\n",
       "       'Unnamed: 3_level_0 Pos', 'Unnamed: 4_level_0 Squad',\n",
       "       'Unnamed: 5_level_0 Comp', 'Unnamed: 6_level_0 Age',\n",
       "       'Unnamed: 7_level_0 Born', 'Playing Time MP', 'Playing Time.1 Starts',\n",
       "       'Playing Time.2 Min', 'Playing Time.3 90s', 'Performance Gls',\n",
       "       'Performance.1 Ast', 'Performance.2 G+A', 'Performance.3 G-PK',\n",
       "       'Performance.4 PK', 'Performance.5 PKatt', 'Performance.6 CrdY',\n",
       "       'Performance.7 CrdR', 'Expected xG', 'Expected.1 npxG',\n",
       "       'Expected.2 xAG', 'Expected.3 npxG+xAG', 'Progression PrgC',\n",
       "       'Progression.1 PrgP', 'Progression.2 PrgR', 'Per 90 Minutes Gls',\n",
       "       'Per 90 Minutes.1 Ast', 'Per 90 Minutes.2 G+A', 'Per 90 Minutes.3 G-PK',\n",
       "       'Per 90 Minutes.4 G+A-PK', 'Per 90 Minutes.5 xG',\n",
       "       'Per 90 Minutes.6 xAG', 'Per 90 Minutes.7 xG+xAG',\n",
       "       'Per 90 Minutes.8 npxG', 'Per 90 Minutes.9 npxG+xAG',\n",
       "       'Unnamed: 37_level_0 Matches'],\n",
       "      dtype='object')"
      ]
     },
     "execution_count": 171,
     "metadata": {},
     "output_type": "execute_result"
    }
   ],
   "source": [
    "df.columns"
   ]
  },
  {
   "cell_type": "code",
   "execution_count": 172,
   "id": "564a7d3cf72981f3",
   "metadata": {
    "ExecuteTime": {
     "end_time": "2024-03-10T05:07:13.864071Z",
     "start_time": "2024-03-10T05:07:13.858408Z"
    },
    "collapsed": false,
    "jupyter": {
     "outputs_hidden": false
    }
   },
   "outputs": [],
   "source": [
    "# We can use the .rename() method to rename columns\n",
    "df = df.rename(columns={'Unnamed: 1_level_0 Player': 'Player'})"
   ]
  },
  {
   "cell_type": "code",
   "execution_count": 173,
   "id": "c2a56b14ef8ba4bb",
   "metadata": {
    "ExecuteTime": {
     "end_time": "2024-03-10T05:07:14.228571Z",
     "start_time": "2024-03-10T05:07:14.220080Z"
    },
    "collapsed": false,
    "jupyter": {
     "outputs_hidden": false
    }
   },
   "outputs": [
    {
     "data": {
      "text/plain": [
       "Index(['Player', 'Unnamed: 2_level_0 Nation', 'Unnamed: 3_level_0 Pos',\n",
       "       'Unnamed: 4_level_0 Squad', 'Unnamed: 5_level_0 Comp',\n",
       "       'Unnamed: 6_level_0 Age', 'Unnamed: 7_level_0 Born', 'Playing Time MP',\n",
       "       'Playing Time.1 Starts', 'Playing Time.2 Min', 'Playing Time.3 90s',\n",
       "       'Performance Gls', 'Performance.1 Ast', 'Performance.2 G+A',\n",
       "       'Performance.3 G-PK', 'Performance.4 PK', 'Performance.5 PKatt',\n",
       "       'Performance.6 CrdY', 'Performance.7 CrdR', 'Expected xG',\n",
       "       'Expected.1 npxG', 'Expected.2 xAG', 'Expected.3 npxG+xAG',\n",
       "       'Progression PrgC', 'Progression.1 PrgP', 'Progression.2 PrgR',\n",
       "       'Per 90 Minutes Gls', 'Per 90 Minutes.1 Ast', 'Per 90 Minutes.2 G+A',\n",
       "       'Per 90 Minutes.3 G-PK', 'Per 90 Minutes.4 G+A-PK',\n",
       "       'Per 90 Minutes.5 xG', 'Per 90 Minutes.6 xAG',\n",
       "       'Per 90 Minutes.7 xG+xAG', 'Per 90 Minutes.8 npxG',\n",
       "       'Per 90 Minutes.9 npxG+xAG', 'Unnamed: 37_level_0 Matches'],\n",
       "      dtype='object')"
      ]
     },
     "execution_count": 173,
     "metadata": {},
     "output_type": "execute_result"
    }
   ],
   "source": [
    "df.columns"
   ]
  },
  {
   "cell_type": "code",
   "execution_count": 174,
   "id": "782bb3c16f51ae7a",
   "metadata": {
    "ExecuteTime": {
     "end_time": "2024-03-10T05:07:14.571966Z",
     "start_time": "2024-03-10T05:07:14.565342Z"
    },
    "collapsed": false,
    "jupyter": {
     "outputs_hidden": false
    }
   },
   "outputs": [],
   "source": [
    "# Let's rename all columns that contain Unnamed\n",
    "df = df.rename(columns=lambda x: x.split(' ')[-1] if 'Unnamed' in x else x)"
   ]
  },
  {
   "cell_type": "code",
   "execution_count": 175,
   "id": "f338583511521014",
   "metadata": {
    "ExecuteTime": {
     "end_time": "2024-03-10T05:07:14.927278Z",
     "start_time": "2024-03-10T05:07:14.916304Z"
    },
    "collapsed": false,
    "jupyter": {
     "outputs_hidden": false
    }
   },
   "outputs": [
    {
     "data": {
      "text/html": [
       "<div>\n",
       "<style scoped>\n",
       "    .dataframe tbody tr th:only-of-type {\n",
       "        vertical-align: middle;\n",
       "    }\n",
       "\n",
       "    .dataframe tbody tr th {\n",
       "        vertical-align: top;\n",
       "    }\n",
       "\n",
       "    .dataframe thead th {\n",
       "        text-align: right;\n",
       "    }\n",
       "</style>\n",
       "<table border=\"1\" class=\"dataframe\">\n",
       "  <thead>\n",
       "    <tr style=\"text-align: right;\">\n",
       "      <th></th>\n",
       "      <th>Player</th>\n",
       "      <th>Nation</th>\n",
       "      <th>Pos</th>\n",
       "      <th>Squad</th>\n",
       "      <th>Comp</th>\n",
       "      <th>Age</th>\n",
       "      <th>Born</th>\n",
       "      <th>Playing Time MP</th>\n",
       "      <th>Playing Time.1 Starts</th>\n",
       "      <th>Playing Time.2 Min</th>\n",
       "      <th>...</th>\n",
       "      <th>Per 90 Minutes.1 Ast</th>\n",
       "      <th>Per 90 Minutes.2 G+A</th>\n",
       "      <th>Per 90 Minutes.3 G-PK</th>\n",
       "      <th>Per 90 Minutes.4 G+A-PK</th>\n",
       "      <th>Per 90 Minutes.5 xG</th>\n",
       "      <th>Per 90 Minutes.6 xAG</th>\n",
       "      <th>Per 90 Minutes.7 xG+xAG</th>\n",
       "      <th>Per 90 Minutes.8 npxG</th>\n",
       "      <th>Per 90 Minutes.9 npxG+xAG</th>\n",
       "      <th>Matches</th>\n",
       "    </tr>\n",
       "  </thead>\n",
       "  <tbody>\n",
       "    <tr>\n",
       "      <th>1</th>\n",
       "      <td>Brenden Aaronson</td>\n",
       "      <td>us USA</td>\n",
       "      <td>MF,FW</td>\n",
       "      <td>Leeds United</td>\n",
       "      <td>eng Premier League</td>\n",
       "      <td>21</td>\n",
       "      <td>2000</td>\n",
       "      <td>36</td>\n",
       "      <td>28</td>\n",
       "      <td>2372</td>\n",
       "      <td>...</td>\n",
       "      <td>0.11</td>\n",
       "      <td>0.15</td>\n",
       "      <td>0.04</td>\n",
       "      <td>0.15</td>\n",
       "      <td>0.15</td>\n",
       "      <td>0.16</td>\n",
       "      <td>0.31</td>\n",
       "      <td>0.15</td>\n",
       "      <td>0.31</td>\n",
       "      <td>Matches</td>\n",
       "    </tr>\n",
       "    <tr>\n",
       "      <th>2</th>\n",
       "      <td>Paxten Aaronson</td>\n",
       "      <td>us USA</td>\n",
       "      <td>MF,DF</td>\n",
       "      <td>Eint Frankfurt</td>\n",
       "      <td>de Bundesliga</td>\n",
       "      <td>18</td>\n",
       "      <td>2003</td>\n",
       "      <td>7</td>\n",
       "      <td>0</td>\n",
       "      <td>173</td>\n",
       "      <td>...</td>\n",
       "      <td>0.00</td>\n",
       "      <td>0.00</td>\n",
       "      <td>0.00</td>\n",
       "      <td>0.00</td>\n",
       "      <td>0.09</td>\n",
       "      <td>0.03</td>\n",
       "      <td>0.11</td>\n",
       "      <td>0.09</td>\n",
       "      <td>0.11</td>\n",
       "      <td>Matches</td>\n",
       "    </tr>\n",
       "    <tr>\n",
       "      <th>3</th>\n",
       "      <td>James Abankwah</td>\n",
       "      <td>ie IRL</td>\n",
       "      <td>DF</td>\n",
       "      <td>Udinese</td>\n",
       "      <td>it Serie A</td>\n",
       "      <td>18</td>\n",
       "      <td>2004</td>\n",
       "      <td>2</td>\n",
       "      <td>1</td>\n",
       "      <td>63</td>\n",
       "      <td>...</td>\n",
       "      <td>0.00</td>\n",
       "      <td>0.00</td>\n",
       "      <td>0.00</td>\n",
       "      <td>0.00</td>\n",
       "      <td>0.00</td>\n",
       "      <td>0.00</td>\n",
       "      <td>0.00</td>\n",
       "      <td>0.00</td>\n",
       "      <td>0.00</td>\n",
       "      <td>Matches</td>\n",
       "    </tr>\n",
       "    <tr>\n",
       "      <th>4</th>\n",
       "      <td>George Abbott</td>\n",
       "      <td>eng ENG</td>\n",
       "      <td>MF</td>\n",
       "      <td>Tottenham</td>\n",
       "      <td>eng Premier League</td>\n",
       "      <td>16</td>\n",
       "      <td>2005</td>\n",
       "      <td>1</td>\n",
       "      <td>0</td>\n",
       "      <td>1</td>\n",
       "      <td>...</td>\n",
       "      <td>0.00</td>\n",
       "      <td>0.00</td>\n",
       "      <td>0.00</td>\n",
       "      <td>0.00</td>\n",
       "      <td>0.00</td>\n",
       "      <td>0.00</td>\n",
       "      <td>0.00</td>\n",
       "      <td>0.00</td>\n",
       "      <td>0.00</td>\n",
       "      <td>Matches</td>\n",
       "    </tr>\n",
       "    <tr>\n",
       "      <th>5</th>\n",
       "      <td>Yunis Abdelhamid</td>\n",
       "      <td>ma MAR</td>\n",
       "      <td>DF</td>\n",
       "      <td>Reims</td>\n",
       "      <td>fr Ligue 1</td>\n",
       "      <td>34</td>\n",
       "      <td>1987</td>\n",
       "      <td>37</td>\n",
       "      <td>37</td>\n",
       "      <td>3330</td>\n",
       "      <td>...</td>\n",
       "      <td>0.05</td>\n",
       "      <td>0.08</td>\n",
       "      <td>0.03</td>\n",
       "      <td>0.08</td>\n",
       "      <td>0.06</td>\n",
       "      <td>0.03</td>\n",
       "      <td>0.09</td>\n",
       "      <td>0.06</td>\n",
       "      <td>0.09</td>\n",
       "      <td>Matches</td>\n",
       "    </tr>\n",
       "  </tbody>\n",
       "</table>\n",
       "<p>5 rows × 37 columns</p>\n",
       "</div>"
      ],
      "text/plain": [
       "             Player   Nation    Pos           Squad                Comp Age  \\\n",
       "1  Brenden Aaronson   us USA  MF,FW    Leeds United  eng Premier League  21   \n",
       "2   Paxten Aaronson   us USA  MF,DF  Eint Frankfurt       de Bundesliga  18   \n",
       "3    James Abankwah   ie IRL     DF         Udinese          it Serie A  18   \n",
       "4     George Abbott  eng ENG     MF       Tottenham  eng Premier League  16   \n",
       "5  Yunis Abdelhamid   ma MAR     DF           Reims          fr Ligue 1  34   \n",
       "\n",
       "   Born Playing Time MP Playing Time.1 Starts Playing Time.2 Min  ...  \\\n",
       "1  2000              36                    28               2372  ...   \n",
       "2  2003               7                     0                173  ...   \n",
       "3  2004               2                     1                 63  ...   \n",
       "4  2005               1                     0                  1  ...   \n",
       "5  1987              37                    37               3330  ...   \n",
       "\n",
       "  Per 90 Minutes.1 Ast Per 90 Minutes.2 G+A Per 90 Minutes.3 G-PK  \\\n",
       "1                 0.11                 0.15                  0.04   \n",
       "2                 0.00                 0.00                  0.00   \n",
       "3                 0.00                 0.00                  0.00   \n",
       "4                 0.00                 0.00                  0.00   \n",
       "5                 0.05                 0.08                  0.03   \n",
       "\n",
       "  Per 90 Minutes.4 G+A-PK Per 90 Minutes.5 xG Per 90 Minutes.6 xAG  \\\n",
       "1                    0.15                0.15                 0.16   \n",
       "2                    0.00                0.09                 0.03   \n",
       "3                    0.00                0.00                 0.00   \n",
       "4                    0.00                0.00                 0.00   \n",
       "5                    0.08                0.06                 0.03   \n",
       "\n",
       "  Per 90 Minutes.7 xG+xAG Per 90 Minutes.8 npxG Per 90 Minutes.9 npxG+xAG  \\\n",
       "1                    0.31                  0.15                      0.31   \n",
       "2                    0.11                  0.09                      0.11   \n",
       "3                    0.00                  0.00                      0.00   \n",
       "4                    0.00                  0.00                      0.00   \n",
       "5                    0.09                  0.06                      0.09   \n",
       "\n",
       "   Matches  \n",
       "1  Matches  \n",
       "2  Matches  \n",
       "3  Matches  \n",
       "4  Matches  \n",
       "5  Matches  \n",
       "\n",
       "[5 rows x 37 columns]"
      ]
     },
     "execution_count": 175,
     "metadata": {},
     "output_type": "execute_result"
    }
   ],
   "source": [
    "df.head()"
   ]
  },
  {
   "cell_type": "code",
   "execution_count": 176,
   "id": "99647e226c45011b",
   "metadata": {
    "ExecuteTime": {
     "end_time": "2024-03-10T05:07:15.363066Z",
     "start_time": "2024-03-10T05:07:15.275605Z"
    },
    "collapsed": false,
    "jupyter": {
     "outputs_hidden": false
    }
   },
   "outputs": [],
   "source": [
    "# Fbref puts extra column headers every 20 or so rows. We can use the .drop() method to drop these rows\n",
    "df = df.drop(df[df['Player'] == 'Player'].index)"
   ]
  },
  {
   "cell_type": "code",
   "execution_count": 196,
   "id": "8d9ccc516cf383fc",
   "metadata": {
    "ExecuteTime": {
     "end_time": "2024-03-10T05:13:02.766662Z",
     "start_time": "2024-03-10T05:13:02.722240Z"
    },
    "collapsed": false,
    "jupyter": {
     "outputs_hidden": false
    }
   },
   "outputs": [],
   "source": [
    "# We can use the .reset_index() method to reset the index of the dataframe\n",
    "df = df.reset_index(drop=True)"
   ]
  },
  {
   "cell_type": "code",
   "execution_count": 197,
   "id": "407b8f26364ce55c",
   "metadata": {
    "ExecuteTime": {
     "end_time": "2024-03-10T05:13:16.214809Z",
     "start_time": "2024-03-10T05:13:16.177061Z"
    },
    "collapsed": false,
    "jupyter": {
     "outputs_hidden": false
    }
   },
   "outputs": [
    {
     "data": {
      "text/html": [
       "<div>\n",
       "<style scoped>\n",
       "    .dataframe tbody tr th:only-of-type {\n",
       "        vertical-align: middle;\n",
       "    }\n",
       "\n",
       "    .dataframe tbody tr th {\n",
       "        vertical-align: top;\n",
       "    }\n",
       "\n",
       "    .dataframe thead th {\n",
       "        text-align: right;\n",
       "    }\n",
       "</style>\n",
       "<table border=\"1\" class=\"dataframe\">\n",
       "  <thead>\n",
       "    <tr style=\"text-align: right;\">\n",
       "      <th></th>\n",
       "      <th>Player</th>\n",
       "      <th>Nation</th>\n",
       "      <th>Pos</th>\n",
       "      <th>Squad</th>\n",
       "      <th>Comp</th>\n",
       "    </tr>\n",
       "  </thead>\n",
       "  <tbody>\n",
       "    <tr>\n",
       "      <th>0</th>\n",
       "      <td>Brenden Aaronson</td>\n",
       "      <td>us USA</td>\n",
       "      <td>MF,FW</td>\n",
       "      <td>Leeds United</td>\n",
       "      <td>eng Premier League</td>\n",
       "    </tr>\n",
       "    <tr>\n",
       "      <th>1</th>\n",
       "      <td>Paxten Aaronson</td>\n",
       "      <td>us USA</td>\n",
       "      <td>MF,DF</td>\n",
       "      <td>Eint Frankfurt</td>\n",
       "      <td>de Bundesliga</td>\n",
       "    </tr>\n",
       "    <tr>\n",
       "      <th>2</th>\n",
       "      <td>James Abankwah</td>\n",
       "      <td>ie IRL</td>\n",
       "      <td>DF</td>\n",
       "      <td>Udinese</td>\n",
       "      <td>it Serie A</td>\n",
       "    </tr>\n",
       "    <tr>\n",
       "      <th>3</th>\n",
       "      <td>George Abbott</td>\n",
       "      <td>eng ENG</td>\n",
       "      <td>MF</td>\n",
       "      <td>Tottenham</td>\n",
       "      <td>eng Premier League</td>\n",
       "    </tr>\n",
       "    <tr>\n",
       "      <th>4</th>\n",
       "      <td>Yunis Abdelhamid</td>\n",
       "      <td>ma MAR</td>\n",
       "      <td>DF</td>\n",
       "      <td>Reims</td>\n",
       "      <td>fr Ligue 1</td>\n",
       "    </tr>\n",
       "    <tr>\n",
       "      <th>5</th>\n",
       "      <td>Himad Abdelli</td>\n",
       "      <td>dz ALG</td>\n",
       "      <td>MF,FW</td>\n",
       "      <td>Angers</td>\n",
       "      <td>fr Ligue 1</td>\n",
       "    </tr>\n",
       "  </tbody>\n",
       "</table>\n",
       "</div>"
      ],
      "text/plain": [
       "             Player   Nation    Pos           Squad                Comp\n",
       "0  Brenden Aaronson   us USA  MF,FW    Leeds United  eng Premier League\n",
       "1   Paxten Aaronson   us USA  MF,DF  Eint Frankfurt       de Bundesliga\n",
       "2    James Abankwah   ie IRL     DF         Udinese          it Serie A\n",
       "3     George Abbott  eng ENG     MF       Tottenham  eng Premier League\n",
       "4  Yunis Abdelhamid   ma MAR     DF           Reims          fr Ligue 1\n",
       "5     Himad Abdelli   dz ALG  MF,FW          Angers          fr Ligue 1"
      ]
     },
     "execution_count": 197,
     "metadata": {},
     "output_type": "execute_result"
    }
   ],
   "source": [
    "# We can use the .loc[] method to select rows and columns\n",
    "df.loc[0:5, 'Player':'Comp']"
   ]
  },
  {
   "cell_type": "code",
   "execution_count": 198,
   "id": "10ef06cd1ede8c7f",
   "metadata": {
    "ExecuteTime": {
     "end_time": "2024-03-10T05:13:24.612843Z",
     "start_time": "2024-03-10T05:13:24.567303Z"
    },
    "collapsed": false,
    "jupyter": {
     "outputs_hidden": false
    }
   },
   "outputs": [
    {
     "data": {
      "text/html": [
       "<div>\n",
       "<style scoped>\n",
       "    .dataframe tbody tr th:only-of-type {\n",
       "        vertical-align: middle;\n",
       "    }\n",
       "\n",
       "    .dataframe tbody tr th {\n",
       "        vertical-align: top;\n",
       "    }\n",
       "\n",
       "    .dataframe thead th {\n",
       "        text-align: right;\n",
       "    }\n",
       "</style>\n",
       "<table border=\"1\" class=\"dataframe\">\n",
       "  <thead>\n",
       "    <tr style=\"text-align: right;\">\n",
       "      <th></th>\n",
       "      <th>Player</th>\n",
       "      <th>Nation</th>\n",
       "      <th>Pos</th>\n",
       "      <th>Squad</th>\n",
       "      <th>Comp</th>\n",
       "    </tr>\n",
       "  </thead>\n",
       "  <tbody>\n",
       "    <tr>\n",
       "      <th>0</th>\n",
       "      <td>Brenden Aaronson</td>\n",
       "      <td>us USA</td>\n",
       "      <td>MF,FW</td>\n",
       "      <td>Leeds United</td>\n",
       "      <td>eng Premier League</td>\n",
       "    </tr>\n",
       "    <tr>\n",
       "      <th>1</th>\n",
       "      <td>Paxten Aaronson</td>\n",
       "      <td>us USA</td>\n",
       "      <td>MF,DF</td>\n",
       "      <td>Eint Frankfurt</td>\n",
       "      <td>de Bundesliga</td>\n",
       "    </tr>\n",
       "    <tr>\n",
       "      <th>2</th>\n",
       "      <td>James Abankwah</td>\n",
       "      <td>ie IRL</td>\n",
       "      <td>DF</td>\n",
       "      <td>Udinese</td>\n",
       "      <td>it Serie A</td>\n",
       "    </tr>\n",
       "    <tr>\n",
       "      <th>3</th>\n",
       "      <td>George Abbott</td>\n",
       "      <td>eng ENG</td>\n",
       "      <td>MF</td>\n",
       "      <td>Tottenham</td>\n",
       "      <td>eng Premier League</td>\n",
       "    </tr>\n",
       "    <tr>\n",
       "      <th>4</th>\n",
       "      <td>Yunis Abdelhamid</td>\n",
       "      <td>ma MAR</td>\n",
       "      <td>DF</td>\n",
       "      <td>Reims</td>\n",
       "      <td>fr Ligue 1</td>\n",
       "    </tr>\n",
       "  </tbody>\n",
       "</table>\n",
       "</div>"
      ],
      "text/plain": [
       "             Player   Nation    Pos           Squad                Comp\n",
       "0  Brenden Aaronson   us USA  MF,FW    Leeds United  eng Premier League\n",
       "1   Paxten Aaronson   us USA  MF,DF  Eint Frankfurt       de Bundesliga\n",
       "2    James Abankwah   ie IRL     DF         Udinese          it Serie A\n",
       "3     George Abbott  eng ENG     MF       Tottenham  eng Premier League\n",
       "4  Yunis Abdelhamid   ma MAR     DF           Reims          fr Ligue 1"
      ]
     },
     "execution_count": 198,
     "metadata": {},
     "output_type": "execute_result"
    }
   ],
   "source": [
    "# We can use the .iloc[] method to select rows and columns by index\n",
    "df.iloc[0:5, 0:5]"
   ]
  },
  {
   "cell_type": "code",
   "execution_count": 177,
   "id": "84d9aa7b06627281",
   "metadata": {
    "ExecuteTime": {
     "end_time": "2024-03-10T05:07:15.667005Z",
     "start_time": "2024-03-10T05:07:15.645602Z"
    },
    "collapsed": false,
    "jupyter": {
     "outputs_hidden": false
    }
   },
   "outputs": [
    {
     "data": {
      "text/html": [
       "<div>\n",
       "<style scoped>\n",
       "    .dataframe tbody tr th:only-of-type {\n",
       "        vertical-align: middle;\n",
       "    }\n",
       "\n",
       "    .dataframe tbody tr th {\n",
       "        vertical-align: top;\n",
       "    }\n",
       "\n",
       "    .dataframe thead th {\n",
       "        text-align: right;\n",
       "    }\n",
       "</style>\n",
       "<table border=\"1\" class=\"dataframe\">\n",
       "  <thead>\n",
       "    <tr style=\"text-align: right;\">\n",
       "      <th></th>\n",
       "      <th>Player</th>\n",
       "      <th>Nation</th>\n",
       "      <th>Pos</th>\n",
       "      <th>Squad</th>\n",
       "      <th>Comp</th>\n",
       "      <th>Age</th>\n",
       "      <th>Born</th>\n",
       "      <th>Playing Time MP</th>\n",
       "      <th>Playing Time.1 Starts</th>\n",
       "      <th>Playing Time.2 Min</th>\n",
       "      <th>...</th>\n",
       "      <th>Per 90 Minutes.1 Ast</th>\n",
       "      <th>Per 90 Minutes.2 G+A</th>\n",
       "      <th>Per 90 Minutes.3 G-PK</th>\n",
       "      <th>Per 90 Minutes.4 G+A-PK</th>\n",
       "      <th>Per 90 Minutes.5 xG</th>\n",
       "      <th>Per 90 Minutes.6 xAG</th>\n",
       "      <th>Per 90 Minutes.7 xG+xAG</th>\n",
       "      <th>Per 90 Minutes.8 npxG</th>\n",
       "      <th>Per 90 Minutes.9 npxG+xAG</th>\n",
       "      <th>Matches</th>\n",
       "    </tr>\n",
       "  </thead>\n",
       "  <tbody>\n",
       "    <tr>\n",
       "      <th>1</th>\n",
       "      <td>Brenden Aaronson</td>\n",
       "      <td>us USA</td>\n",
       "      <td>MF,FW</td>\n",
       "      <td>Leeds United</td>\n",
       "      <td>eng Premier League</td>\n",
       "      <td>21</td>\n",
       "      <td>2000</td>\n",
       "      <td>36</td>\n",
       "      <td>28</td>\n",
       "      <td>2372</td>\n",
       "      <td>...</td>\n",
       "      <td>0.11</td>\n",
       "      <td>0.15</td>\n",
       "      <td>0.04</td>\n",
       "      <td>0.15</td>\n",
       "      <td>0.15</td>\n",
       "      <td>0.16</td>\n",
       "      <td>0.31</td>\n",
       "      <td>0.15</td>\n",
       "      <td>0.31</td>\n",
       "      <td>Matches</td>\n",
       "    </tr>\n",
       "    <tr>\n",
       "      <th>4</th>\n",
       "      <td>George Abbott</td>\n",
       "      <td>eng ENG</td>\n",
       "      <td>MF</td>\n",
       "      <td>Tottenham</td>\n",
       "      <td>eng Premier League</td>\n",
       "      <td>16</td>\n",
       "      <td>2005</td>\n",
       "      <td>1</td>\n",
       "      <td>0</td>\n",
       "      <td>1</td>\n",
       "      <td>...</td>\n",
       "      <td>0.00</td>\n",
       "      <td>0.00</td>\n",
       "      <td>0.00</td>\n",
       "      <td>0.00</td>\n",
       "      <td>0.00</td>\n",
       "      <td>0.00</td>\n",
       "      <td>0.00</td>\n",
       "      <td>0.00</td>\n",
       "      <td>0.00</td>\n",
       "      <td>Matches</td>\n",
       "    </tr>\n",
       "    <tr>\n",
       "      <th>20</th>\n",
       "      <td>Che Adams</td>\n",
       "      <td>sct SCO</td>\n",
       "      <td>FW</td>\n",
       "      <td>Southampton</td>\n",
       "      <td>eng Premier League</td>\n",
       "      <td>26</td>\n",
       "      <td>1996</td>\n",
       "      <td>28</td>\n",
       "      <td>23</td>\n",
       "      <td>1992</td>\n",
       "      <td>...</td>\n",
       "      <td>0.14</td>\n",
       "      <td>0.36</td>\n",
       "      <td>0.23</td>\n",
       "      <td>0.36</td>\n",
       "      <td>0.30</td>\n",
       "      <td>0.13</td>\n",
       "      <td>0.42</td>\n",
       "      <td>0.30</td>\n",
       "      <td>0.42</td>\n",
       "      <td>Matches</td>\n",
       "    </tr>\n",
       "    <tr>\n",
       "      <th>21</th>\n",
       "      <td>Tyler Adams</td>\n",
       "      <td>us USA</td>\n",
       "      <td>MF</td>\n",
       "      <td>Leeds United</td>\n",
       "      <td>eng Premier League</td>\n",
       "      <td>23</td>\n",
       "      <td>1999</td>\n",
       "      <td>24</td>\n",
       "      <td>24</td>\n",
       "      <td>2156</td>\n",
       "      <td>...</td>\n",
       "      <td>0.00</td>\n",
       "      <td>0.00</td>\n",
       "      <td>0.00</td>\n",
       "      <td>0.00</td>\n",
       "      <td>0.00</td>\n",
       "      <td>0.06</td>\n",
       "      <td>0.06</td>\n",
       "      <td>0.00</td>\n",
       "      <td>0.06</td>\n",
       "      <td>Matches</td>\n",
       "    </tr>\n",
       "    <tr>\n",
       "      <th>23</th>\n",
       "      <td>Tosin Adarabioyo</td>\n",
       "      <td>eng ENG</td>\n",
       "      <td>DF</td>\n",
       "      <td>Fulham</td>\n",
       "      <td>eng Premier League</td>\n",
       "      <td>24</td>\n",
       "      <td>1997</td>\n",
       "      <td>25</td>\n",
       "      <td>23</td>\n",
       "      <td>2085</td>\n",
       "      <td>...</td>\n",
       "      <td>0.00</td>\n",
       "      <td>0.04</td>\n",
       "      <td>0.04</td>\n",
       "      <td>0.04</td>\n",
       "      <td>0.03</td>\n",
       "      <td>0.02</td>\n",
       "      <td>0.05</td>\n",
       "      <td>0.03</td>\n",
       "      <td>0.05</td>\n",
       "      <td>Matches</td>\n",
       "    </tr>\n",
       "  </tbody>\n",
       "</table>\n",
       "<p>5 rows × 37 columns</p>\n",
       "</div>"
      ],
      "text/plain": [
       "              Player   Nation    Pos         Squad                Comp Age  \\\n",
       "1   Brenden Aaronson   us USA  MF,FW  Leeds United  eng Premier League  21   \n",
       "4      George Abbott  eng ENG     MF     Tottenham  eng Premier League  16   \n",
       "20         Che Adams  sct SCO     FW   Southampton  eng Premier League  26   \n",
       "21       Tyler Adams   us USA     MF  Leeds United  eng Premier League  23   \n",
       "23  Tosin Adarabioyo  eng ENG     DF        Fulham  eng Premier League  24   \n",
       "\n",
       "    Born Playing Time MP Playing Time.1 Starts Playing Time.2 Min  ...  \\\n",
       "1   2000              36                    28               2372  ...   \n",
       "4   2005               1                     0                  1  ...   \n",
       "20  1996              28                    23               1992  ...   \n",
       "21  1999              24                    24               2156  ...   \n",
       "23  1997              25                    23               2085  ...   \n",
       "\n",
       "   Per 90 Minutes.1 Ast Per 90 Minutes.2 G+A Per 90 Minutes.3 G-PK  \\\n",
       "1                  0.11                 0.15                  0.04   \n",
       "4                  0.00                 0.00                  0.00   \n",
       "20                 0.14                 0.36                  0.23   \n",
       "21                 0.00                 0.00                  0.00   \n",
       "23                 0.00                 0.04                  0.04   \n",
       "\n",
       "   Per 90 Minutes.4 G+A-PK Per 90 Minutes.5 xG Per 90 Minutes.6 xAG  \\\n",
       "1                     0.15                0.15                 0.16   \n",
       "4                     0.00                0.00                 0.00   \n",
       "20                    0.36                0.30                 0.13   \n",
       "21                    0.00                0.00                 0.06   \n",
       "23                    0.04                0.03                 0.02   \n",
       "\n",
       "   Per 90 Minutes.7 xG+xAG Per 90 Minutes.8 npxG Per 90 Minutes.9 npxG+xAG  \\\n",
       "1                     0.31                  0.15                      0.31   \n",
       "4                     0.00                  0.00                      0.00   \n",
       "20                    0.42                  0.30                      0.42   \n",
       "21                    0.06                  0.00                      0.06   \n",
       "23                    0.05                  0.03                      0.05   \n",
       "\n",
       "    Matches  \n",
       "1   Matches  \n",
       "4   Matches  \n",
       "20  Matches  \n",
       "21  Matches  \n",
       "23  Matches  \n",
       "\n",
       "[5 rows x 37 columns]"
      ]
     },
     "execution_count": 177,
     "metadata": {},
     "output_type": "execute_result"
    }
   ],
   "source": [
    "# Let's filter the dataframe to only show players from the Premier League\n",
    "prem = df[df['Comp'] == 'eng Premier League']\n",
    "prem.head()"
   ]
  },
  {
   "cell_type": "code",
   "execution_count": 178,
   "id": "33ce8f6660b45775",
   "metadata": {
    "ExecuteTime": {
     "end_time": "2024-03-10T05:07:16.070626Z",
     "start_time": "2024-03-10T05:07:16.040811Z"
    },
    "collapsed": false,
    "jupyter": {
     "outputs_hidden": false
    }
   },
   "outputs": [
    {
     "ename": "TypeError",
     "evalue": "'>' not supported between instances of 'str' and 'int'",
     "output_type": "error",
     "traceback": [
      "\u001b[0;31m---------------------------------------------------------------------------\u001b[0m",
      "\u001b[0;31mTypeError\u001b[0m                                 Traceback (most recent call last)",
      "Cell \u001b[0;32mIn[178], line 2\u001b[0m\n\u001b[1;32m      1\u001b[0m \u001b[38;5;66;03m# Let's filter the dataframe to only show players from the Premier League and have played more than 20 matches\u001b[39;00m\n\u001b[0;32m----> 2\u001b[0m prem \u001b[38;5;241m=\u001b[39m df[(df[\u001b[38;5;124m'\u001b[39m\u001b[38;5;124mComp\u001b[39m\u001b[38;5;124m'\u001b[39m] \u001b[38;5;241m==\u001b[39m \u001b[38;5;124m'\u001b[39m\u001b[38;5;124meng Premier League\u001b[39m\u001b[38;5;124m'\u001b[39m) \u001b[38;5;241m&\u001b[39m (\u001b[43mdf\u001b[49m\u001b[43m[\u001b[49m\u001b[38;5;124;43m'\u001b[39;49m\u001b[38;5;124;43mPlaying Time MP\u001b[39;49m\u001b[38;5;124;43m'\u001b[39;49m\u001b[43m]\u001b[49m\u001b[43m \u001b[49m\u001b[38;5;241;43m>\u001b[39;49m\u001b[43m \u001b[49m\u001b[38;5;241;43m20\u001b[39;49m)]\n\u001b[1;32m      3\u001b[0m \u001b[38;5;28mprint\u001b[39m(prem\u001b[38;5;241m.\u001b[39mhead())\n\u001b[1;32m      4\u001b[0m \u001b[38;5;28mprint\u001b[39m(prem\u001b[38;5;241m.\u001b[39mshape)\n",
      "File \u001b[0;32m~/miniforge3/envs/complete-football-analytics/lib/python3.11/site-packages/pandas/core/ops/common.py:76\u001b[0m, in \u001b[0;36m_unpack_zerodim_and_defer.<locals>.new_method\u001b[0;34m(self, other)\u001b[0m\n\u001b[1;32m     72\u001b[0m             \u001b[38;5;28;01mreturn\u001b[39;00m \u001b[38;5;28mNotImplemented\u001b[39m\n\u001b[1;32m     74\u001b[0m other \u001b[38;5;241m=\u001b[39m item_from_zerodim(other)\n\u001b[0;32m---> 76\u001b[0m \u001b[38;5;28;01mreturn\u001b[39;00m \u001b[43mmethod\u001b[49m\u001b[43m(\u001b[49m\u001b[38;5;28;43mself\u001b[39;49m\u001b[43m,\u001b[49m\u001b[43m \u001b[49m\u001b[43mother\u001b[49m\u001b[43m)\u001b[49m\n",
      "File \u001b[0;32m~/miniforge3/envs/complete-football-analytics/lib/python3.11/site-packages/pandas/core/arraylike.py:56\u001b[0m, in \u001b[0;36mOpsMixin.__gt__\u001b[0;34m(self, other)\u001b[0m\n\u001b[1;32m     54\u001b[0m \u001b[38;5;129m@unpack_zerodim_and_defer\u001b[39m(\u001b[38;5;124m\"\u001b[39m\u001b[38;5;124m__gt__\u001b[39m\u001b[38;5;124m\"\u001b[39m)\n\u001b[1;32m     55\u001b[0m \u001b[38;5;28;01mdef\u001b[39;00m \u001b[38;5;21m__gt__\u001b[39m(\u001b[38;5;28mself\u001b[39m, other):\n\u001b[0;32m---> 56\u001b[0m     \u001b[38;5;28;01mreturn\u001b[39;00m \u001b[38;5;28;43mself\u001b[39;49m\u001b[38;5;241;43m.\u001b[39;49m\u001b[43m_cmp_method\u001b[49m\u001b[43m(\u001b[49m\u001b[43mother\u001b[49m\u001b[43m,\u001b[49m\u001b[43m \u001b[49m\u001b[43moperator\u001b[49m\u001b[38;5;241;43m.\u001b[39;49m\u001b[43mgt\u001b[49m\u001b[43m)\u001b[49m\n",
      "File \u001b[0;32m~/miniforge3/envs/complete-football-analytics/lib/python3.11/site-packages/pandas/core/series.py:6099\u001b[0m, in \u001b[0;36mSeries._cmp_method\u001b[0;34m(self, other, op)\u001b[0m\n\u001b[1;32m   6096\u001b[0m lvalues \u001b[38;5;241m=\u001b[39m \u001b[38;5;28mself\u001b[39m\u001b[38;5;241m.\u001b[39m_values\n\u001b[1;32m   6097\u001b[0m rvalues \u001b[38;5;241m=\u001b[39m extract_array(other, extract_numpy\u001b[38;5;241m=\u001b[39m\u001b[38;5;28;01mTrue\u001b[39;00m, extract_range\u001b[38;5;241m=\u001b[39m\u001b[38;5;28;01mTrue\u001b[39;00m)\n\u001b[0;32m-> 6099\u001b[0m res_values \u001b[38;5;241m=\u001b[39m \u001b[43mops\u001b[49m\u001b[38;5;241;43m.\u001b[39;49m\u001b[43mcomparison_op\u001b[49m\u001b[43m(\u001b[49m\u001b[43mlvalues\u001b[49m\u001b[43m,\u001b[49m\u001b[43m \u001b[49m\u001b[43mrvalues\u001b[49m\u001b[43m,\u001b[49m\u001b[43m \u001b[49m\u001b[43mop\u001b[49m\u001b[43m)\u001b[49m\n\u001b[1;32m   6101\u001b[0m \u001b[38;5;28;01mreturn\u001b[39;00m \u001b[38;5;28mself\u001b[39m\u001b[38;5;241m.\u001b[39m_construct_result(res_values, name\u001b[38;5;241m=\u001b[39mres_name)\n",
      "File \u001b[0;32m~/miniforge3/envs/complete-football-analytics/lib/python3.11/site-packages/pandas/core/ops/array_ops.py:344\u001b[0m, in \u001b[0;36mcomparison_op\u001b[0;34m(left, right, op)\u001b[0m\n\u001b[1;32m    341\u001b[0m     \u001b[38;5;28;01mreturn\u001b[39;00m invalid_comparison(lvalues, rvalues, op)\n\u001b[1;32m    343\u001b[0m \u001b[38;5;28;01melif\u001b[39;00m lvalues\u001b[38;5;241m.\u001b[39mdtype \u001b[38;5;241m==\u001b[39m \u001b[38;5;28mobject\u001b[39m \u001b[38;5;129;01mor\u001b[39;00m \u001b[38;5;28misinstance\u001b[39m(rvalues, \u001b[38;5;28mstr\u001b[39m):\n\u001b[0;32m--> 344\u001b[0m     res_values \u001b[38;5;241m=\u001b[39m \u001b[43mcomp_method_OBJECT_ARRAY\u001b[49m\u001b[43m(\u001b[49m\u001b[43mop\u001b[49m\u001b[43m,\u001b[49m\u001b[43m \u001b[49m\u001b[43mlvalues\u001b[49m\u001b[43m,\u001b[49m\u001b[43m \u001b[49m\u001b[43mrvalues\u001b[49m\u001b[43m)\u001b[49m\n\u001b[1;32m    346\u001b[0m \u001b[38;5;28;01melse\u001b[39;00m:\n\u001b[1;32m    347\u001b[0m     res_values \u001b[38;5;241m=\u001b[39m _na_arithmetic_op(lvalues, rvalues, op, is_cmp\u001b[38;5;241m=\u001b[39m\u001b[38;5;28;01mTrue\u001b[39;00m)\n",
      "File \u001b[0;32m~/miniforge3/envs/complete-football-analytics/lib/python3.11/site-packages/pandas/core/ops/array_ops.py:129\u001b[0m, in \u001b[0;36mcomp_method_OBJECT_ARRAY\u001b[0;34m(op, x, y)\u001b[0m\n\u001b[1;32m    127\u001b[0m     result \u001b[38;5;241m=\u001b[39m libops\u001b[38;5;241m.\u001b[39mvec_compare(x\u001b[38;5;241m.\u001b[39mravel(), y\u001b[38;5;241m.\u001b[39mravel(), op)\n\u001b[1;32m    128\u001b[0m \u001b[38;5;28;01melse\u001b[39;00m:\n\u001b[0;32m--> 129\u001b[0m     result \u001b[38;5;241m=\u001b[39m \u001b[43mlibops\u001b[49m\u001b[38;5;241;43m.\u001b[39;49m\u001b[43mscalar_compare\u001b[49m\u001b[43m(\u001b[49m\u001b[43mx\u001b[49m\u001b[38;5;241;43m.\u001b[39;49m\u001b[43mravel\u001b[49m\u001b[43m(\u001b[49m\u001b[43m)\u001b[49m\u001b[43m,\u001b[49m\u001b[43m \u001b[49m\u001b[43my\u001b[49m\u001b[43m,\u001b[49m\u001b[43m \u001b[49m\u001b[43mop\u001b[49m\u001b[43m)\u001b[49m\n\u001b[1;32m    130\u001b[0m \u001b[38;5;28;01mreturn\u001b[39;00m result\u001b[38;5;241m.\u001b[39mreshape(x\u001b[38;5;241m.\u001b[39mshape)\n",
      "File \u001b[0;32mops.pyx:107\u001b[0m, in \u001b[0;36mpandas._libs.ops.scalar_compare\u001b[0;34m()\u001b[0m\n",
      "\u001b[0;31mTypeError\u001b[0m: '>' not supported between instances of 'str' and 'int'"
     ]
    }
   ],
   "source": [
    "# Let's filter the dataframe to only show players from the Premier League and have played more than 20 matches\n",
    "prem = df[(df['Comp'] == 'eng Premier League') & (df['Playing Time MP'] > 20)]\n",
    "print(prem.head())\n",
    "print(prem.shape)"
   ]
  },
  {
   "cell_type": "code",
   "execution_count": 179,
   "id": "543d78327aa43a2e",
   "metadata": {
    "ExecuteTime": {
     "end_time": "2024-03-10T05:07:17.450847Z",
     "start_time": "2024-03-10T05:07:17.372598Z"
    },
    "collapsed": false,
    "jupyter": {
     "outputs_hidden": false
    }
   },
   "outputs": [
    {
     "data": {
      "text/plain": [
       "Player                       object\n",
       "Nation                       object\n",
       "Pos                          object\n",
       "Squad                        object\n",
       "Comp                         object\n",
       "Age                          object\n",
       "Born                         object\n",
       "Playing Time MP              object\n",
       "Playing Time.1 Starts        object\n",
       "Playing Time.2 Min           object\n",
       "Playing Time.3 90s           object\n",
       "Performance Gls              object\n",
       "Performance.1 Ast            object\n",
       "Performance.2 G+A            object\n",
       "Performance.3 G-PK           object\n",
       "Performance.4 PK             object\n",
       "Performance.5 PKatt          object\n",
       "Performance.6 CrdY           object\n",
       "Performance.7 CrdR           object\n",
       "Expected xG                  object\n",
       "Expected.1 npxG              object\n",
       "Expected.2 xAG               object\n",
       "Expected.3 npxG+xAG          object\n",
       "Progression PrgC             object\n",
       "Progression.1 PrgP           object\n",
       "Progression.2 PrgR           object\n",
       "Per 90 Minutes Gls           object\n",
       "Per 90 Minutes.1 Ast         object\n",
       "Per 90 Minutes.2 G+A         object\n",
       "Per 90 Minutes.3 G-PK        object\n",
       "Per 90 Minutes.4 G+A-PK      object\n",
       "Per 90 Minutes.5 xG          object\n",
       "Per 90 Minutes.6 xAG         object\n",
       "Per 90 Minutes.7 xG+xAG      object\n",
       "Per 90 Minutes.8 npxG        object\n",
       "Per 90 Minutes.9 npxG+xAG    object\n",
       "Matches                      object\n",
       "dtype: object"
      ]
     },
     "execution_count": 179,
     "metadata": {},
     "output_type": "execute_result"
    }
   ],
   "source": [
    "# We now need to convert the columns to the correct data types\n",
    "df.dtypes"
   ]
  },
  {
   "cell_type": "code",
   "execution_count": 180,
   "id": "1bf98ff8fbde5ce3",
   "metadata": {
    "ExecuteTime": {
     "end_time": "2024-03-10T05:07:17.799449Z",
     "start_time": "2024-03-10T05:07:17.748491Z"
    },
    "collapsed": false,
    "jupyter": {
     "outputs_hidden": false
    }
   },
   "outputs": [],
   "source": [
    "# We can use the .astype() method to convert columns to the correct data types\n",
    "df['Playing Time MP'] = df['Playing Time MP'].astype(int)\n",
    "\n",
    "# Let's try again\n",
    "prem = df[(df['Comp'] == 'eng Premier League') & (df['Playing Time MP'] > 20)]"
   ]
  },
  {
   "cell_type": "code",
   "execution_count": 181,
   "id": "ecd9363574e5cf47",
   "metadata": {
    "ExecuteTime": {
     "end_time": "2024-03-10T05:07:18.108972Z",
     "start_time": "2024-03-10T05:07:18.105038Z"
    },
    "collapsed": false,
    "jupyter": {
     "outputs_hidden": false
    }
   },
   "outputs": [
    {
     "data": {
      "text/html": [
       "<div>\n",
       "<style scoped>\n",
       "    .dataframe tbody tr th:only-of-type {\n",
       "        vertical-align: middle;\n",
       "    }\n",
       "\n",
       "    .dataframe tbody tr th {\n",
       "        vertical-align: top;\n",
       "    }\n",
       "\n",
       "    .dataframe thead th {\n",
       "        text-align: right;\n",
       "    }\n",
       "</style>\n",
       "<table border=\"1\" class=\"dataframe\">\n",
       "  <thead>\n",
       "    <tr style=\"text-align: right;\">\n",
       "      <th></th>\n",
       "      <th>Player</th>\n",
       "      <th>Nation</th>\n",
       "      <th>Pos</th>\n",
       "      <th>Squad</th>\n",
       "      <th>Comp</th>\n",
       "      <th>Age</th>\n",
       "      <th>Born</th>\n",
       "      <th>Playing Time MP</th>\n",
       "      <th>Playing Time.1 Starts</th>\n",
       "      <th>Playing Time.2 Min</th>\n",
       "      <th>...</th>\n",
       "      <th>Per 90 Minutes.1 Ast</th>\n",
       "      <th>Per 90 Minutes.2 G+A</th>\n",
       "      <th>Per 90 Minutes.3 G-PK</th>\n",
       "      <th>Per 90 Minutes.4 G+A-PK</th>\n",
       "      <th>Per 90 Minutes.5 xG</th>\n",
       "      <th>Per 90 Minutes.6 xAG</th>\n",
       "      <th>Per 90 Minutes.7 xG+xAG</th>\n",
       "      <th>Per 90 Minutes.8 npxG</th>\n",
       "      <th>Per 90 Minutes.9 npxG+xAG</th>\n",
       "      <th>Matches</th>\n",
       "    </tr>\n",
       "  </thead>\n",
       "  <tbody>\n",
       "    <tr>\n",
       "      <th>1</th>\n",
       "      <td>Brenden Aaronson</td>\n",
       "      <td>us USA</td>\n",
       "      <td>MF,FW</td>\n",
       "      <td>Leeds United</td>\n",
       "      <td>eng Premier League</td>\n",
       "      <td>21</td>\n",
       "      <td>2000</td>\n",
       "      <td>36</td>\n",
       "      <td>28</td>\n",
       "      <td>2372</td>\n",
       "      <td>...</td>\n",
       "      <td>0.11</td>\n",
       "      <td>0.15</td>\n",
       "      <td>0.04</td>\n",
       "      <td>0.15</td>\n",
       "      <td>0.15</td>\n",
       "      <td>0.16</td>\n",
       "      <td>0.31</td>\n",
       "      <td>0.15</td>\n",
       "      <td>0.31</td>\n",
       "      <td>Matches</td>\n",
       "    </tr>\n",
       "    <tr>\n",
       "      <th>20</th>\n",
       "      <td>Che Adams</td>\n",
       "      <td>sct SCO</td>\n",
       "      <td>FW</td>\n",
       "      <td>Southampton</td>\n",
       "      <td>eng Premier League</td>\n",
       "      <td>26</td>\n",
       "      <td>1996</td>\n",
       "      <td>28</td>\n",
       "      <td>23</td>\n",
       "      <td>1992</td>\n",
       "      <td>...</td>\n",
       "      <td>0.14</td>\n",
       "      <td>0.36</td>\n",
       "      <td>0.23</td>\n",
       "      <td>0.36</td>\n",
       "      <td>0.30</td>\n",
       "      <td>0.13</td>\n",
       "      <td>0.42</td>\n",
       "      <td>0.30</td>\n",
       "      <td>0.42</td>\n",
       "      <td>Matches</td>\n",
       "    </tr>\n",
       "    <tr>\n",
       "      <th>21</th>\n",
       "      <td>Tyler Adams</td>\n",
       "      <td>us USA</td>\n",
       "      <td>MF</td>\n",
       "      <td>Leeds United</td>\n",
       "      <td>eng Premier League</td>\n",
       "      <td>23</td>\n",
       "      <td>1999</td>\n",
       "      <td>24</td>\n",
       "      <td>24</td>\n",
       "      <td>2156</td>\n",
       "      <td>...</td>\n",
       "      <td>0.00</td>\n",
       "      <td>0.00</td>\n",
       "      <td>0.00</td>\n",
       "      <td>0.00</td>\n",
       "      <td>0.00</td>\n",
       "      <td>0.06</td>\n",
       "      <td>0.06</td>\n",
       "      <td>0.00</td>\n",
       "      <td>0.06</td>\n",
       "      <td>Matches</td>\n",
       "    </tr>\n",
       "    <tr>\n",
       "      <th>23</th>\n",
       "      <td>Tosin Adarabioyo</td>\n",
       "      <td>eng ENG</td>\n",
       "      <td>DF</td>\n",
       "      <td>Fulham</td>\n",
       "      <td>eng Premier League</td>\n",
       "      <td>24</td>\n",
       "      <td>1997</td>\n",
       "      <td>25</td>\n",
       "      <td>23</td>\n",
       "      <td>2085</td>\n",
       "      <td>...</td>\n",
       "      <td>0.00</td>\n",
       "      <td>0.04</td>\n",
       "      <td>0.04</td>\n",
       "      <td>0.04</td>\n",
       "      <td>0.03</td>\n",
       "      <td>0.02</td>\n",
       "      <td>0.05</td>\n",
       "      <td>0.03</td>\n",
       "      <td>0.05</td>\n",
       "      <td>Matches</td>\n",
       "    </tr>\n",
       "    <tr>\n",
       "      <th>45</th>\n",
       "      <td>Rayan Aït Nouri</td>\n",
       "      <td>dz ALG</td>\n",
       "      <td>DF</td>\n",
       "      <td>Wolves</td>\n",
       "      <td>eng Premier League</td>\n",
       "      <td>21</td>\n",
       "      <td>2001</td>\n",
       "      <td>21</td>\n",
       "      <td>9</td>\n",
       "      <td>1076</td>\n",
       "      <td>...</td>\n",
       "      <td>0.00</td>\n",
       "      <td>0.08</td>\n",
       "      <td>0.08</td>\n",
       "      <td>0.08</td>\n",
       "      <td>0.06</td>\n",
       "      <td>0.08</td>\n",
       "      <td>0.14</td>\n",
       "      <td>0.06</td>\n",
       "      <td>0.14</td>\n",
       "      <td>Matches</td>\n",
       "    </tr>\n",
       "  </tbody>\n",
       "</table>\n",
       "<p>5 rows × 37 columns</p>\n",
       "</div>"
      ],
      "text/plain": [
       "              Player   Nation    Pos         Squad                Comp Age  \\\n",
       "1   Brenden Aaronson   us USA  MF,FW  Leeds United  eng Premier League  21   \n",
       "20         Che Adams  sct SCO     FW   Southampton  eng Premier League  26   \n",
       "21       Tyler Adams   us USA     MF  Leeds United  eng Premier League  23   \n",
       "23  Tosin Adarabioyo  eng ENG     DF        Fulham  eng Premier League  24   \n",
       "45   Rayan Aït Nouri   dz ALG     DF        Wolves  eng Premier League  21   \n",
       "\n",
       "    Born  Playing Time MP Playing Time.1 Starts Playing Time.2 Min  ...  \\\n",
       "1   2000               36                    28               2372  ...   \n",
       "20  1996               28                    23               1992  ...   \n",
       "21  1999               24                    24               2156  ...   \n",
       "23  1997               25                    23               2085  ...   \n",
       "45  2001               21                     9               1076  ...   \n",
       "\n",
       "   Per 90 Minutes.1 Ast Per 90 Minutes.2 G+A Per 90 Minutes.3 G-PK  \\\n",
       "1                  0.11                 0.15                  0.04   \n",
       "20                 0.14                 0.36                  0.23   \n",
       "21                 0.00                 0.00                  0.00   \n",
       "23                 0.00                 0.04                  0.04   \n",
       "45                 0.00                 0.08                  0.08   \n",
       "\n",
       "   Per 90 Minutes.4 G+A-PK Per 90 Minutes.5 xG Per 90 Minutes.6 xAG  \\\n",
       "1                     0.15                0.15                 0.16   \n",
       "20                    0.36                0.30                 0.13   \n",
       "21                    0.00                0.00                 0.06   \n",
       "23                    0.04                0.03                 0.02   \n",
       "45                    0.08                0.06                 0.08   \n",
       "\n",
       "   Per 90 Minutes.7 xG+xAG Per 90 Minutes.8 npxG Per 90 Minutes.9 npxG+xAG  \\\n",
       "1                     0.31                  0.15                      0.31   \n",
       "20                    0.42                  0.30                      0.42   \n",
       "21                    0.06                  0.00                      0.06   \n",
       "23                    0.05                  0.03                      0.05   \n",
       "45                    0.14                  0.06                      0.14   \n",
       "\n",
       "    Matches  \n",
       "1   Matches  \n",
       "20  Matches  \n",
       "21  Matches  \n",
       "23  Matches  \n",
       "45  Matches  \n",
       "\n",
       "[5 rows x 37 columns]"
      ]
     },
     "execution_count": 181,
     "metadata": {},
     "output_type": "execute_result"
    }
   ],
   "source": [
    "prem.head()"
   ]
  },
  {
   "cell_type": "code",
   "execution_count": 182,
   "id": "1874765637d7038b",
   "metadata": {
    "ExecuteTime": {
     "end_time": "2024-03-10T05:07:18.515347Z",
     "start_time": "2024-03-10T05:07:18.457905Z"
    },
    "collapsed": false,
    "jupyter": {
     "outputs_hidden": false
    }
   },
   "outputs": [
    {
     "data": {
      "text/html": [
       "<div>\n",
       "<style scoped>\n",
       "    .dataframe tbody tr th:only-of-type {\n",
       "        vertical-align: middle;\n",
       "    }\n",
       "\n",
       "    .dataframe tbody tr th {\n",
       "        vertical-align: top;\n",
       "    }\n",
       "\n",
       "    .dataframe thead th {\n",
       "        text-align: right;\n",
       "    }\n",
       "</style>\n",
       "<table border=\"1\" class=\"dataframe\">\n",
       "  <thead>\n",
       "    <tr style=\"text-align: right;\">\n",
       "      <th></th>\n",
       "      <th>Player</th>\n",
       "      <th>Nation</th>\n",
       "      <th>Pos</th>\n",
       "      <th>Squad</th>\n",
       "      <th>Comp</th>\n",
       "      <th>Age</th>\n",
       "      <th>Born</th>\n",
       "      <th>Playing Time MP</th>\n",
       "      <th>Playing Time.1 Starts</th>\n",
       "      <th>Playing Time.2 Min</th>\n",
       "      <th>...</th>\n",
       "      <th>Per 90 Minutes.1 Ast</th>\n",
       "      <th>Per 90 Minutes.2 G+A</th>\n",
       "      <th>Per 90 Minutes.3 G-PK</th>\n",
       "      <th>Per 90 Minutes.4 G+A-PK</th>\n",
       "      <th>Per 90 Minutes.5 xG</th>\n",
       "      <th>Per 90 Minutes.6 xAG</th>\n",
       "      <th>Per 90 Minutes.7 xG+xAG</th>\n",
       "      <th>Per 90 Minutes.8 npxG</th>\n",
       "      <th>Per 90 Minutes.9 npxG+xAG</th>\n",
       "      <th>Matches</th>\n",
       "    </tr>\n",
       "  </thead>\n",
       "  <tbody>\n",
       "    <tr>\n",
       "      <th>2428</th>\n",
       "      <td>Mohamed Salah</td>\n",
       "      <td>eg EGY</td>\n",
       "      <td>FW</td>\n",
       "      <td>Liverpool</td>\n",
       "      <td>eng Premier League</td>\n",
       "      <td>30</td>\n",
       "      <td>1992</td>\n",
       "      <td>38</td>\n",
       "      <td>37</td>\n",
       "      <td>3290</td>\n",
       "      <td>...</td>\n",
       "      <td>0.33</td>\n",
       "      <td>0.85</td>\n",
       "      <td>0.47</td>\n",
       "      <td>0.79</td>\n",
       "      <td>0.59</td>\n",
       "      <td>0.21</td>\n",
       "      <td>0.80</td>\n",
       "      <td>0.51</td>\n",
       "      <td>0.72</td>\n",
       "      <td>Matches</td>\n",
       "    </tr>\n",
       "    <tr>\n",
       "      <th>1314</th>\n",
       "      <td>Alex Iwobi</td>\n",
       "      <td>ng NGA</td>\n",
       "      <td>MF,FW</td>\n",
       "      <td>Everton</td>\n",
       "      <td>eng Premier League</td>\n",
       "      <td>26</td>\n",
       "      <td>1996</td>\n",
       "      <td>38</td>\n",
       "      <td>38</td>\n",
       "      <td>3378</td>\n",
       "      <td>...</td>\n",
       "      <td>0.19</td>\n",
       "      <td>0.24</td>\n",
       "      <td>0.05</td>\n",
       "      <td>0.24</td>\n",
       "      <td>0.07</td>\n",
       "      <td>0.16</td>\n",
       "      <td>0.23</td>\n",
       "      <td>0.07</td>\n",
       "      <td>0.23</td>\n",
       "      <td>Matches</td>\n",
       "    </tr>\n",
       "    <tr>\n",
       "      <th>381</th>\n",
       "      <td>Jarrod Bowen</td>\n",
       "      <td>eng ENG</td>\n",
       "      <td>FW,MF</td>\n",
       "      <td>West Ham</td>\n",
       "      <td>eng Premier League</td>\n",
       "      <td>25</td>\n",
       "      <td>1996</td>\n",
       "      <td>38</td>\n",
       "      <td>36</td>\n",
       "      <td>3233</td>\n",
       "      <td>...</td>\n",
       "      <td>0.14</td>\n",
       "      <td>0.31</td>\n",
       "      <td>0.14</td>\n",
       "      <td>0.28</td>\n",
       "      <td>0.25</td>\n",
       "      <td>0.20</td>\n",
       "      <td>0.45</td>\n",
       "      <td>0.22</td>\n",
       "      <td>0.42</td>\n",
       "      <td>Matches</td>\n",
       "    </tr>\n",
       "    <tr>\n",
       "      <th>411</th>\n",
       "      <td>Emi Buendía</td>\n",
       "      <td>ar ARG</td>\n",
       "      <td>MF,FW</td>\n",
       "      <td>Aston Villa</td>\n",
       "      <td>eng Premier League</td>\n",
       "      <td>25</td>\n",
       "      <td>1996</td>\n",
       "      <td>38</td>\n",
       "      <td>27</td>\n",
       "      <td>2412</td>\n",
       "      <td>...</td>\n",
       "      <td>0.07</td>\n",
       "      <td>0.26</td>\n",
       "      <td>0.19</td>\n",
       "      <td>0.26</td>\n",
       "      <td>0.24</td>\n",
       "      <td>0.21</td>\n",
       "      <td>0.45</td>\n",
       "      <td>0.24</td>\n",
       "      <td>0.45</td>\n",
       "      <td>Matches</td>\n",
       "    </tr>\n",
       "    <tr>\n",
       "      <th>423</th>\n",
       "      <td>Dan Burn</td>\n",
       "      <td>eng ENG</td>\n",
       "      <td>DF</td>\n",
       "      <td>Newcastle Utd</td>\n",
       "      <td>eng Premier League</td>\n",
       "      <td>30</td>\n",
       "      <td>1992</td>\n",
       "      <td>38</td>\n",
       "      <td>35</td>\n",
       "      <td>3111</td>\n",
       "      <td>...</td>\n",
       "      <td>0.00</td>\n",
       "      <td>0.03</td>\n",
       "      <td>0.03</td>\n",
       "      <td>0.03</td>\n",
       "      <td>0.06</td>\n",
       "      <td>0.04</td>\n",
       "      <td>0.10</td>\n",
       "      <td>0.06</td>\n",
       "      <td>0.10</td>\n",
       "      <td>Matches</td>\n",
       "    </tr>\n",
       "  </tbody>\n",
       "</table>\n",
       "<p>5 rows × 37 columns</p>\n",
       "</div>"
      ],
      "text/plain": [
       "             Player   Nation    Pos          Squad                Comp Age  \\\n",
       "2428  Mohamed Salah   eg EGY     FW      Liverpool  eng Premier League  30   \n",
       "1314     Alex Iwobi   ng NGA  MF,FW        Everton  eng Premier League  26   \n",
       "381    Jarrod Bowen  eng ENG  FW,MF       West Ham  eng Premier League  25   \n",
       "411     Emi Buendía   ar ARG  MF,FW    Aston Villa  eng Premier League  25   \n",
       "423        Dan Burn  eng ENG     DF  Newcastle Utd  eng Premier League  30   \n",
       "\n",
       "      Born  Playing Time MP Playing Time.1 Starts Playing Time.2 Min  ...  \\\n",
       "2428  1992               38                    37               3290  ...   \n",
       "1314  1996               38                    38               3378  ...   \n",
       "381   1996               38                    36               3233  ...   \n",
       "411   1996               38                    27               2412  ...   \n",
       "423   1992               38                    35               3111  ...   \n",
       "\n",
       "     Per 90 Minutes.1 Ast Per 90 Minutes.2 G+A Per 90 Minutes.3 G-PK  \\\n",
       "2428                 0.33                 0.85                  0.47   \n",
       "1314                 0.19                 0.24                  0.05   \n",
       "381                  0.14                 0.31                  0.14   \n",
       "411                  0.07                 0.26                  0.19   \n",
       "423                  0.00                 0.03                  0.03   \n",
       "\n",
       "     Per 90 Minutes.4 G+A-PK Per 90 Minutes.5 xG Per 90 Minutes.6 xAG  \\\n",
       "2428                    0.79                0.59                 0.21   \n",
       "1314                    0.24                0.07                 0.16   \n",
       "381                     0.28                0.25                 0.20   \n",
       "411                     0.26                0.24                 0.21   \n",
       "423                     0.03                0.06                 0.04   \n",
       "\n",
       "     Per 90 Minutes.7 xG+xAG Per 90 Minutes.8 npxG Per 90 Minutes.9 npxG+xAG  \\\n",
       "2428                    0.80                  0.51                      0.72   \n",
       "1314                    0.23                  0.07                      0.23   \n",
       "381                     0.45                  0.22                      0.42   \n",
       "411                     0.45                  0.24                      0.45   \n",
       "423                     0.10                  0.06                      0.10   \n",
       "\n",
       "      Matches  \n",
       "2428  Matches  \n",
       "1314  Matches  \n",
       "381   Matches  \n",
       "411   Matches  \n",
       "423   Matches  \n",
       "\n",
       "[5 rows x 37 columns]"
      ]
     },
     "execution_count": 182,
     "metadata": {},
     "output_type": "execute_result"
    }
   ],
   "source": [
    "# We can use the .sort_values() method to sort the dataframe\n",
    "prem = prem.sort_values('Playing Time MP', ascending=False)\n",
    "prem.head()"
   ]
  },
  {
   "cell_type": "code",
   "execution_count": 183,
   "id": "a3b3b4c87322e8d3",
   "metadata": {
    "ExecuteTime": {
     "end_time": "2024-03-10T05:07:18.946700Z",
     "start_time": "2024-03-10T05:07:18.905948Z"
    },
    "collapsed": false,
    "jupyter": {
     "outputs_hidden": false
    }
   },
   "outputs": [
    {
     "data": {
      "text/html": [
       "<div>\n",
       "<style scoped>\n",
       "    .dataframe tbody tr th:only-of-type {\n",
       "        vertical-align: middle;\n",
       "    }\n",
       "\n",
       "    .dataframe tbody tr th {\n",
       "        vertical-align: top;\n",
       "    }\n",
       "\n",
       "    .dataframe thead th {\n",
       "        text-align: right;\n",
       "    }\n",
       "</style>\n",
       "<table border=\"1\" class=\"dataframe\">\n",
       "  <thead>\n",
       "    <tr style=\"text-align: right;\">\n",
       "      <th></th>\n",
       "      <th>Player</th>\n",
       "      <th>Minutes per Goal</th>\n",
       "    </tr>\n",
       "  </thead>\n",
       "  <tbody>\n",
       "    <tr>\n",
       "      <th>1174</th>\n",
       "      <td>Erling Haaland</td>\n",
       "      <td>76.92</td>\n",
       "    </tr>\n",
       "    <tr>\n",
       "      <th>2915</th>\n",
       "      <td>Callum Wilson</td>\n",
       "      <td>104.28</td>\n",
       "    </tr>\n",
       "    <tr>\n",
       "      <th>954</th>\n",
       "      <td>Roberto Firmino</td>\n",
       "      <td>110.27</td>\n",
       "    </tr>\n",
       "    <tr>\n",
       "      <th>1403</th>\n",
       "      <td>Harry Kane</td>\n",
       "      <td>113.50</td>\n",
       "    </tr>\n",
       "    <tr>\n",
       "      <th>2790</th>\n",
       "      <td>Deniz Undav</td>\n",
       "      <td>125.60</td>\n",
       "    </tr>\n",
       "    <tr>\n",
       "      <th>175</th>\n",
       "      <td>Taiwo Awoniyi</td>\n",
       "      <td>140.40</td>\n",
       "    </tr>\n",
       "    <tr>\n",
       "      <th>1879</th>\n",
       "      <td>Aleksandar Mitrović</td>\n",
       "      <td>143.43</td>\n",
       "    </tr>\n",
       "    <tr>\n",
       "      <th>2740</th>\n",
       "      <td>Ivan Toney</td>\n",
       "      <td>147.55</td>\n",
       "    </tr>\n",
       "    <tr>\n",
       "      <th>2349</th>\n",
       "      <td>Rodrigo</td>\n",
       "      <td>148.85</td>\n",
       "    </tr>\n",
       "    <tr>\n",
       "      <th>1302</th>\n",
       "      <td>Alexander Isak</td>\n",
       "      <td>152.20</td>\n",
       "    </tr>\n",
       "  </tbody>\n",
       "</table>\n",
       "</div>"
      ],
      "text/plain": [
       "                   Player  Minutes per Goal\n",
       "1174       Erling Haaland             76.92\n",
       "2915        Callum Wilson            104.28\n",
       "954       Roberto Firmino            110.27\n",
       "1403           Harry Kane            113.50\n",
       "2790          Deniz Undav            125.60\n",
       "175         Taiwo Awoniyi            140.40\n",
       "1879  Aleksandar Mitrović            143.43\n",
       "2740           Ivan Toney            147.55\n",
       "2349              Rodrigo            148.85\n",
       "1302       Alexander Isak            152.20"
      ]
     },
     "execution_count": 183,
     "metadata": {},
     "output_type": "execute_result"
    }
   ],
   "source": [
    "# Let's calculate the minutes per goal for each player\n",
    "# Convert the columns to the correct data types\n",
    "prem[['Playing Time.2 Min', 'Performance Gls']] = prem[['Playing Time.2 Min', 'Performance Gls']].astype(int)\n",
    "\n",
    "# Calculate the minutes per goal\n",
    "prem['Minutes per Goal'] = round(prem['Playing Time.2 Min'] / prem['Performance Gls'], 2)\n",
    "prem[['Player', 'Minutes per Goal']].sort_values('Minutes per Goal').head(10)"
   ]
  },
  {
   "cell_type": "code",
   "execution_count": 184,
   "id": "eba5ba60354b7058",
   "metadata": {
    "ExecuteTime": {
     "end_time": "2024-03-10T05:07:19.378445Z",
     "start_time": "2024-03-10T05:07:19.314712Z"
    },
    "collapsed": false,
    "jupyter": {
     "outputs_hidden": false
    }
   },
   "outputs": [
    {
     "data": {
      "text/plain": [
       "Comp\n",
       "es La Liga            26.033557\n",
       "it Serie A            25.369818\n",
       "eng Premier League    25.318102\n",
       "de Bundesliga         25.052427\n",
       "fr Ligue 1            24.500000\n",
       "Name: Age, dtype: float64"
      ]
     },
     "execution_count": 184,
     "metadata": {},
     "output_type": "execute_result"
    }
   ],
   "source": [
    "# Let's find the average age of players in different leagues\n",
    "# Convert the columns to the correct data types\n",
    "df['Age'] = df['Age'].astype(int)\n",
    "\n",
    "# Group the dataframe by the league and calculate the average age\n",
    "df.groupby('Comp')['Age'].mean().sort_values(ascending=False)"
   ]
  },
  {
   "cell_type": "markdown",
   "id": "60c391ef825b4f62",
   "metadata": {
    "collapsed": false,
    "jupyter": {
     "outputs_hidden": false
    }
   },
   "source": [
    "## Numpy\n",
    "\n",
    "Let's look at some of the basic operations in Numpy"
   ]
  },
  {
   "cell_type": "code",
   "execution_count": 185,
   "id": "1e3cbe38b409360e",
   "metadata": {
    "ExecuteTime": {
     "end_time": "2024-03-10T05:07:20.528549Z",
     "start_time": "2024-03-10T05:07:20.494792Z"
    },
    "collapsed": false,
    "jupyter": {
     "outputs_hidden": false
    }
   },
   "outputs": [
    {
     "name": "stdout",
     "output_type": "stream",
     "text": [
      "[1 2 3 4 5]\n"
     ]
    }
   ],
   "source": [
    "# Create a 1D array\n",
    "arr = np.array([1, 2, 3, 4, 5])\n",
    "print(arr)"
   ]
  },
  {
   "cell_type": "code",
   "execution_count": 186,
   "id": "3cf92f6c4cc62ed8",
   "metadata": {
    "ExecuteTime": {
     "end_time": "2024-03-10T05:07:21.083451Z",
     "start_time": "2024-03-10T05:07:21.077512Z"
    },
    "collapsed": false,
    "jupyter": {
     "outputs_hidden": false
    }
   },
   "outputs": [
    {
     "name": "stdout",
     "output_type": "stream",
     "text": [
      "[[1 2 3]\n",
      " [4 5 6]]\n"
     ]
    }
   ],
   "source": [
    "# Create a 2D array\n",
    "arr = np.array([[1, 2, 3], [4, 5, 6]])\n",
    "print(arr)"
   ]
  },
  {
   "cell_type": "code",
   "execution_count": 187,
   "id": "c3bb7360ba80f09c",
   "metadata": {
    "ExecuteTime": {
     "end_time": "2024-03-10T05:07:22.041426Z",
     "start_time": "2024-03-10T05:07:22.034166Z"
    },
    "collapsed": false,
    "jupyter": {
     "outputs_hidden": false
    }
   },
   "outputs": [
    {
     "data": {
      "text/html": [
       "<div>\n",
       "<style scoped>\n",
       "    .dataframe tbody tr th:only-of-type {\n",
       "        vertical-align: middle;\n",
       "    }\n",
       "\n",
       "    .dataframe tbody tr th {\n",
       "        vertical-align: top;\n",
       "    }\n",
       "\n",
       "    .dataframe thead th {\n",
       "        text-align: right;\n",
       "    }\n",
       "</style>\n",
       "<table border=\"1\" class=\"dataframe\">\n",
       "  <thead>\n",
       "    <tr style=\"text-align: right;\">\n",
       "      <th></th>\n",
       "      <th>Player</th>\n",
       "      <th>Age</th>\n",
       "      <th>Age Group</th>\n",
       "    </tr>\n",
       "  </thead>\n",
       "  <tbody>\n",
       "    <tr>\n",
       "      <th>1</th>\n",
       "      <td>Brenden Aaronson</td>\n",
       "      <td>21</td>\n",
       "      <td>Under 25</td>\n",
       "    </tr>\n",
       "    <tr>\n",
       "      <th>2</th>\n",
       "      <td>Paxten Aaronson</td>\n",
       "      <td>18</td>\n",
       "      <td>Under 25</td>\n",
       "    </tr>\n",
       "    <tr>\n",
       "      <th>3</th>\n",
       "      <td>James Abankwah</td>\n",
       "      <td>18</td>\n",
       "      <td>Under 25</td>\n",
       "    </tr>\n",
       "    <tr>\n",
       "      <th>4</th>\n",
       "      <td>George Abbott</td>\n",
       "      <td>16</td>\n",
       "      <td>Under 25</td>\n",
       "    </tr>\n",
       "    <tr>\n",
       "      <th>5</th>\n",
       "      <td>Yunis Abdelhamid</td>\n",
       "      <td>34</td>\n",
       "      <td>Over 25</td>\n",
       "    </tr>\n",
       "  </tbody>\n",
       "</table>\n",
       "</div>"
      ],
      "text/plain": [
       "             Player  Age Age Group\n",
       "1  Brenden Aaronson   21  Under 25\n",
       "2   Paxten Aaronson   18  Under 25\n",
       "3    James Abankwah   18  Under 25\n",
       "4     George Abbott   16  Under 25\n",
       "5  Yunis Abdelhamid   34   Over 25"
      ]
     },
     "execution_count": 187,
     "metadata": {},
     "output_type": "execute_result"
    }
   ],
   "source": [
    "# Let's start by looking at some basic operations & methods\n",
    "\n",
    "# .where() method\n",
    "df['Age Group'] = np.where(\n",
    "    df['Age'] < 25, \n",
    "    'Under 25', \n",
    "    'Over 25'\n",
    ")\n",
    "df[['Player', 'Age', 'Age Group']].head()"
   ]
  },
  {
   "cell_type": "code",
   "execution_count": 188,
   "id": "f5867e4851f486ee",
   "metadata": {
    "ExecuteTime": {
     "end_time": "2024-03-10T05:07:23.561281Z",
     "start_time": "2024-03-10T05:07:23.468315Z"
    },
    "collapsed": false,
    "jupyter": {
     "outputs_hidden": false
    }
   },
   "outputs": [
    {
     "data": {
      "text/plain": [
       "[<matplotlib.lines.Line2D at 0x10f8c44d0>]"
      ]
     },
     "execution_count": 188,
     "metadata": {},
     "output_type": "execute_result"
    },
    {
     "data": {
      "image/png": "[encoded data removed]",
      "text/plain": [
       "<Figure size 640x480 with 1 Axes>"
      ]
     },
     "metadata": {},
     "output_type": "display_data"
    }
   ],
   "source": [
    "# We can create lines of best fit using numpy\n",
    "import matplotlib.pyplot as plt\n",
    "\n",
    "df['Playing Time.2 Min'] = df['Playing Time.2 Min'].astype(int)\n",
    "df['Performance Gls'] = df['Performance Gls'].astype(int)\n",
    "\n",
    "x = df['Playing Time.2 Min']\n",
    "y = df['Performance Gls']\n",
    "\n",
    "m, b = np.polyfit(x, y, 1) # m is the slope, b is the y-intercept of the line, 1 is the degree of the polynomial\n",
    "\n",
    "plt.scatter(x, y)\n",
    "plt.plot(x, m*x + b, color='red')"
   ]
  },
  {
   "cell_type": "code",
   "execution_count": 189,
   "id": "bf46a9d15637ee9",
   "metadata": {
    "ExecuteTime": {
     "end_time": "2024-03-10T05:09:11.317728Z",
     "start_time": "2024-03-10T05:09:11.298564Z"
    },
    "collapsed": false,
    "jupyter": {
     "outputs_hidden": false
    }
   },
   "outputs": [
    {
     "name": "stdout",
     "output_type": "stream",
     "text": [
      "[ 2  4  6  8 10]\n"
     ]
    }
   ],
   "source": [
    "# Numpy also allows us to perform element-wise operations\n",
    "arr = np.array([1, 2, 3, 4, 5])\n",
    "arr = arr * 2\n",
    "print(arr)"
   ]
  },
  {
   "cell_type": "code",
   "execution_count": 190,
   "id": "9a6c4df619b1786d",
   "metadata": {
    "ExecuteTime": {
     "end_time": "2024-03-10T05:09:19.407123Z",
     "start_time": "2024-03-10T05:09:19.394290Z"
    },
    "collapsed": false,
    "jupyter": {
     "outputs_hidden": false
    }
   },
   "outputs": [
    {
     "name": "stdout",
     "output_type": "stream",
     "text": [
      "[[ 2  4  6]\n",
      " [ 8 10 12]]\n"
     ]
    }
   ],
   "source": [
    "# We can also perform element-wise operations on 2D arrays\n",
    "arr = np.array([[1, 2, 3], [4, 5, 6]])\n",
    "arr = arr * 2\n",
    "print(arr)"
   ]
  },
  {
   "cell_type": "code",
   "execution_count": 191,
   "id": "ffa14a132c7abea3",
   "metadata": {
    "ExecuteTime": {
     "end_time": "2024-03-10T05:09:36.384300Z",
     "start_time": "2024-03-10T05:09:36.364554Z"
    },
    "collapsed": false,
    "jupyter": {
     "outputs_hidden": false
    }
   },
   "outputs": [
    {
     "name": "stdout",
     "output_type": "stream",
     "text": [
      "[ 1.  2. nan  4.  5.]\n",
      "[False False  True False False]\n"
     ]
    }
   ],
   "source": [
    "# We can also handle missing values using numpy\n",
    "arr = np.array([1, 2, np.nan, 4, 5])\n",
    "print(arr)\n",
    "print(np.isnan(arr))"
   ]
  },
  {
   "cell_type": "code",
   "execution_count": 193,
   "id": "4cdf278f90cdebd0",
   "metadata": {
    "ExecuteTime": {
     "end_time": "2024-03-10T05:10:14.422239Z",
     "start_time": "2024-03-10T05:10:14.412659Z"
    },
    "collapsed": false,
    "jupyter": {
     "outputs_hidden": false
    }
   },
   "outputs": [
    {
     "name": "stdout",
     "output_type": "stream",
     "text": [
      "248\n"
     ]
    }
   ],
   "source": [
    "# We then use these checks in dataframe operations\n",
    "df['Age'] = df['Age'].replace(24, np.nan)\n",
    "print(df['Age'].isnull().sum())"
   ]
  },
  {
   "cell_type": "code",
   "execution_count": null,
   "id": "ebea7fef4b9cbc85",
   "metadata": {
    "collapsed": false,
    "jupyter": {
     "outputs_hidden": false
    }
   },
   "outputs": [],
   "source": []
  }
 ],
 "metadata": {
  "kernelspec": {
   "display_name": "Python 3 (ipykernel)",
   "language": "python",
   "name": "python3"
  },
  "language_info": {
   "codemirror_mode": {
    "name": "ipython",
    "version": 3
   },
   "file_extension": ".py",
   "mimetype": "text/x-python",
   "name": "python",
   "nbconvert_exporter": "python",
   "pygments_lexer": "ipython3",
   "version": "3.11.7"
  }
 },
 "nbformat": 4,
 "nbformat_minor": 5
}
