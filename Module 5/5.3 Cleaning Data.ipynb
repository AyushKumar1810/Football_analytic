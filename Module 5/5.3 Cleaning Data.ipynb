{
 "cells": [
  {
   "cell_type": "markdown",
   "id": "d8758c5bc9a9553c",
   "metadata": {
    "collapsed": false,
    "jupyter": {
     "outputs_hidden": false
    }
   },
   "source": [
    "# Techniques for Cleaning Data\n",
    "\n",
    "Data cleaning is a critically important step in any data analysis. In many cases, the data that we have available to us is not in the format that we need. Some common problems include:\n",
    "\n",
    " 1. Removing Duplicates \n",
    "2. Filling in missing data\n",
    "3. Converting data types\n",
    "4. Parsing Dates\n",
    "5. Inconsistent Data Entry\n"
   ]
  },
  {
   "cell_type": "code",
   "execution_count": 21,
   "id": "460bffc0d6aec686",
   "metadata": {
    "ExecuteTime": {
     "end_time": "2024-03-10T16:59:09.275968Z",
     "start_time": "2024-03-10T16:59:09.270310Z"
    },
    "collapsed": false,
    "jupyter": {
     "outputs_hidden": false
    }
   },
   "outputs": [],
   "source": [
    "import pandas as pd\n",
    "import numpy as np"
   ]
  },
  {
   "cell_type": "code",
   "execution_count": 22,
   "id": "57f84ef3e2978cf6",
   "metadata": {
    "ExecuteTime": {
     "end_time": "2024-03-10T16:59:09.583632Z",
     "start_time": "2024-03-10T16:59:09.550601Z"
    },
    "collapsed": false,
    "jupyter": {
     "outputs_hidden": false
    }
   },
   "outputs": [
    {
     "data": {
      "text/html": [
       "<div>\n",
       "<style scoped>\n",
       "    .dataframe tbody tr th:only-of-type {\n",
       "        vertical-align: middle;\n",
       "    }\n",
       "\n",
       "    .dataframe tbody tr th {\n",
       "        vertical-align: top;\n",
       "    }\n",
       "\n",
       "    .dataframe thead th {\n",
       "        text-align: right;\n",
       "    }\n",
       "</style>\n",
       "<table border=\"1\" class=\"dataframe\">\n",
       "  <thead>\n",
       "    <tr style=\"text-align: right;\">\n",
       "      <th></th>\n",
       "      <th>name</th>\n",
       "      <th>goals</th>\n",
       "      <th>assists</th>\n",
       "      <th>position</th>\n",
       "      <th>birth_date</th>\n",
       "    </tr>\n",
       "  </thead>\n",
       "  <tbody>\n",
       "    <tr>\n",
       "      <th>0</th>\n",
       "      <td>Messi</td>\n",
       "      <td>45.00</td>\n",
       "      <td>20.0</td>\n",
       "      <td>Forward</td>\n",
       "      <td>1987-06-24 00:00:00</td>\n",
       "    </tr>\n",
       "    <tr>\n",
       "      <th>1</th>\n",
       "      <td>Ronaldo</td>\n",
       "      <td>40.00</td>\n",
       "      <td>NaN</td>\n",
       "      <td>Forward</td>\n",
       "      <td>1985-02-05</td>\n",
       "    </tr>\n",
       "    <tr>\n",
       "      <th>2</th>\n",
       "      <td>Neymar</td>\n",
       "      <td>35.25</td>\n",
       "      <td>10.0</td>\n",
       "      <td>Forward</td>\n",
       "      <td>1992-02-05</td>\n",
       "    </tr>\n",
       "    <tr>\n",
       "      <th>3</th>\n",
       "      <td>Mbappe</td>\n",
       "      <td>30.00</td>\n",
       "      <td>5.0</td>\n",
       "      <td>FWD</td>\n",
       "      <td>1998-12-20</td>\n",
       "    </tr>\n",
       "    <tr>\n",
       "      <th>4</th>\n",
       "      <td>Lingard</td>\n",
       "      <td>25.00</td>\n",
       "      <td>0.0</td>\n",
       "      <td>Midfielder</td>\n",
       "      <td>1992-12-15</td>\n",
       "    </tr>\n",
       "    <tr>\n",
       "      <th>5</th>\n",
       "      <td>Messi</td>\n",
       "      <td>10.00</td>\n",
       "      <td>20.0</td>\n",
       "      <td>FWD</td>\n",
       "      <td>1987-06-24 00:00:00</td>\n",
       "    </tr>\n",
       "  </tbody>\n",
       "</table>\n",
       "</div>"
      ],
      "text/plain": [
       "      name  goals  assists    position           birth_date\n",
       "0    Messi  45.00     20.0     Forward  1987-06-24 00:00:00\n",
       "1  Ronaldo  40.00      NaN     Forward           1985-02-05\n",
       "2   Neymar  35.25     10.0     Forward           1992-02-05\n",
       "3   Mbappe  30.00      5.0         FWD           1998-12-20\n",
       "4  Lingard  25.00      0.0  Midfielder           1992-12-15\n",
       "5    Messi  10.00     20.0         FWD  1987-06-24 00:00:00"
      ]
     },
     "execution_count": 22,
     "metadata": {},
     "output_type": "execute_result"
    }
   ],
   "source": [
    "# Let's start by creating a simple dataframe\n",
    "data = pd.DataFrame({\n",
    "    'name': ['Messi', 'Ronaldo', 'Neymar', 'Mbappe', 'Lingard', 'Messi'],\n",
    "    'goals': [45, 40, 35.25, 30, 25, 10],\n",
    "    'assists': [20, np.nan, 10, 5, 0, 20],\n",
    "    'position': ['Forward', 'Forward', 'Forward', 'FWD', 'Midfielder', 'FWD'],\n",
    "    'birth_date': ['1987-06-24 00:00:00', '1985-02-05', '1992-02-05', '1998-12-20', '1992-12-15', '1987-06-24 00:00:00']  \n",
    "})\n",
    "\n",
    "# as you can see, we have a lot of data cleaning to do\n",
    "data"
   ]
  },
  {
   "cell_type": "code",
   "execution_count": 23,
   "id": "aa688d6e5720f104",
   "metadata": {
    "ExecuteTime": {
     "end_time": "2024-03-10T16:59:09.858992Z",
     "start_time": "2024-03-10T16:59:09.775240Z"
    },
    "collapsed": false,
    "jupyter": {
     "outputs_hidden": false
    }
   },
   "outputs": [],
   "source": [
    "# Let's add some duplicates\n",
    "data = pd.concat([data, data])"
   ]
  },
  {
   "cell_type": "code",
   "execution_count": 24,
   "id": "aaa4df13dc045eb2",
   "metadata": {
    "ExecuteTime": {
     "end_time": "2024-03-10T16:59:10.119935Z",
     "start_time": "2024-03-10T16:59:10.063965Z"
    },
    "collapsed": false,
    "jupyter": {
     "outputs_hidden": false
    }
   },
   "outputs": [
    {
     "data": {
      "text/html": [
       "<div>\n",
       "<style scoped>\n",
       "    .dataframe tbody tr th:only-of-type {\n",
       "        vertical-align: middle;\n",
       "    }\n",
       "\n",
       "    .dataframe tbody tr th {\n",
       "        vertical-align: top;\n",
       "    }\n",
       "\n",
       "    .dataframe thead th {\n",
       "        text-align: right;\n",
       "    }\n",
       "</style>\n",
       "<table border=\"1\" class=\"dataframe\">\n",
       "  <thead>\n",
       "    <tr style=\"text-align: right;\">\n",
       "      <th></th>\n",
       "      <th>name</th>\n",
       "      <th>goals</th>\n",
       "      <th>assists</th>\n",
       "      <th>position</th>\n",
       "      <th>birth_date</th>\n",
       "    </tr>\n",
       "  </thead>\n",
       "  <tbody>\n",
       "    <tr>\n",
       "      <th>0</th>\n",
       "      <td>Messi</td>\n",
       "      <td>45.00</td>\n",
       "      <td>20.0</td>\n",
       "      <td>Forward</td>\n",
       "      <td>1987-06-24 00:00:00</td>\n",
       "    </tr>\n",
       "    <tr>\n",
       "      <th>1</th>\n",
       "      <td>Ronaldo</td>\n",
       "      <td>40.00</td>\n",
       "      <td>NaN</td>\n",
       "      <td>Forward</td>\n",
       "      <td>1985-02-05</td>\n",
       "    </tr>\n",
       "    <tr>\n",
       "      <th>2</th>\n",
       "      <td>Neymar</td>\n",
       "      <td>35.25</td>\n",
       "      <td>10.0</td>\n",
       "      <td>Forward</td>\n",
       "      <td>1992-02-05</td>\n",
       "    </tr>\n",
       "    <tr>\n",
       "      <th>3</th>\n",
       "      <td>Mbappe</td>\n",
       "      <td>30.00</td>\n",
       "      <td>5.0</td>\n",
       "      <td>FWD</td>\n",
       "      <td>1998-12-20</td>\n",
       "    </tr>\n",
       "    <tr>\n",
       "      <th>4</th>\n",
       "      <td>Lingard</td>\n",
       "      <td>25.00</td>\n",
       "      <td>0.0</td>\n",
       "      <td>Midfielder</td>\n",
       "      <td>1992-12-15</td>\n",
       "    </tr>\n",
       "    <tr>\n",
       "      <th>5</th>\n",
       "      <td>Messi</td>\n",
       "      <td>10.00</td>\n",
       "      <td>20.0</td>\n",
       "      <td>FWD</td>\n",
       "      <td>1987-06-24 00:00:00</td>\n",
       "    </tr>\n",
       "    <tr>\n",
       "      <th>0</th>\n",
       "      <td>Messi</td>\n",
       "      <td>45.00</td>\n",
       "      <td>20.0</td>\n",
       "      <td>Forward</td>\n",
       "      <td>1987-06-24 00:00:00</td>\n",
       "    </tr>\n",
       "    <tr>\n",
       "      <th>1</th>\n",
       "      <td>Ronaldo</td>\n",
       "      <td>40.00</td>\n",
       "      <td>NaN</td>\n",
       "      <td>Forward</td>\n",
       "      <td>1985-02-05</td>\n",
       "    </tr>\n",
       "    <tr>\n",
       "      <th>2</th>\n",
       "      <td>Neymar</td>\n",
       "      <td>35.25</td>\n",
       "      <td>10.0</td>\n",
       "      <td>Forward</td>\n",
       "      <td>1992-02-05</td>\n",
       "    </tr>\n",
       "    <tr>\n",
       "      <th>3</th>\n",
       "      <td>Mbappe</td>\n",
       "      <td>30.00</td>\n",
       "      <td>5.0</td>\n",
       "      <td>FWD</td>\n",
       "      <td>1998-12-20</td>\n",
       "    </tr>\n",
       "    <tr>\n",
       "      <th>4</th>\n",
       "      <td>Lingard</td>\n",
       "      <td>25.00</td>\n",
       "      <td>0.0</td>\n",
       "      <td>Midfielder</td>\n",
       "      <td>1992-12-15</td>\n",
       "    </tr>\n",
       "    <tr>\n",
       "      <th>5</th>\n",
       "      <td>Messi</td>\n",
       "      <td>10.00</td>\n",
       "      <td>20.0</td>\n",
       "      <td>FWD</td>\n",
       "      <td>1987-06-24 00:00:00</td>\n",
       "    </tr>\n",
       "  </tbody>\n",
       "</table>\n",
       "</div>"
      ],
      "text/plain": [
       "      name  goals  assists    position           birth_date\n",
       "0    Messi  45.00     20.0     Forward  1987-06-24 00:00:00\n",
       "1  Ronaldo  40.00      NaN     Forward           1985-02-05\n",
       "2   Neymar  35.25     10.0     Forward           1992-02-05\n",
       "3   Mbappe  30.00      5.0         FWD           1998-12-20\n",
       "4  Lingard  25.00      0.0  Midfielder           1992-12-15\n",
       "5    Messi  10.00     20.0         FWD  1987-06-24 00:00:00\n",
       "0    Messi  45.00     20.0     Forward  1987-06-24 00:00:00\n",
       "1  Ronaldo  40.00      NaN     Forward           1985-02-05\n",
       "2   Neymar  35.25     10.0     Forward           1992-02-05\n",
       "3   Mbappe  30.00      5.0         FWD           1998-12-20\n",
       "4  Lingard  25.00      0.0  Midfielder           1992-12-15\n",
       "5    Messi  10.00     20.0         FWD  1987-06-24 00:00:00"
      ]
     },
     "execution_count": 24,
     "metadata": {},
     "output_type": "execute_result"
    }
   ],
   "source": [
    "data"
   ]
  },
  {
   "cell_type": "code",
   "execution_count": 25,
   "id": "7a565ab3738275ed",
   "metadata": {
    "ExecuteTime": {
     "end_time": "2024-03-10T16:59:10.402113Z",
     "start_time": "2024-03-10T16:59:10.341667Z"
    },
    "collapsed": false,
    "jupyter": {
     "outputs_hidden": false
    }
   },
   "outputs": [
    {
     "data": {
      "text/html": [
       "<div>\n",
       "<style scoped>\n",
       "    .dataframe tbody tr th:only-of-type {\n",
       "        vertical-align: middle;\n",
       "    }\n",
       "\n",
       "    .dataframe tbody tr th {\n",
       "        vertical-align: top;\n",
       "    }\n",
       "\n",
       "    .dataframe thead th {\n",
       "        text-align: right;\n",
       "    }\n",
       "</style>\n",
       "<table border=\"1\" class=\"dataframe\">\n",
       "  <thead>\n",
       "    <tr style=\"text-align: right;\">\n",
       "      <th></th>\n",
       "      <th>name</th>\n",
       "      <th>goals</th>\n",
       "      <th>assists</th>\n",
       "      <th>position</th>\n",
       "      <th>birth_date</th>\n",
       "    </tr>\n",
       "  </thead>\n",
       "  <tbody>\n",
       "    <tr>\n",
       "      <th>0</th>\n",
       "      <td>Messi</td>\n",
       "      <td>45.00</td>\n",
       "      <td>20.0</td>\n",
       "      <td>Forward</td>\n",
       "      <td>1987-06-24 00:00:00</td>\n",
       "    </tr>\n",
       "    <tr>\n",
       "      <th>1</th>\n",
       "      <td>Ronaldo</td>\n",
       "      <td>40.00</td>\n",
       "      <td>NaN</td>\n",
       "      <td>Forward</td>\n",
       "      <td>1985-02-05</td>\n",
       "    </tr>\n",
       "    <tr>\n",
       "      <th>2</th>\n",
       "      <td>Neymar</td>\n",
       "      <td>35.25</td>\n",
       "      <td>10.0</td>\n",
       "      <td>Forward</td>\n",
       "      <td>1992-02-05</td>\n",
       "    </tr>\n",
       "    <tr>\n",
       "      <th>3</th>\n",
       "      <td>Mbappe</td>\n",
       "      <td>30.00</td>\n",
       "      <td>5.0</td>\n",
       "      <td>FWD</td>\n",
       "      <td>1998-12-20</td>\n",
       "    </tr>\n",
       "    <tr>\n",
       "      <th>4</th>\n",
       "      <td>Lingard</td>\n",
       "      <td>25.00</td>\n",
       "      <td>0.0</td>\n",
       "      <td>Midfielder</td>\n",
       "      <td>1992-12-15</td>\n",
       "    </tr>\n",
       "    <tr>\n",
       "      <th>5</th>\n",
       "      <td>Messi</td>\n",
       "      <td>10.00</td>\n",
       "      <td>20.0</td>\n",
       "      <td>FWD</td>\n",
       "      <td>1987-06-24 00:00:00</td>\n",
       "    </tr>\n",
       "  </tbody>\n",
       "</table>\n",
       "</div>"
      ],
      "text/plain": [
       "      name  goals  assists    position           birth_date\n",
       "0    Messi  45.00     20.0     Forward  1987-06-24 00:00:00\n",
       "1  Ronaldo  40.00      NaN     Forward           1985-02-05\n",
       "2   Neymar  35.25     10.0     Forward           1992-02-05\n",
       "3   Mbappe  30.00      5.0         FWD           1998-12-20\n",
       "4  Lingard  25.00      0.0  Midfielder           1992-12-15\n",
       "5    Messi  10.00     20.0         FWD  1987-06-24 00:00:00"
      ]
     },
     "execution_count": 25,
     "metadata": {},
     "output_type": "execute_result"
    }
   ],
   "source": [
    "# We can remove duplicates using the drop_duplicates method\n",
    "data = data.drop_duplicates()\n",
    "data"
   ]
  },
  {
   "cell_type": "code",
   "execution_count": 26,
   "id": "7c9874a5bab22084",
   "metadata": {
    "ExecuteTime": {
     "end_time": "2024-03-10T16:59:10.765322Z",
     "start_time": "2024-03-10T16:59:10.724773Z"
    },
    "collapsed": false,
    "jupyter": {
     "outputs_hidden": false
    }
   },
   "outputs": [
    {
     "data": {
      "text/html": [
       "<div>\n",
       "<style scoped>\n",
       "    .dataframe tbody tr th:only-of-type {\n",
       "        vertical-align: middle;\n",
       "    }\n",
       "\n",
       "    .dataframe tbody tr th {\n",
       "        vertical-align: top;\n",
       "    }\n",
       "\n",
       "    .dataframe thead th {\n",
       "        text-align: right;\n",
       "    }\n",
       "</style>\n",
       "<table border=\"1\" class=\"dataframe\">\n",
       "  <thead>\n",
       "    <tr style=\"text-align: right;\">\n",
       "      <th></th>\n",
       "      <th>name</th>\n",
       "      <th>goals</th>\n",
       "      <th>assists</th>\n",
       "      <th>position</th>\n",
       "      <th>birth_date</th>\n",
       "    </tr>\n",
       "  </thead>\n",
       "  <tbody>\n",
       "    <tr>\n",
       "      <th>0</th>\n",
       "      <td>Messi</td>\n",
       "      <td>45.00</td>\n",
       "      <td>20.0</td>\n",
       "      <td>Forward</td>\n",
       "      <td>1987-06-24 00:00:00</td>\n",
       "    </tr>\n",
       "    <tr>\n",
       "      <th>1</th>\n",
       "      <td>Ronaldo</td>\n",
       "      <td>40.00</td>\n",
       "      <td>NaN</td>\n",
       "      <td>Forward</td>\n",
       "      <td>1985-02-05</td>\n",
       "    </tr>\n",
       "    <tr>\n",
       "      <th>2</th>\n",
       "      <td>Neymar</td>\n",
       "      <td>35.25</td>\n",
       "      <td>10.0</td>\n",
       "      <td>Forward</td>\n",
       "      <td>1992-02-05</td>\n",
       "    </tr>\n",
       "    <tr>\n",
       "      <th>3</th>\n",
       "      <td>Mbappe</td>\n",
       "      <td>30.00</td>\n",
       "      <td>5.0</td>\n",
       "      <td>FWD</td>\n",
       "      <td>1998-12-20</td>\n",
       "    </tr>\n",
       "    <tr>\n",
       "      <th>4</th>\n",
       "      <td>Lingard</td>\n",
       "      <td>25.00</td>\n",
       "      <td>0.0</td>\n",
       "      <td>Midfielder</td>\n",
       "      <td>1992-12-15</td>\n",
       "    </tr>\n",
       "  </tbody>\n",
       "</table>\n",
       "</div>"
      ],
      "text/plain": [
       "      name  goals  assists    position           birth_date\n",
       "0    Messi  45.00     20.0     Forward  1987-06-24 00:00:00\n",
       "1  Ronaldo  40.00      NaN     Forward           1985-02-05\n",
       "2   Neymar  35.25     10.0     Forward           1992-02-05\n",
       "3   Mbappe  30.00      5.0         FWD           1998-12-20\n",
       "4  Lingard  25.00      0.0  Midfielder           1992-12-15"
      ]
     },
     "execution_count": 26,
     "metadata": {},
     "output_type": "execute_result"
    }
   ],
   "source": [
    "# We can remove duplicates based on a subset of columns\n",
    "data = data.drop_duplicates(subset=['name'], keep='first')\n",
    "data"
   ]
  },
  {
   "cell_type": "code",
   "execution_count": 27,
   "id": "a0404a1bba6873d2",
   "metadata": {
    "ExecuteTime": {
     "end_time": "2024-03-10T16:59:11.469104Z",
     "start_time": "2024-03-10T16:59:11.458350Z"
    },
    "collapsed": false,
    "jupyter": {
     "outputs_hidden": false
    }
   },
   "outputs": [
    {
     "name": "stderr",
     "output_type": "stream",
     "text": [
      "/var/folders/l3/wlgnl3zd5hl46kfjq1yh3k9r0000gn/T/ipykernel_6705/3605912877.py:2: SettingWithCopyWarning: \n",
      "A value is trying to be set on a copy of a slice from a DataFrame.\n",
      "Try using .loc[row_indexer,col_indexer] = value instead\n",
      "\n",
      "See the caveats in the documentation: https://pandas.pydata.org/pandas-docs/stable/user_guide/indexing.html#returning-a-view-versus-a-copy\n",
      "  data['assists'] = data['assists'].fillna(0)\n"
     ]
    },
    {
     "data": {
      "text/html": [
       "<div>\n",
       "<style scoped>\n",
       "    .dataframe tbody tr th:only-of-type {\n",
       "        vertical-align: middle;\n",
       "    }\n",
       "\n",
       "    .dataframe tbody tr th {\n",
       "        vertical-align: top;\n",
       "    }\n",
       "\n",
       "    .dataframe thead th {\n",
       "        text-align: right;\n",
       "    }\n",
       "</style>\n",
       "<table border=\"1\" class=\"dataframe\">\n",
       "  <thead>\n",
       "    <tr style=\"text-align: right;\">\n",
       "      <th></th>\n",
       "      <th>name</th>\n",
       "      <th>goals</th>\n",
       "      <th>assists</th>\n",
       "      <th>position</th>\n",
       "      <th>birth_date</th>\n",
       "    </tr>\n",
       "  </thead>\n",
       "  <tbody>\n",
       "    <tr>\n",
       "      <th>0</th>\n",
       "      <td>Messi</td>\n",
       "      <td>45.00</td>\n",
       "      <td>20.0</td>\n",
       "      <td>Forward</td>\n",
       "      <td>1987-06-24 00:00:00</td>\n",
       "    </tr>\n",
       "    <tr>\n",
       "      <th>1</th>\n",
       "      <td>Ronaldo</td>\n",
       "      <td>40.00</td>\n",
       "      <td>0.0</td>\n",
       "      <td>Forward</td>\n",
       "      <td>1985-02-05</td>\n",
       "    </tr>\n",
       "    <tr>\n",
       "      <th>2</th>\n",
       "      <td>Neymar</td>\n",
       "      <td>35.25</td>\n",
       "      <td>10.0</td>\n",
       "      <td>Forward</td>\n",
       "      <td>1992-02-05</td>\n",
       "    </tr>\n",
       "    <tr>\n",
       "      <th>3</th>\n",
       "      <td>Mbappe</td>\n",
       "      <td>30.00</td>\n",
       "      <td>5.0</td>\n",
       "      <td>FWD</td>\n",
       "      <td>1998-12-20</td>\n",
       "    </tr>\n",
       "    <tr>\n",
       "      <th>4</th>\n",
       "      <td>Lingard</td>\n",
       "      <td>25.00</td>\n",
       "      <td>0.0</td>\n",
       "      <td>Midfielder</td>\n",
       "      <td>1992-12-15</td>\n",
       "    </tr>\n",
       "  </tbody>\n",
       "</table>\n",
       "</div>"
      ],
      "text/plain": [
       "      name  goals  assists    position           birth_date\n",
       "0    Messi  45.00     20.0     Forward  1987-06-24 00:00:00\n",
       "1  Ronaldo  40.00      0.0     Forward           1985-02-05\n",
       "2   Neymar  35.25     10.0     Forward           1992-02-05\n",
       "3   Mbappe  30.00      5.0         FWD           1998-12-20\n",
       "4  Lingard  25.00      0.0  Midfielder           1992-12-15"
      ]
     },
     "execution_count": 27,
     "metadata": {},
     "output_type": "execute_result"
    }
   ],
   "source": [
    "# We can fill in missing data using the fillna method\n",
    "data['assists'] = data['assists'].fillna(0)\n",
    "data"
   ]
  },
  {
   "cell_type": "code",
   "execution_count": 29,
   "id": "2683a5a27c016b53",
   "metadata": {
    "ExecuteTime": {
     "end_time": "2024-03-10T16:59:57.251179Z",
     "start_time": "2024-03-10T16:59:57.247934Z"
    },
    "collapsed": false,
    "jupyter": {
     "outputs_hidden": false
    }
   },
   "outputs": [
    {
     "name": "stderr",
     "output_type": "stream",
     "text": [
      "/var/folders/l3/wlgnl3zd5hl46kfjq1yh3k9r0000gn/T/ipykernel_6705/1605198956.py:2: SettingWithCopyWarning: \n",
      "A value is trying to be set on a copy of a slice from a DataFrame.\n",
      "Try using .loc[row_indexer,col_indexer] = value instead\n",
      "\n",
      "See the caveats in the documentation: https://pandas.pydata.org/pandas-docs/stable/user_guide/indexing.html#returning-a-view-versus-a-copy\n",
      "  data['goals'] = data['goals'].astype(int) # Notice what happens to the .25\n",
      "/var/folders/l3/wlgnl3zd5hl46kfjq1yh3k9r0000gn/T/ipykernel_6705/1605198956.py:3: SettingWithCopyWarning: \n",
      "A value is trying to be set on a copy of a slice from a DataFrame.\n",
      "Try using .loc[row_indexer,col_indexer] = value instead\n",
      "\n",
      "See the caveats in the documentation: https://pandas.pydata.org/pandas-docs/stable/user_guide/indexing.html#returning-a-view-versus-a-copy\n",
      "  data['assists'] = data['assists'].astype(int)\n"
     ]
    },
    {
     "data": {
      "text/html": [
       "<div>\n",
       "<style scoped>\n",
       "    .dataframe tbody tr th:only-of-type {\n",
       "        vertical-align: middle;\n",
       "    }\n",
       "\n",
       "    .dataframe tbody tr th {\n",
       "        vertical-align: top;\n",
       "    }\n",
       "\n",
       "    .dataframe thead th {\n",
       "        text-align: right;\n",
       "    }\n",
       "</style>\n",
       "<table border=\"1\" class=\"dataframe\">\n",
       "  <thead>\n",
       "    <tr style=\"text-align: right;\">\n",
       "      <th></th>\n",
       "      <th>name</th>\n",
       "      <th>goals</th>\n",
       "      <th>assists</th>\n",
       "      <th>position</th>\n",
       "      <th>birth_date</th>\n",
       "    </tr>\n",
       "  </thead>\n",
       "  <tbody>\n",
       "    <tr>\n",
       "      <th>0</th>\n",
       "      <td>Messi</td>\n",
       "      <td>45</td>\n",
       "      <td>20</td>\n",
       "      <td>Forward</td>\n",
       "      <td>1987-06-24 00:00:00</td>\n",
       "    </tr>\n",
       "    <tr>\n",
       "      <th>1</th>\n",
       "      <td>Ronaldo</td>\n",
       "      <td>40</td>\n",
       "      <td>0</td>\n",
       "      <td>Forward</td>\n",
       "      <td>1985-02-05</td>\n",
       "    </tr>\n",
       "    <tr>\n",
       "      <th>2</th>\n",
       "      <td>Neymar</td>\n",
       "      <td>35</td>\n",
       "      <td>10</td>\n",
       "      <td>Forward</td>\n",
       "      <td>1992-02-05</td>\n",
       "    </tr>\n",
       "    <tr>\n",
       "      <th>3</th>\n",
       "      <td>Mbappe</td>\n",
       "      <td>30</td>\n",
       "      <td>5</td>\n",
       "      <td>FWD</td>\n",
       "      <td>1998-12-20</td>\n",
       "    </tr>\n",
       "    <tr>\n",
       "      <th>4</th>\n",
       "      <td>Lingard</td>\n",
       "      <td>25</td>\n",
       "      <td>0</td>\n",
       "      <td>Midfielder</td>\n",
       "      <td>1992-12-15</td>\n",
       "    </tr>\n",
       "  </tbody>\n",
       "</table>\n",
       "</div>"
      ],
      "text/plain": [
       "      name  goals  assists    position           birth_date\n",
       "0    Messi     45       20     Forward  1987-06-24 00:00:00\n",
       "1  Ronaldo     40        0     Forward           1985-02-05\n",
       "2   Neymar     35       10     Forward           1992-02-05\n",
       "3   Mbappe     30        5         FWD           1998-12-20\n",
       "4  Lingard     25        0  Midfielder           1992-12-15"
      ]
     },
     "execution_count": 29,
     "metadata": {},
     "output_type": "execute_result"
    }
   ],
   "source": [
    "# We can convert data types using the astype method\n",
    "data['goals'] = data['goals'].astype(int) # Notice what happens to the .25 (rounds down)\n",
    "data['assists'] = data['assists'].astype(int)\n",
    "data"
   ]
  },
  {
   "cell_type": "code",
   "execution_count": 31,
   "id": "a15c2a452698a63",
   "metadata": {
    "ExecuteTime": {
     "end_time": "2024-03-10T17:00:52.729895Z",
     "start_time": "2024-03-10T17:00:52.726130Z"
    },
    "collapsed": false,
    "jupyter": {
     "outputs_hidden": false
    }
   },
   "outputs": [
    {
     "name": "stderr",
     "output_type": "stream",
     "text": [
      "/var/folders/l3/wlgnl3zd5hl46kfjq1yh3k9r0000gn/T/ipykernel_6705/3951027099.py:2: SettingWithCopyWarning: \n",
      "A value is trying to be set on a copy of a slice from a DataFrame.\n",
      "Try using .loc[row_indexer,col_indexer] = value instead\n",
      "\n",
      "See the caveats in the documentation: https://pandas.pydata.org/pandas-docs/stable/user_guide/indexing.html#returning-a-view-versus-a-copy\n",
      "  data['position'] = data['position'].str.replace('FWD', 'Forward')\n"
     ]
    },
    {
     "data": {
      "text/html": [
       "<div>\n",
       "<style scoped>\n",
       "    .dataframe tbody tr th:only-of-type {\n",
       "        vertical-align: middle;\n",
       "    }\n",
       "\n",
       "    .dataframe tbody tr th {\n",
       "        vertical-align: top;\n",
       "    }\n",
       "\n",
       "    .dataframe thead th {\n",
       "        text-align: right;\n",
       "    }\n",
       "</style>\n",
       "<table border=\"1\" class=\"dataframe\">\n",
       "  <thead>\n",
       "    <tr style=\"text-align: right;\">\n",
       "      <th></th>\n",
       "      <th>name</th>\n",
       "      <th>goals</th>\n",
       "      <th>assists</th>\n",
       "      <th>position</th>\n",
       "      <th>birth_date</th>\n",
       "    </tr>\n",
       "  </thead>\n",
       "  <tbody>\n",
       "    <tr>\n",
       "      <th>0</th>\n",
       "      <td>Messi</td>\n",
       "      <td>45</td>\n",
       "      <td>20</td>\n",
       "      <td>Forward</td>\n",
       "      <td>1987-06-24 00:00:00</td>\n",
       "    </tr>\n",
       "    <tr>\n",
       "      <th>1</th>\n",
       "      <td>Ronaldo</td>\n",
       "      <td>40</td>\n",
       "      <td>0</td>\n",
       "      <td>Forward</td>\n",
       "      <td>1985-02-05</td>\n",
       "    </tr>\n",
       "    <tr>\n",
       "      <th>2</th>\n",
       "      <td>Neymar</td>\n",
       "      <td>35</td>\n",
       "      <td>10</td>\n",
       "      <td>Forward</td>\n",
       "      <td>1992-02-05</td>\n",
       "    </tr>\n",
       "    <tr>\n",
       "      <th>3</th>\n",
       "      <td>Mbappe</td>\n",
       "      <td>30</td>\n",
       "      <td>5</td>\n",
       "      <td>Forward</td>\n",
       "      <td>1998-12-20</td>\n",
       "    </tr>\n",
       "    <tr>\n",
       "      <th>4</th>\n",
       "      <td>Lingard</td>\n",
       "      <td>25</td>\n",
       "      <td>0</td>\n",
       "      <td>Midfielder</td>\n",
       "      <td>1992-12-15</td>\n",
       "    </tr>\n",
       "  </tbody>\n",
       "</table>\n",
       "</div>"
      ],
      "text/plain": [
       "      name  goals  assists    position           birth_date\n",
       "0    Messi     45       20     Forward  1987-06-24 00:00:00\n",
       "1  Ronaldo     40        0     Forward           1985-02-05\n",
       "2   Neymar     35       10     Forward           1992-02-05\n",
       "3   Mbappe     30        5     Forward           1998-12-20\n",
       "4  Lingard     25        0  Midfielder           1992-12-15"
      ]
     },
     "execution_count": 31,
     "metadata": {},
     "output_type": "execute_result"
    }
   ],
   "source": [
    "# We can replace values using the replace method\n",
    "data['position'] = data['position'].str.replace('FWD', 'Forward')\n",
    "data"
   ]
  },
  {
   "cell_type": "code",
   "execution_count": 34,
   "id": "106fc5ffe3821e19",
   "metadata": {
    "ExecuteTime": {
     "end_time": "2024-03-10T17:01:35.200666Z",
     "start_time": "2024-03-10T17:01:35.173305Z"
    },
    "collapsed": false,
    "jupyter": {
     "outputs_hidden": false
    }
   },
   "outputs": [
    {
     "name": "stderr",
     "output_type": "stream",
     "text": [
      "/var/folders/l3/wlgnl3zd5hl46kfjq1yh3k9r0000gn/T/ipykernel_6705/799403440.py:2: SettingWithCopyWarning: \n",
      "A value is trying to be set on a copy of a slice from a DataFrame.\n",
      "Try using .loc[row_indexer,col_indexer] = value instead\n",
      "\n",
      "See the caveats in the documentation: https://pandas.pydata.org/pandas-docs/stable/user_guide/indexing.html#returning-a-view-versus-a-copy\n",
      "  data['birth_date'] = pd.to_datetime(data['birth_date'], format='mixed')\n"
     ]
    },
    {
     "data": {
      "text/html": [
       "<div>\n",
       "<style scoped>\n",
       "    .dataframe tbody tr th:only-of-type {\n",
       "        vertical-align: middle;\n",
       "    }\n",
       "\n",
       "    .dataframe tbody tr th {\n",
       "        vertical-align: top;\n",
       "    }\n",
       "\n",
       "    .dataframe thead th {\n",
       "        text-align: right;\n",
       "    }\n",
       "</style>\n",
       "<table border=\"1\" class=\"dataframe\">\n",
       "  <thead>\n",
       "    <tr style=\"text-align: right;\">\n",
       "      <th></th>\n",
       "      <th>name</th>\n",
       "      <th>goals</th>\n",
       "      <th>assists</th>\n",
       "      <th>position</th>\n",
       "      <th>birth_date</th>\n",
       "    </tr>\n",
       "  </thead>\n",
       "  <tbody>\n",
       "    <tr>\n",
       "      <th>0</th>\n",
       "      <td>Messi</td>\n",
       "      <td>45</td>\n",
       "      <td>20</td>\n",
       "      <td>Forward</td>\n",
       "      <td>1987-06-24</td>\n",
       "    </tr>\n",
       "    <tr>\n",
       "      <th>1</th>\n",
       "      <td>Ronaldo</td>\n",
       "      <td>40</td>\n",
       "      <td>0</td>\n",
       "      <td>Forward</td>\n",
       "      <td>1985-02-05</td>\n",
       "    </tr>\n",
       "    <tr>\n",
       "      <th>2</th>\n",
       "      <td>Neymar</td>\n",
       "      <td>35</td>\n",
       "      <td>10</td>\n",
       "      <td>Forward</td>\n",
       "      <td>1992-02-05</td>\n",
       "    </tr>\n",
       "    <tr>\n",
       "      <th>3</th>\n",
       "      <td>Mbappe</td>\n",
       "      <td>30</td>\n",
       "      <td>5</td>\n",
       "      <td>Forward</td>\n",
       "      <td>1998-12-20</td>\n",
       "    </tr>\n",
       "    <tr>\n",
       "      <th>4</th>\n",
       "      <td>Lingard</td>\n",
       "      <td>25</td>\n",
       "      <td>0</td>\n",
       "      <td>Midfielder</td>\n",
       "      <td>1992-12-15</td>\n",
       "    </tr>\n",
       "  </tbody>\n",
       "</table>\n",
       "</div>"
      ],
      "text/plain": [
       "      name  goals  assists    position birth_date\n",
       "0    Messi     45       20     Forward 1987-06-24\n",
       "1  Ronaldo     40        0     Forward 1985-02-05\n",
       "2   Neymar     35       10     Forward 1992-02-05\n",
       "3   Mbappe     30        5     Forward 1998-12-20\n",
       "4  Lingard     25        0  Midfielder 1992-12-15"
      ]
     },
     "execution_count": 34,
     "metadata": {},
     "output_type": "execute_result"
    }
   ],
   "source": [
    "# We can parse dates using the to_datetime method\n",
    "data['birth_date'] = pd.to_datetime(data['birth_date'], format='mixed')\n",
    "data"
   ]
  },
  {
   "cell_type": "code",
   "execution_count": 37,
   "id": "2f3b1942ba11b339",
   "metadata": {
    "ExecuteTime": {
     "end_time": "2024-03-10T17:02:44.566200Z",
     "start_time": "2024-03-10T17:02:44.527373Z"
    },
    "collapsed": false,
    "jupyter": {
     "outputs_hidden": false
    }
   },
   "outputs": [
    {
     "name": "stderr",
     "output_type": "stream",
     "text": [
      "/var/folders/l3/wlgnl3zd5hl46kfjq1yh3k9r0000gn/T/ipykernel_6705/2984511213.py:2: SettingWithCopyWarning: \n",
      "A value is trying to be set on a copy of a slice from a DataFrame.\n",
      "Try using .loc[row_indexer,col_indexer] = value instead\n",
      "\n",
      "See the caveats in the documentation: https://pandas.pydata.org/pandas-docs/stable/user_guide/indexing.html#returning-a-view-versus-a-copy\n",
      "  data['name'] = data['name'].apply(lambda x: x.upper())\n"
     ]
    },
    {
     "data": {
      "text/html": [
       "<div>\n",
       "<style scoped>\n",
       "    .dataframe tbody tr th:only-of-type {\n",
       "        vertical-align: middle;\n",
       "    }\n",
       "\n",
       "    .dataframe tbody tr th {\n",
       "        vertical-align: top;\n",
       "    }\n",
       "\n",
       "    .dataframe thead th {\n",
       "        text-align: right;\n",
       "    }\n",
       "</style>\n",
       "<table border=\"1\" class=\"dataframe\">\n",
       "  <thead>\n",
       "    <tr style=\"text-align: right;\">\n",
       "      <th></th>\n",
       "      <th>name</th>\n",
       "      <th>goals</th>\n",
       "      <th>assists</th>\n",
       "      <th>position</th>\n",
       "      <th>birth_date</th>\n",
       "    </tr>\n",
       "  </thead>\n",
       "  <tbody>\n",
       "    <tr>\n",
       "      <th>0</th>\n",
       "      <td>MESSI</td>\n",
       "      <td>45</td>\n",
       "      <td>20</td>\n",
       "      <td>Forward</td>\n",
       "      <td>1987-06-24</td>\n",
       "    </tr>\n",
       "    <tr>\n",
       "      <th>1</th>\n",
       "      <td>RONALDO</td>\n",
       "      <td>40</td>\n",
       "      <td>0</td>\n",
       "      <td>Forward</td>\n",
       "      <td>1985-02-05</td>\n",
       "    </tr>\n",
       "    <tr>\n",
       "      <th>2</th>\n",
       "      <td>NEYMAR</td>\n",
       "      <td>35</td>\n",
       "      <td>10</td>\n",
       "      <td>Forward</td>\n",
       "      <td>1992-02-05</td>\n",
       "    </tr>\n",
       "    <tr>\n",
       "      <th>3</th>\n",
       "      <td>MBAPPE</td>\n",
       "      <td>30</td>\n",
       "      <td>5</td>\n",
       "      <td>Forward</td>\n",
       "      <td>1998-12-20</td>\n",
       "    </tr>\n",
       "    <tr>\n",
       "      <th>4</th>\n",
       "      <td>LINGARD</td>\n",
       "      <td>25</td>\n",
       "      <td>0</td>\n",
       "      <td>Midfielder</td>\n",
       "      <td>1992-12-15</td>\n",
       "    </tr>\n",
       "  </tbody>\n",
       "</table>\n",
       "</div>"
      ],
      "text/plain": [
       "      name  goals  assists    position birth_date\n",
       "0    MESSI     45       20     Forward 1987-06-24\n",
       "1  RONALDO     40        0     Forward 1985-02-05\n",
       "2   NEYMAR     35       10     Forward 1992-02-05\n",
       "3   MBAPPE     30        5     Forward 1998-12-20\n",
       "4  LINGARD     25        0  Midfielder 1992-12-15"
      ]
     },
     "execution_count": 37,
     "metadata": {},
     "output_type": "execute_result"
    }
   ],
   "source": [
    "# If we need to apply a custom function to a column, we can use the apply method\n",
    "data['name'] = data['name'].apply(lambda x: x.upper())\n",
    "data"
   ]
  },
  {
   "cell_type": "code",
   "execution_count": null,
   "id": "2dec0e41c1b59149",
   "metadata": {
    "collapsed": false,
    "jupyter": {
     "outputs_hidden": false
    }
   },
   "outputs": [],
   "source": []
  }
 ],
 "metadata": {
  "kernelspec": {
   "display_name": "Python 3 (ipykernel)",
   "language": "python",
   "name": "python3"
  },
  "language_info": {
   "codemirror_mode": {
    "name": "ipython",
    "version": 3
   },
   "file_extension": ".py",
   "mimetype": "text/x-python",
   "name": "python",
   "nbconvert_exporter": "python",
   "pygments_lexer": "ipython3",
   "version": "3.11.7"
  }
 },
 "nbformat": 4,
 "nbformat_minor": 5
}
