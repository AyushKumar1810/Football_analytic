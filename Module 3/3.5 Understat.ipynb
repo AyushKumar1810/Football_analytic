{
 "cells": [
  {
   "cell_type": "markdown",
   "id": "5f6d9bd39b6adbd5",
   "metadata": {
    "collapsed": false,
    "jupyter": {
     "outputs_hidden": false
    }
   },
   "source": [
    "# Understat\n",
    "\n",
    "Understat is one of the most popular websites for football data and football analysts.\n",
    "\n",
    "It provides mostly event data of shots with the expected goals and expected assists, but there are some other things you can scrape from the website as well such as league standings, lineups, and expected points as well."
   ]
  },
  {
   "cell_type": "code",
   "execution_count": 2,
   "id": "db8a660895c883ab",
   "metadata": {
    "ExecuteTime": {
     "end_time": "2024-03-08T15:46:16.584478Z",
     "start_time": "2024-03-08T15:46:14.105118Z"
    },
    "collapsed": false,
    "jupyter": {
     "outputs_hidden": false
    }
   },
   "outputs": [],
   "source": [
    "# Importing the necessary libraries\n",
    "import re\n",
    "import json\n",
    "import requests\n",
    "\n",
    "from bs4 import BeautifulSoup\n",
    "\n",
    "import pandas as pd"
   ]
  },
  {
   "cell_type": "code",
   "execution_count": 3,
   "id": "3f5403e98400484c",
   "metadata": {
    "ExecuteTime": {
     "end_time": "2024-03-08T15:48:03.347175Z",
     "start_time": "2024-03-08T15:48:02.459113Z"
    },
    "collapsed": false,
    "jupyter": {
     "outputs_hidden": false
    }
   },
   "outputs": [
    {
     "name": "stdout",
     "output_type": "stream",
     "text": [
      "200\n"
     ]
    }
   ],
   "source": [
    "# We'll start by scraping the data of a single match\n",
    "url = 'https://understat.com/match/22169'\n",
    "\n",
    "response = requests.get(url)\n",
    "print(response.status_code)"
   ]
  },
  {
   "cell_type": "code",
   "execution_count": 4,
   "id": "d8a1ad493c856252",
   "metadata": {
    "ExecuteTime": {
     "end_time": "2024-03-08T15:48:06.879741Z",
     "start_time": "2024-03-08T15:48:06.877508Z"
    },
    "collapsed": false,
    "jupyter": {
     "outputs_hidden": false
    }
   },
   "outputs": [],
   "source": [
    "# We'll use BeautifulSoup to parse the HTML content of the page\n",
    "# I also any time I have to do something besides using css selectors, \n",
    "# I'll use regex to scrape the data thus I create an \"ugly_soup\" variable\n",
    "# which is the string representation of the soup object\n",
    "\n",
    "soup = BeautifulSoup(response.content, 'html.parser')\n",
    "ugly_soup = str(soup)"
   ]
  },
  {
   "cell_type": "code",
   "execution_count": 5,
   "id": "65c03b760ef913ba",
   "metadata": {
    "ExecuteTime": {
     "end_time": "2024-03-08T15:48:07.876101Z",
     "start_time": "2024-03-08T15:48:07.869471Z"
    },
    "collapsed": false,
    "jupyter": {
     "outputs_hidden": false
    }
   },
   "outputs": [
    {
     "name": "stderr",
     "output_type": "stream",
     "text": [
      "<>:2: SyntaxWarning: invalid escape sequence '\\('\n",
      "<>:2: SyntaxWarning: invalid escape sequence '\\('\n",
      "C:\\Users\\Ayush\\AppData\\Local\\Temp\\ipykernel_4952\\763542153.py:2: SyntaxWarning: invalid escape sequence '\\('\n",
      "  shots_data = re.search(\"var shotsData .*= JSON.parse\\('(.*)'\\)\", ugly_soup).group(1)\n"
     ]
    }
   ],
   "source": [
    "# strip unnecessary symbols and get only JSON data\n",
    "shots_data = re.search(\"var shotsData .*= JSON.parse\\('(.*)'\\)\", ugly_soup).group(1)\n",
    "data = json.loads(shots_data.encode('utf8').decode('unicode_escape'))"
   ]
  },
  {
   "cell_type": "code",
   "execution_count": 6,
   "id": "e609bcbcc5977e50",
   "metadata": {
    "ExecuteTime": {
     "end_time": "2024-03-08T15:48:08.695578Z",
     "start_time": "2024-03-08T15:48:08.688734Z"
    },
    "collapsed": false,
    "jupyter": {
     "outputs_hidden": false
    }
   },
   "outputs": [],
   "source": [
    "# Turn it into a dataframe\n",
    "home_df = pd.DataFrame(data['h'])\n",
    "away_df = pd.DataFrame(data['a'])"
   ]
  },
  {
   "cell_type": "code",
   "execution_count": 7,
   "id": "4e630ea30519646f",
   "metadata": {
    "ExecuteTime": {
     "end_time": "2024-03-08T15:48:35.335029Z",
     "start_time": "2024-03-08T15:48:35.331358Z"
    },
    "collapsed": false,
    "jupyter": {
     "outputs_hidden": false
    }
   },
   "outputs": [
    {
     "name": "stdout",
     "output_type": "stream",
     "text": [
      "id                              569008\n",
      "minute                               5\n",
      "result                     MissedShots\n",
      "X                                0.815\n",
      "Y                  0.33599998474121096\n",
      "xG                 0.03180784732103348\n",
      "player                     Cole Palmer\n",
      "h_a                                  h\n",
      "player_id                         8497\n",
      "situation                     OpenPlay\n",
      "season                            2023\n",
      "shotType                     RightFoot\n",
      "match_id                         22169\n",
      "h_team                         Chelsea\n",
      "a_team                Newcastle United\n",
      "h_goals                              3\n",
      "a_goals                              2\n",
      "date               2024-03-11 20:00:00\n",
      "player_assisted                   None\n",
      "lastAction                        None\n",
      "Name: 0, dtype: object\n"
     ]
    }
   ],
   "source": [
    "print(home_df.iloc[0])"
   ]
  },
  {
   "cell_type": "code",
   "execution_count": null,
   "id": "37dc95d4c8c4d82d",
   "metadata": {
    "collapsed": false,
    "jupyter": {
     "outputs_hidden": false
    }
   },
   "outputs": [],
   "source": []
  },
  {
   "cell_type": "code",
   "execution_count": null,
   "id": "f6cb08b7-cbd6-4483-a83f-3806dcbd1fc0",
   "metadata": {},
   "outputs": [],
   "source": []
  }
 ],
 "metadata": {
  "kernelspec": {
   "display_name": "Python 3 (ipykernel)",
   "language": "python",
   "name": "python3"
  },
  "language_info": {
   "codemirror_mode": {
    "name": "ipython",
    "version": 3
   },
   "file_extension": ".py",
   "mimetype": "text/x-python",
   "name": "python",
   "nbconvert_exporter": "python",
   "pygments_lexer": "ipython3",
   "version": "3.12.0"
  }
 },
 "nbformat": 4,
 "nbformat_minor": 5
}
