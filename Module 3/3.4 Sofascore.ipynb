{
 "cells": [
  {
   "cell_type": "markdown",
   "id": "aa63fc9dcd2db968",
   "metadata": {
    "collapsed": false,
    "jupyter": {
     "outputs_hidden": false
    }
   },
   "source": [
    "# Sofascore\n",
    "\n",
    "Sofascore is a website that provides live scores, results, and fixtures for a variety of sports. It also provides statistics and player ratings for football matches. \n",
    "\n",
    "It has some advanced statistics and event data we can use like shots and expected goals.\n",
    "\n",
    "The unique thing about Sofascore is that it is a website that is set up terribly for scraping, but we can still do it thanks to APIs they use to load the data."
   ]
  },
  {
   "cell_type": "code",
   "execution_count": 12,
   "id": "a2dafceb63f7e3ea",
   "metadata": {
    "ExecuteTime": {
     "end_time": "2024-02-26T13:49:39.670174Z",
     "start_time": "2024-02-26T13:49:39.577096Z"
    },
    "collapsed": false,
    "jupyter": {
     "outputs_hidden": false
    }
   },
   "outputs": [],
   "source": [
    "import requests"
   ]
  },
  {
   "cell_type": "code",
   "execution_count": 13,
   "id": "7136dba2d9f1e4d4",
   "metadata": {
    "ExecuteTime": {
     "end_time": "2024-02-26T13:55:51.688342Z",
     "start_time": "2024-02-26T13:55:51.684140Z"
    },
    "collapsed": false,
    "jupyter": {
     "outputs_hidden": false
    }
   },
   "outputs": [],
   "source": [
    "# We'll scrape all of the shot data from the Women's Champions League Final between Barcelona and Wolfsburg in 2023\n",
    "url = 'https://www.sofascore.com/barcelona-vfl-wolfsburg/glcsOhG#id:11253247'\n",
    "\n",
    "# in this url, the id for the match is 11253247\n",
    "match_id = url.split('id:')[-1]"
   ]
  },
  {
   "cell_type": "code",
   "execution_count": 14,
   "id": "3cc779e4dcf087a5",
   "metadata": {
    "ExecuteTime": {
     "end_time": "2024-02-26T13:55:52.599186Z",
     "start_time": "2024-02-26T13:55:52.426011Z"
    },
    "collapsed": false,
    "jupyter": {
     "outputs_hidden": false
    }
   },
   "outputs": [],
   "source": [
    "# Open the network tab in the developer tools and filter by XHR to find the API call that loads the data\n",
    "# Then look for an api call that is called \"shotmap\"\n",
    "# Copy the cURL command and head over to curlconverter.com and paste the cURL command to get the python requests code\n",
    "headers = {\n",
    "    'authority': 'api.sofascore.com',\n",
    "    'accept': '*/*',\n",
    "    'accept-language': 'en-US,en;q=0.9',\n",
    "    'cache-control': 'max-age=0',\n",
    "    'dnt': '1',\n",
    "    'if-none-match': 'W/\"c8379b88a8\"',\n",
    "    'origin': 'https://www.sofascore.com',\n",
    "    'referer': 'https://www.sofascore.com/',\n",
    "    'sec-ch-ua': '\"Chromium\";v=\"121\", \"Not A(Brand\";v=\"99\"',\n",
    "    'sec-ch-ua-mobile': '?0',\n",
    "    'sec-ch-ua-platform': '\"macOS\"',\n",
    "    'sec-fetch-dest': 'empty',\n",
    "    'sec-fetch-mode': 'cors',\n",
    "    'sec-fetch-site': 'same-site',\n",
    "    'user-agent': 'Mozilla/5.0 (Macintosh; Intel Mac OS X 10_15_7) AppleWebKit/537.36 (KHTML, like Gecko) Chrome/121.0.0.0 Safari/537.36',\n",
    "}\n",
    "\n",
    "response = requests.get(f'https://api.sofascore.com/api/v1/event/{match_id}/shotmap', headers=headers) # replace the id with the id of the match"
   ]
  },
  {
   "cell_type": "code",
   "execution_count": 15,
   "id": "bd301cca42618571",
   "metadata": {
    "ExecuteTime": {
     "end_time": "2024-02-26T13:57:43.407746Z",
     "start_time": "2024-02-26T13:57:43.405111Z"
    },
    "collapsed": false,
    "jupyter": {
     "outputs_hidden": false
    }
   },
   "outputs": [
    {
     "data": {
      "text/plain": [
       "200"
      ]
     },
     "execution_count": 15,
     "metadata": {},
     "output_type": "execute_result"
    }
   ],
   "source": [
    "# The first time you run this you get a 304 status code, which means the data is cached and the response is not updated\n",
    "response.status_code"
   ]
  },
  {
   "cell_type": "code",
   "execution_count": 16,
   "id": "4d3ad2281f89fbde",
   "metadata": {
    "ExecuteTime": {
     "end_time": "2024-02-26T13:57:55.434134Z",
     "start_time": "2024-02-26T13:57:55.430375Z"
    },
    "collapsed": false,
    "jupyter": {
     "outputs_hidden": false
    }
   },
   "outputs": [],
   "source": [
    "# We can add the 'last-modified' header to the request to get the data\n",
    "# You can just hardcode todays date, or you can dynamically get the date and time\n",
    "# I've never had a problem hardcoding the date\n",
    "headers['If-Modified-Since'] = 'Mon, 26 Feb 2024 00:00:00 GMT'"
   ]
  },
  {
   "cell_type": "code",
   "execution_count": 17,
   "id": "b2db9f17dad47cd9",
   "metadata": {
    "ExecuteTime": {
     "end_time": "2024-02-26T13:57:58.646718Z",
     "start_time": "2024-02-26T13:57:58.492583Z"
    },
    "collapsed": false,
    "jupyter": {
     "outputs_hidden": false
    }
   },
   "outputs": [],
   "source": [
    "response = requests.get(f'https://api.sofascore.com/api/v1/event/{match_id}/shotmap', headers=headers)"
   ]
  },
  {
   "cell_type": "code",
   "execution_count": 18,
   "id": "b9108d8b4eafa98e",
   "metadata": {
    "ExecuteTime": {
     "end_time": "2024-02-26T13:58:00.001189Z",
     "start_time": "2024-02-26T13:57:59.997054Z"
    },
    "collapsed": false,
    "jupyter": {
     "outputs_hidden": false
    }
   },
   "outputs": [
    {
     "data": {
      "text/plain": [
       "200"
      ]
     },
     "execution_count": 18,
     "metadata": {},
     "output_type": "execute_result"
    }
   ],
   "source": [
    "response.status_code"
   ]
  },
  {
   "cell_type": "code",
   "execution_count": 19,
   "id": "a6d5b9eb0ba12165",
   "metadata": {
    "ExecuteTime": {
     "end_time": "2024-02-26T13:58:53.249963Z",
     "start_time": "2024-02-26T13:58:53.247291Z"
    },
    "collapsed": false,
    "jupyter": {
     "outputs_hidden": false
    }
   },
   "outputs": [],
   "source": [
    "# Now turn it into a json object\n",
    "data = response.json()"
   ]
  },
  {
   "cell_type": "code",
   "execution_count": 20,
   "id": "995651094e7d4fa0",
   "metadata": {
    "ExecuteTime": {
     "end_time": "2024-02-26T13:59:17.063330Z",
     "start_time": "2024-02-26T13:59:16.610830Z"
    },
    "collapsed": false,
    "jupyter": {
     "outputs_hidden": false
    }
   },
   "outputs": [],
   "source": [
    "import pandas as pd\n",
    "\n",
    "df = pd.DataFrame(data['shotmap'])"
   ]
  },
  {
   "cell_type": "code",
   "execution_count": 21,
   "id": "87037e9c2327dadd",
   "metadata": {
    "ExecuteTime": {
     "end_time": "2024-02-26T14:00:04.840373Z",
     "start_time": "2024-02-26T14:00:04.831106Z"
    },
    "collapsed": false,
    "jupyter": {
     "outputs_hidden": false
    }
   },
   "outputs": [
    {
     "data": {
      "text/html": [
       "<div>\n",
       "<style scoped>\n",
       "    .dataframe tbody tr th:only-of-type {\n",
       "        vertical-align: middle;\n",
       "    }\n",
       "\n",
       "    .dataframe tbody tr th {\n",
       "        vertical-align: top;\n",
       "    }\n",
       "\n",
       "    .dataframe thead th {\n",
       "        text-align: right;\n",
       "    }\n",
       "</style>\n",
       "<table border=\"1\" class=\"dataframe\">\n",
       "  <thead>\n",
       "    <tr style=\"text-align: right;\">\n",
       "      <th></th>\n",
       "      <th>player</th>\n",
       "      <th>isHome</th>\n",
       "      <th>shotType</th>\n",
       "      <th>situation</th>\n",
       "      <th>playerCoordinates</th>\n",
       "      <th>bodyPart</th>\n",
       "      <th>goalMouthLocation</th>\n",
       "      <th>goalMouthCoordinates</th>\n",
       "      <th>blockCoordinates</th>\n",
       "      <th>id</th>\n",
       "      <th>time</th>\n",
       "      <th>addedTime</th>\n",
       "      <th>timeSeconds</th>\n",
       "      <th>draw</th>\n",
       "      <th>reversedPeriodTime</th>\n",
       "      <th>reversedPeriodTimeSeconds</th>\n",
       "      <th>incidentType</th>\n",
       "      <th>goalType</th>\n",
       "    </tr>\n",
       "  </thead>\n",
       "  <tbody>\n",
       "    <tr>\n",
       "      <th>0</th>\n",
       "      <td>{'name': 'Pauline Bremer', 'firstName': '', 'l...</td>\n",
       "      <td>False</td>\n",
       "      <td>save</td>\n",
       "      <td>corner</td>\n",
       "      <td>{'x': 7.7, 'y': 54, 'z': 0}</td>\n",
       "      <td>head</td>\n",
       "      <td>high-centre</td>\n",
       "      <td>{'x': 0, 'y': 51.7, 'z': 21.5}</td>\n",
       "      <td>{'x': 1, 'y': 52.5, 'z': 0}</td>\n",
       "      <td>2068363</td>\n",
       "      <td>90</td>\n",
       "      <td>9.0</td>\n",
       "      <td>5910</td>\n",
       "      <td>{'start': {'x': 54, 'y': 7.7}, 'block': {'x': ...</td>\n",
       "      <td>1</td>\n",
       "      <td>390</td>\n",
       "      <td>shot</td>\n",
       "      <td>NaN</td>\n",
       "    </tr>\n",
       "    <tr>\n",
       "      <th>1</th>\n",
       "      <td>{'name': 'Lucy Bronze', 'firstName': '', 'last...</td>\n",
       "      <td>True</td>\n",
       "      <td>block</td>\n",
       "      <td>corner</td>\n",
       "      <td>{'x': 2.7, 'y': 40.2, 'z': 0}</td>\n",
       "      <td>head</td>\n",
       "      <td>low-centre</td>\n",
       "      <td>{'x': 0, 'y': 51.2, 'z': 19}</td>\n",
       "      <td>{'x': 1.4, 'y': 44.4, 'z': 0}</td>\n",
       "      <td>2068297</td>\n",
       "      <td>80</td>\n",
       "      <td>NaN</td>\n",
       "      <td>4748</td>\n",
       "      <td>{'start': {'x': 40.2, 'y': 2.7}, 'block': {'x'...</td>\n",
       "      <td>11</td>\n",
       "      <td>652</td>\n",
       "      <td>shot</td>\n",
       "      <td>NaN</td>\n",
       "    </tr>\n",
       "    <tr>\n",
       "      <th>2</th>\n",
       "      <td>{'name': 'Patricia Guijarro', 'slug': 'patrici...</td>\n",
       "      <td>True</td>\n",
       "      <td>block</td>\n",
       "      <td>set-piece</td>\n",
       "      <td>{'x': 7.3, 'y': 42.9, 'z': 0}</td>\n",
       "      <td>head</td>\n",
       "      <td>low-centre</td>\n",
       "      <td>{'x': 0, 'y': 51.6, 'z': 19}</td>\n",
       "      <td>{'x': 5.8, 'y': 44, 'z': 0}</td>\n",
       "      <td>2068287</td>\n",
       "      <td>78</td>\n",
       "      <td>NaN</td>\n",
       "      <td>4675</td>\n",
       "      <td>{'start': {'x': 42.9, 'y': 7.3}, 'block': {'x'...</td>\n",
       "      <td>13</td>\n",
       "      <td>725</td>\n",
       "      <td>shot</td>\n",
       "      <td>NaN</td>\n",
       "    </tr>\n",
       "    <tr>\n",
       "      <th>3</th>\n",
       "      <td>{'name': 'Aitana Bonmatí', 'firstName': '', 'l...</td>\n",
       "      <td>True</td>\n",
       "      <td>save</td>\n",
       "      <td>assisted</td>\n",
       "      <td>{'x': 18.1, 'y': 53.6, 'z': 0}</td>\n",
       "      <td>right-foot</td>\n",
       "      <td>low-centre</td>\n",
       "      <td>{'x': 0, 'y': 49.7, 'z': 17.1}</td>\n",
       "      <td>{'x': 1.2, 'y': 51.3, 'z': 0}</td>\n",
       "      <td>2068275</td>\n",
       "      <td>76</td>\n",
       "      <td>NaN</td>\n",
       "      <td>4511</td>\n",
       "      <td>{'start': {'x': 53.6, 'y': 18.1}, 'block': {'x...</td>\n",
       "      <td>15</td>\n",
       "      <td>889</td>\n",
       "      <td>shot</td>\n",
       "      <td>NaN</td>\n",
       "    </tr>\n",
       "    <tr>\n",
       "      <th>4</th>\n",
       "      <td>{'name': 'Geyse Ferreira', 'firstName': '', 'l...</td>\n",
       "      <td>True</td>\n",
       "      <td>miss</td>\n",
       "      <td>fast-break</td>\n",
       "      <td>{'x': 9.8, 'y': 71.3, 'z': 0}</td>\n",
       "      <td>right-foot</td>\n",
       "      <td>high-right</td>\n",
       "      <td>{'x': 0, 'y': 41.8, 'z': 66.7}</td>\n",
       "      <td>NaN</td>\n",
       "      <td>2068267</td>\n",
       "      <td>72</td>\n",
       "      <td>NaN</td>\n",
       "      <td>4295</td>\n",
       "      <td>{'start': {'x': 71.3, 'y': 9.8}, 'end': {'x': ...</td>\n",
       "      <td>19</td>\n",
       "      <td>1105</td>\n",
       "      <td>shot</td>\n",
       "      <td>NaN</td>\n",
       "    </tr>\n",
       "    <tr>\n",
       "      <th>5</th>\n",
       "      <td>{'name': 'Fridolina Rolfö', 'firstName': '', '...</td>\n",
       "      <td>True</td>\n",
       "      <td>goal</td>\n",
       "      <td>assisted</td>\n",
       "      <td>{'x': 6.7, 'y': 44.9, 'z': 0}</td>\n",
       "      <td>left-foot</td>\n",
       "      <td>high-right</td>\n",
       "      <td>{'x': 0, 'y': 47.1, 'z': 24.7}</td>\n",
       "      <td>NaN</td>\n",
       "      <td>2068254</td>\n",
       "      <td>70</td>\n",
       "      <td>NaN</td>\n",
       "      <td>4177</td>\n",
       "      <td>{'start': {'x': 44.9, 'y': 6.7}, 'end': {'x': ...</td>\n",
       "      <td>21</td>\n",
       "      <td>1223</td>\n",
       "      <td>shot</td>\n",
       "      <td>regular</td>\n",
       "    </tr>\n",
       "    <tr>\n",
       "      <th>6</th>\n",
       "      <td>{'name': 'Mariona Caldentey', 'firstName': '',...</td>\n",
       "      <td>True</td>\n",
       "      <td>miss</td>\n",
       "      <td>assisted</td>\n",
       "      <td>{'x': 7.8, 'y': 55.5, 'z': 0}</td>\n",
       "      <td>right-foot</td>\n",
       "      <td>close-right</td>\n",
       "      <td>{'x': 0, 'y': 40.8, 'z': 9.7}</td>\n",
       "      <td>{'x': 4.5, 'y': 56.7, 'z': 0}</td>\n",
       "      <td>2068262</td>\n",
       "      <td>70</td>\n",
       "      <td>NaN</td>\n",
       "      <td>4171</td>\n",
       "      <td>{'start': {'x': 55.5, 'y': 7.8}, 'block': {'x'...</td>\n",
       "      <td>21</td>\n",
       "      <td>1229</td>\n",
       "      <td>shot</td>\n",
       "      <td>NaN</td>\n",
       "    </tr>\n",
       "    <tr>\n",
       "      <th>7</th>\n",
       "      <td>{'name': 'Ewa Pajor', 'slug': 'pajor-ewa', 'sh...</td>\n",
       "      <td>False</td>\n",
       "      <td>save</td>\n",
       "      <td>fast-break</td>\n",
       "      <td>{'x': 11.4, 'y': 32.4, 'z': 0}</td>\n",
       "      <td>right-foot</td>\n",
       "      <td>high-left</td>\n",
       "      <td>{'x': 0, 'y': 52.3, 'z': 20.9}</td>\n",
       "      <td>{'x': 1.8, 'y': 47.3, 'z': 0}</td>\n",
       "      <td>2068253</td>\n",
       "      <td>69</td>\n",
       "      <td>NaN</td>\n",
       "      <td>4102</td>\n",
       "      <td>{'start': {'x': 32.4, 'y': 11.4}, 'block': {'x...</td>\n",
       "      <td>22</td>\n",
       "      <td>1298</td>\n",
       "      <td>shot</td>\n",
       "      <td>NaN</td>\n",
       "    </tr>\n",
       "    <tr>\n",
       "      <th>8</th>\n",
       "      <td>{'name': 'Ewa Pajor', 'slug': 'pajor-ewa', 'sh...</td>\n",
       "      <td>False</td>\n",
       "      <td>save</td>\n",
       "      <td>assisted</td>\n",
       "      <td>{'x': 11.4, 'y': 31.8, 'z': 0}</td>\n",
       "      <td>right-foot</td>\n",
       "      <td>low-centre</td>\n",
       "      <td>{'x': 0, 'y': 51.5, 'z': 1.9}</td>\n",
       "      <td>{'x': 2.2, 'y': 45.8, 'z': 0}</td>\n",
       "      <td>2068250</td>\n",
       "      <td>67</td>\n",
       "      <td>NaN</td>\n",
       "      <td>4018</td>\n",
       "      <td>{'start': {'x': 31.8, 'y': 11.4}, 'block': {'x...</td>\n",
       "      <td>24</td>\n",
       "      <td>1382</td>\n",
       "      <td>shot</td>\n",
       "      <td>NaN</td>\n",
       "    </tr>\n",
       "    <tr>\n",
       "      <th>9</th>\n",
       "      <td>{'name': 'Lena Oberdorf', 'firstName': '', 'la...</td>\n",
       "      <td>False</td>\n",
       "      <td>miss</td>\n",
       "      <td>throw-in-set-piece</td>\n",
       "      <td>{'x': 9.3, 'y': 41, 'z': 0}</td>\n",
       "      <td>right-foot</td>\n",
       "      <td>high-left</td>\n",
       "      <td>{'x': 0, 'y': 56.3, 'z': 81.9}</td>\n",
       "      <td>NaN</td>\n",
       "      <td>2068237</td>\n",
       "      <td>65</td>\n",
       "      <td>NaN</td>\n",
       "      <td>3886</td>\n",
       "      <td>{'start': {'x': 41, 'y': 9.3}, 'end': {'x': 43...</td>\n",
       "      <td>26</td>\n",
       "      <td>1514</td>\n",
       "      <td>shot</td>\n",
       "      <td>NaN</td>\n",
       "    </tr>\n",
       "  </tbody>\n",
       "</table>\n",
       "</div>"
      ],
      "text/plain": [
       "                                              player  isHome shotType  \\\n",
       "0  {'name': 'Pauline Bremer', 'firstName': '', 'l...   False     save   \n",
       "1  {'name': 'Lucy Bronze', 'firstName': '', 'last...    True    block   \n",
       "2  {'name': 'Patricia Guijarro', 'slug': 'patrici...    True    block   \n",
       "3  {'name': 'Aitana Bonmatí', 'firstName': '', 'l...    True     save   \n",
       "4  {'name': 'Geyse Ferreira', 'firstName': '', 'l...    True     miss   \n",
       "5  {'name': 'Fridolina Rolfö', 'firstName': '', '...    True     goal   \n",
       "6  {'name': 'Mariona Caldentey', 'firstName': '',...    True     miss   \n",
       "7  {'name': 'Ewa Pajor', 'slug': 'pajor-ewa', 'sh...   False     save   \n",
       "8  {'name': 'Ewa Pajor', 'slug': 'pajor-ewa', 'sh...   False     save   \n",
       "9  {'name': 'Lena Oberdorf', 'firstName': '', 'la...   False     miss   \n",
       "\n",
       "            situation               playerCoordinates    bodyPart  \\\n",
       "0              corner     {'x': 7.7, 'y': 54, 'z': 0}        head   \n",
       "1              corner   {'x': 2.7, 'y': 40.2, 'z': 0}        head   \n",
       "2           set-piece   {'x': 7.3, 'y': 42.9, 'z': 0}        head   \n",
       "3            assisted  {'x': 18.1, 'y': 53.6, 'z': 0}  right-foot   \n",
       "4          fast-break   {'x': 9.8, 'y': 71.3, 'z': 0}  right-foot   \n",
       "5            assisted   {'x': 6.7, 'y': 44.9, 'z': 0}   left-foot   \n",
       "6            assisted   {'x': 7.8, 'y': 55.5, 'z': 0}  right-foot   \n",
       "7          fast-break  {'x': 11.4, 'y': 32.4, 'z': 0}  right-foot   \n",
       "8            assisted  {'x': 11.4, 'y': 31.8, 'z': 0}  right-foot   \n",
       "9  throw-in-set-piece     {'x': 9.3, 'y': 41, 'z': 0}  right-foot   \n",
       "\n",
       "  goalMouthLocation            goalMouthCoordinates  \\\n",
       "0       high-centre  {'x': 0, 'y': 51.7, 'z': 21.5}   \n",
       "1        low-centre    {'x': 0, 'y': 51.2, 'z': 19}   \n",
       "2        low-centre    {'x': 0, 'y': 51.6, 'z': 19}   \n",
       "3        low-centre  {'x': 0, 'y': 49.7, 'z': 17.1}   \n",
       "4        high-right  {'x': 0, 'y': 41.8, 'z': 66.7}   \n",
       "5        high-right  {'x': 0, 'y': 47.1, 'z': 24.7}   \n",
       "6       close-right   {'x': 0, 'y': 40.8, 'z': 9.7}   \n",
       "7         high-left  {'x': 0, 'y': 52.3, 'z': 20.9}   \n",
       "8        low-centre   {'x': 0, 'y': 51.5, 'z': 1.9}   \n",
       "9         high-left  {'x': 0, 'y': 56.3, 'z': 81.9}   \n",
       "\n",
       "                blockCoordinates       id  time  addedTime  timeSeconds  \\\n",
       "0    {'x': 1, 'y': 52.5, 'z': 0}  2068363    90        9.0         5910   \n",
       "1  {'x': 1.4, 'y': 44.4, 'z': 0}  2068297    80        NaN         4748   \n",
       "2    {'x': 5.8, 'y': 44, 'z': 0}  2068287    78        NaN         4675   \n",
       "3  {'x': 1.2, 'y': 51.3, 'z': 0}  2068275    76        NaN         4511   \n",
       "4                            NaN  2068267    72        NaN         4295   \n",
       "5                            NaN  2068254    70        NaN         4177   \n",
       "6  {'x': 4.5, 'y': 56.7, 'z': 0}  2068262    70        NaN         4171   \n",
       "7  {'x': 1.8, 'y': 47.3, 'z': 0}  2068253    69        NaN         4102   \n",
       "8  {'x': 2.2, 'y': 45.8, 'z': 0}  2068250    67        NaN         4018   \n",
       "9                            NaN  2068237    65        NaN         3886   \n",
       "\n",
       "                                                draw  reversedPeriodTime  \\\n",
       "0  {'start': {'x': 54, 'y': 7.7}, 'block': {'x': ...                   1   \n",
       "1  {'start': {'x': 40.2, 'y': 2.7}, 'block': {'x'...                  11   \n",
       "2  {'start': {'x': 42.9, 'y': 7.3}, 'block': {'x'...                  13   \n",
       "3  {'start': {'x': 53.6, 'y': 18.1}, 'block': {'x...                  15   \n",
       "4  {'start': {'x': 71.3, 'y': 9.8}, 'end': {'x': ...                  19   \n",
       "5  {'start': {'x': 44.9, 'y': 6.7}, 'end': {'x': ...                  21   \n",
       "6  {'start': {'x': 55.5, 'y': 7.8}, 'block': {'x'...                  21   \n",
       "7  {'start': {'x': 32.4, 'y': 11.4}, 'block': {'x...                  22   \n",
       "8  {'start': {'x': 31.8, 'y': 11.4}, 'block': {'x...                  24   \n",
       "9  {'start': {'x': 41, 'y': 9.3}, 'end': {'x': 43...                  26   \n",
       "\n",
       "   reversedPeriodTimeSeconds incidentType goalType  \n",
       "0                        390         shot      NaN  \n",
       "1                        652         shot      NaN  \n",
       "2                        725         shot      NaN  \n",
       "3                        889         shot      NaN  \n",
       "4                       1105         shot      NaN  \n",
       "5                       1223         shot  regular  \n",
       "6                       1229         shot      NaN  \n",
       "7                       1298         shot      NaN  \n",
       "8                       1382         shot      NaN  \n",
       "9                       1514         shot      NaN  "
      ]
     },
     "execution_count": 21,
     "metadata": {},
     "output_type": "execute_result"
    }
   ],
   "source": [
    "df.head(10)"
   ]
  },
  {
   "cell_type": "code",
   "execution_count": null,
   "id": "ea50ea7f9dedaae1",
   "metadata": {
    "collapsed": false,
    "jupyter": {
     "outputs_hidden": false
    }
   },
   "outputs": [],
   "source": []
  }
 ],
 "metadata": {
  "kernelspec": {
   "display_name": "Python 3 (ipykernel)",
   "language": "python",
   "name": "python3"
  },
  "language_info": {
   "codemirror_mode": {
    "name": "ipython",
    "version": 3
   },
   "file_extension": ".py",
   "mimetype": "text/x-python",
   "name": "python",
   "nbconvert_exporter": "python",
   "pygments_lexer": "ipython3",
   "version": "3.12.0"
  }
 },
 "nbformat": 4,
 "nbformat_minor": 5
}
